{
 "cells": [
  {
   "cell_type": "markdown",
   "id": "5655fca5-c16c-4573-beda-bccdab30739b",
   "metadata": {},
   "source": [
    "Yunhu's product stock model defines several model parameters:\n",
    "- Product demand in each year (globally)\n",
    "- End-of-life product waste flow each year (globally)\n",
    "- Composition of polymers within each product\n",
    "\n",
    "The product demand is broken down down by region, polymer, sector and year. We want to sum the regions and polymers to get the demand by product for each year.\n",
    "\n",
    "Separately, we want to find the composition of polymers for each product by year (although we are not changing it over time at the moment).\n",
    "\n",
    "Finally, the end of life flow is further broken down by the time-period cohort which is leaving the stock. We don't need that for the calculator, so sum that out.\n",
    "\n",
    "We also need to downsample to include data only for the years modelled in the calculator (2020 to 2050, every 5 years)."
   ]
  },
  {
   "cell_type": "code",
   "execution_count": null,
   "id": "34b19d27",
   "metadata": {
    "tags": []
   },
   "outputs": [],
   "source": [
    "from scipy.io import loadmat\n",
    "import numpy as np\n",
    "import pandas as pd\n",
    "import matplotlib.pyplot as plt\n",
    "from ipywidgets import interact"
   ]
  },
  {
   "cell_type": "code",
   "execution_count": null,
   "id": "f986c650",
   "metadata": {
    "tags": []
   },
   "outputs": [],
   "source": [
    "data = loadmat(\"products_BAU.mat\")"
   ]
  },
  {
   "cell_type": "code",
   "execution_count": null,
   "id": "c401708c",
   "metadata": {
    "tags": []
   },
   "outputs": [],
   "source": [
    "data.keys()"
   ]
  },
  {
   "cell_type": "code",
   "execution_count": null,
   "id": "b6e75f34",
   "metadata": {
    "tags": []
   },
   "outputs": [],
   "source": [
    "t = np.arange(123) + 1978"
   ]
  },
  {
   "cell_type": "code",
   "execution_count": null,
   "id": "6899977c-a659-496a-b9c9-f831660f79a2",
   "metadata": {
    "tags": []
   },
   "outputs": [],
   "source": [
    "t_idx = [list(t).index(y) for y in range(2020, 2051, 5)]\n",
    "t_idx"
   ]
  },
  {
   "cell_type": "markdown",
   "id": "d4f6cbfe",
   "metadata": {},
   "source": [
    "## Inputs\n",
    "\n",
    "Total input to each sector"
   ]
  },
  {
   "cell_type": "code",
   "execution_count": null,
   "id": "481fbf75",
   "metadata": {
    "tags": []
   },
   "outputs": [],
   "source": [
    "def flatten2cells(a):\n",
    "    \"\"\"Flatten 2 extra dimensions in mat file cell arrays.\"\"\"\n",
    "    return np.stack([\n",
    "        np.stack([\n",
    "            a[0, i][0, j]\n",
    "            for j in range(a[0, i].shape[1])\n",
    "        ])\n",
    "        for i in range(a.shape[1])\n",
    "    ])\n",
    "\n",
    "def flatten3cells(a):\n",
    "    \"\"\"Flatten 3 extra dimensions in mat file cell arrays.\"\"\"\n",
    "    return np.stack([\n",
    "        np.stack([\n",
    "            np.stack([\n",
    "                a[0, i][0, j][0, k]\n",
    "                for k in range(a[0, i][0, j].shape[1])\n",
    "            ])\n",
    "            for j in range(a[0, i].shape[1])\n",
    "        ])\n",
    "        for i in range(a.shape[1])\n",
    "    ])"
   ]
  },
  {
   "cell_type": "code",
   "execution_count": null,
   "id": "5a0f5ee3",
   "metadata": {
    "tags": []
   },
   "outputs": [],
   "source": [
    "inp = flatten2cells(data[\"input2sector\"])"
   ]
  },
  {
   "cell_type": "code",
   "execution_count": null,
   "id": "eecc36c4",
   "metadata": {
    "tags": []
   },
   "outputs": [],
   "source": [
    "inp.shape"
   ]
  },
  {
   "cell_type": "markdown",
   "id": "f1c5aa81",
   "metadata": {},
   "source": [
    "8 regions (m), 14 polymers (j), 8 sectors (i), 123 years (k) counting from 1978"
   ]
  },
  {
   "cell_type": "code",
   "execution_count": null,
   "id": "5af018e9",
   "metadata": {
    "tags": []
   },
   "outputs": [],
   "source": [
    "sectors = \"\"\"\\\n",
    "Packaging\n",
    "Transportation\n",
    "Buildings and constructions\n",
    "Electrical and electronic\n",
    "Consumer & institutional\n",
    "Industrial machinery\n",
    "Textile\n",
    "Others\"\"\".splitlines()\n",
    "\n",
    "polymers = \"\"\"\\\n",
    "LDPE\n",
    "LLDPE\n",
    "HDPE\n",
    "PP\n",
    "PS\n",
    "PVC\n",
    "PET\n",
    "PUR\n",
    "Polyester fiber\n",
    "Polyamid fiber\n",
    "Other fiber\n",
    "Rubber (7)\n",
    "Other thermoplastics (6)\n",
    "Other thermosets (2)\n",
    "\"\"\".splitlines()\n",
    "\n",
    "regions = \"\"\"\\\n",
    "North America\n",
    "South America\n",
    "Western and Central Europe\n",
    "Central Europe and Eastern Asia\n",
    "Africa\n",
    "Middle East\n",
    "Northeast Asia\n",
    "South Asia and Pacific\n",
    "\"\"\".splitlines()"
   ]
  },
  {
   "cell_type": "code",
   "execution_count": null,
   "id": "df370521",
   "metadata": {
    "tags": []
   },
   "outputs": [],
   "source": [
    "for i in range(len(sectors)):\n",
    "    plt.plot(t, inp[0, :, i, :].sum(axis=0), label=sectors[i])\n",
    "for i in t_idx:\n",
    "    plt.axvline(t[i], c='k', lw=0.5)\n",
    "plt.legend();"
   ]
  },
  {
   "cell_type": "markdown",
   "id": "ac78f9a8",
   "metadata": {},
   "source": [
    "For each sector the virgin and recycled amounts should sum."
   ]
  },
  {
   "cell_type": "code",
   "execution_count": null,
   "id": "2f5b37a3",
   "metadata": {
    "tags": []
   },
   "outputs": [],
   "source": [
    "inp_v = flatten2cells(data[\"input2sectorvirgin\"])\n",
    "inp_r = flatten2cells(data[\"input2sectorrecycled\"])"
   ]
  },
  {
   "cell_type": "code",
   "execution_count": null,
   "id": "b7368bad",
   "metadata": {
    "tags": []
   },
   "outputs": [],
   "source": [
    "abs((inp_v + inp_r) - inp).max()"
   ]
  },
  {
   "cell_type": "markdown",
   "id": "897a9e21",
   "metadata": {},
   "source": [
    "Yes -- they agree!"
   ]
  },
  {
   "cell_type": "markdown",
   "id": "a6aca185-8420-48a8-a63c-66e19403a620",
   "metadata": {},
   "source": [
    "Sum the regions and polymers to get the total demand for each product/sector:"
   ]
  },
  {
   "cell_type": "code",
   "execution_count": null,
   "id": "af6eb15c-017e-4b58-98b2-aaccdda04052",
   "metadata": {
    "tags": []
   },
   "outputs": [],
   "source": [
    "demands = inp.sum(axis=0).sum(0)\n",
    "plt.plot(t, demands[2])"
   ]
  },
  {
   "cell_type": "code",
   "execution_count": null,
   "id": "e9408bb4-7375-471a-a1ac-9dd55c87b56f",
   "metadata": {
    "tags": []
   },
   "outputs": [],
   "source": [
    "def convert_product_demand(filename, level):\n",
    "    data = loadmat(filename)\n",
    "    inp = flatten2cells(data[\"input2sector\"])\n",
    "    demands = inp.sum(axis=0).sum(axis=0)[:, t_idx]\n",
    "    df = pd.DataFrame([\n",
    "        [level, f\"Z_product[{i}]\"] + list(demands[i, :])\n",
    "        for i in range(len(sectors))\n",
    "    ], columns=[\"level\", \"param\"] + [t[i] for i in t_idx])\n",
    "    df[\"level\"] = df[\"level\"].astype(int)\n",
    "    return df"
   ]
  },
  {
   "cell_type": "code",
   "execution_count": null,
   "id": "9704037c-51b9-4f43-94ce-2cd80b4a4362",
   "metadata": {
    "tags": []
   },
   "outputs": [],
   "source": [
    "Z_product_data = pd.concat([\n",
    "    convert_product_demand(\"products_BAU.mat\", 1),\n",
    "    #convert_product_demand(\"Constant Demand_stephen.mat\", 2),\n",
    "    convert_product_demand(\"products_demand_reduction_50_percent.mat\", 2),\n",
    "    convert_product_demand(\"products_demand_reduction_30_percent.mat\", 3),\n",
    "    convert_product_demand(\"products_demand_reduction_10_percent.mat\", 4),\n",
    "])"
   ]
  },
  {
   "cell_type": "code",
   "execution_count": null,
   "id": "d1eb37fe-6870-426d-a41f-c1703f1b2a7c",
   "metadata": {
    "tags": []
   },
   "outputs": [],
   "source": [
    "df = Z_product_data.set_index([\"param\", \"level\"]).T\n",
    "@interact(i=(0, 7))\n",
    "def plot_region_sector_polymer_shares(i):\n",
    "    df[f\"Z_product[{i}]\"].plot(title=sectors[i]);\n",
    "    #plt.scatter(t_grid[0].ravel(), t_grid[1].ravel(), waste[m, j, i, :, :].T.ravel() / 3, alpha=0.3)\n",
    "    #plt.ylabel(\"Cohort year\");\n",
    "    #plt.xlabel(\"Outflow year\");"
   ]
  },
  {
   "cell_type": "code",
   "execution_count": null,
   "id": "0e207544-162d-479a-8c1e-7dd55b94d20d",
   "metadata": {
    "tags": []
   },
   "outputs": [],
   "source": [
    "Z_product_data"
   ]
  },
  {
   "cell_type": "markdown",
   "id": "1a254d8a",
   "metadata": {},
   "source": [
    "## Waste"
   ]
  },
  {
   "cell_type": "code",
   "execution_count": null,
   "id": "aea51804",
   "metadata": {
    "tags": []
   },
   "outputs": [],
   "source": [
    "waste = flatten3cells(data[\"wastetemporary\"])\n",
    "waste.shape\n",
    "# region, polymer, sector, t_out, t_cohort"
   ]
  },
  {
   "cell_type": "code",
   "execution_count": null,
   "id": "abdb1edd",
   "metadata": {
    "tags": []
   },
   "outputs": [],
   "source": [
    "def convert_product_eol(filename, level):\n",
    "    data = loadmat(filename)\n",
    "    waste = flatten3cells(data[\"wastetemporary\"])\n",
    "    # Sum out region, polymer, and cohort\n",
    "    waste = waste.sum(axis=0).sum(axis=0).sum(axis=2)[:, t_idx]\n",
    "    df = pd.DataFrame([\n",
    "        [level, f\"Z_EOL[{i}]\"] + list(waste[i, :])\n",
    "        for i in range(len(sectors))\n",
    "    ], columns=[\"level\", \"param\"] + [t[i] for i in t_idx])\n",
    "    df[\"level\"] = df[\"level\"].astype(int)\n",
    "    return df"
   ]
  },
  {
   "cell_type": "code",
   "execution_count": null,
   "id": "785e5dd8-44cf-4e60-9048-91eab46f573f",
   "metadata": {
    "tags": []
   },
   "outputs": [],
   "source": [
    "Z_EOL_data = pd.concat([\n",
    "    convert_product_eol(\"products_BAU.mat\", 1),\n",
    "    convert_product_eol(\"products_demand_reduction_50_percent.mat\", 2),\n",
    "    convert_product_eol(\"products_demand_reduction_30_percent.mat\", 3),\n",
    "    convert_product_eol(\"products_demand_reduction_10_percent.mat\", 4),\n",
    "])"
   ]
  },
  {
   "cell_type": "code",
   "execution_count": null,
   "id": "609b331e-d15f-4ba6-817d-3467dfc9550b",
   "metadata": {
    "tags": []
   },
   "outputs": [],
   "source": [
    "df = Z_EOL_data.set_index([\"param\", \"level\"]).T\n",
    "@interact(i=(0, 7))\n",
    "def plot_region_sector_polymer_shares(i):\n",
    "    df[f\"Z_EOL[{i}]\"].plot(title=sectors[i]);"
   ]
  },
  {
   "cell_type": "code",
   "execution_count": null,
   "id": "3753f9b6-a249-432f-b2cf-943299581964",
   "metadata": {
    "tags": []
   },
   "outputs": [],
   "source": [
    "Z_EOL_data"
   ]
  },
  {
   "cell_type": "markdown",
   "id": "91b41a5d-7caa-44c3-b1e0-a221aa6455c2",
   "metadata": {},
   "source": [
    "## Product composition\n",
    "\n",
    "Generate process recipes for the combination of polymers into products.\n",
    "\n",
    "We want this as a global average -- sum regions first."
   ]
  },
  {
   "cell_type": "code",
   "execution_count": null,
   "id": "38ff6da7-dcec-447a-bc7c-d8dac7446675",
   "metadata": {
    "tags": []
   },
   "outputs": [],
   "source": [
    "# sum over polymer types\n",
    "inp_global = inp.sum(axis=0)\n",
    "shares = inp_global / inp_global.sum(axis=0, keepdims=True)"
   ]
  },
  {
   "cell_type": "code",
   "execution_count": null,
   "id": "f6cc898c-b1d3-4d72-a699-60072e86862c",
   "metadata": {
    "tags": []
   },
   "outputs": [],
   "source": [
    "shares.shape"
   ]
  },
  {
   "cell_type": "markdown",
   "id": "c2d1a1de-c570-4801-99f7-2baf78f21b38",
   "metadata": {},
   "source": [
    "14 polymers (j), 8 sectors (i), 123 years (k) counting from 1978"
   ]
  },
  {
   "cell_type": "code",
   "execution_count": null,
   "id": "d212d3c0-1e4e-4f95-91cf-b2803b6cc349",
   "metadata": {
    "tags": []
   },
   "outputs": [],
   "source": [
    "t[42]"
   ]
  },
  {
   "cell_type": "code",
   "execution_count": null,
   "id": "53c23666-fb72-4e56-9dfb-12e7b04ae01e",
   "metadata": {
    "tags": []
   },
   "outputs": [],
   "source": [
    "df = pd.DataFrame(shares[:, 3].T, index=t, columns=polymers)\n",
    "df.plot.area()"
   ]
  },
  {
   "cell_type": "markdown",
   "id": "fbff3d1c-6e68-498a-9dc6-0569604ef000",
   "metadata": {},
   "source": [
    "Since constant composition is assumed from now into the future, use the latest values."
   ]
  },
  {
   "cell_type": "code",
   "execution_count": null,
   "id": "94522ecf-1e1e-45f7-afd4-4fe70cb54ebf",
   "metadata": {
    "tags": []
   },
   "outputs": [],
   "source": [
    "shares_future = shares[:, :, -1]\n",
    "shares_future.shape"
   ]
  },
  {
   "cell_type": "markdown",
   "id": "a98174a5-2ca6-41e6-80ac-adc7044bc23f",
   "metadata": {},
   "source": [
    "Group together the polymer types where we want less detail."
   ]
  },
  {
   "cell_type": "code",
   "execution_count": null,
   "id": "9a7af389-388f-4c21-b20a-226e77c26d6b",
   "metadata": {
    "tags": []
   },
   "outputs": [],
   "source": [
    "process_names = [\n",
    "    \"ProductionOfPackagingProducts\",\n",
    "    \"ProductionOfTransportationProducts\",\n",
    "    \"ProductionOfBuildingsAndConstructionProducts\",\n",
    "    \"ProductionOfElectricalAndElectronicProducts\",\n",
    "    \"ProductionOfConsumerAndInstitutionalProducts\",\n",
    "    \"ProductionOfIndustrialMachinery\",\n",
    "    \"ProductionOfTextileProducts\",\n",
    "    \"ProductionOfOtherProducts\",\n",
    "]\n",
    "\n",
    "object_name_map = {\n",
    "    \"LDPE\": \"ukf:LDPEPolyethylene\",\n",
    "    \"LLDPE\": \"LLDPE\",\n",
    "    \"HDPE\": \"ukf:HDPEPolyethylene\",\n",
    "    \"PP\": \"ukf:PPPolypropylene\",\n",
    "    \"PS\": \"ukf:PSPolystyrene\",\n",
    "    \"PVC\": \"ukf:PVCPolyvinylChloride\",\n",
    "    \"PET\": \"ukf:PETPolyethyleneTerephthalatePolyesters\",\n",
    "    \"PUR\": \"ukf:Polyurethane\",\n",
    "    \"Polyester fiber\": \"FibrePPA\",\n",
    "    \"Polyamid fiber\": \"FibrePPA\",\n",
    "    \"Other fiber\": \"FibrePPA\",\n",
    "    \"Rubber (7)\": \"ukf:SyntheticRubbers\",\n",
    "    \"Other thermoplastics (6)\": \"ukf:OtherPolymers\",\n",
    "    \"Other thermosets (2)\": \"ukf:OtherPolymers\",\n",
    "}"
   ]
  },
  {
   "cell_type": "code",
   "execution_count": null,
   "id": "b7be71be-1426-42eb-bb00-34d1d9e08041",
   "metadata": {
    "tags": []
   },
   "outputs": [],
   "source": [
    "object_names = []\n",
    "for v in object_name_map.values():\n",
    "    if v not in object_names:\n",
    "        object_names.append(v)\n",
    "A = np.zeros((len(object_names), len(polymers)), dtype=int)\n",
    "for k, v in object_name_map.items():\n",
    "    A[object_names.index(v), polymers.index(k)] = 1\n",
    "A"
   ]
  },
  {
   "cell_type": "code",
   "execution_count": null,
   "id": "e47ab2e7-98a9-4b92-aa9c-8cba87430bcf",
   "metadata": {
    "tags": []
   },
   "outputs": [],
   "source": [
    "shares_future_grouped = np.einsum(\"pi, qp -> qi\", shares_future, A)"
   ]
  },
  {
   "cell_type": "code",
   "execution_count": null,
   "id": "e131dc9a-b077-4aed-898a-0e68a6ddb034",
   "metadata": {
    "tags": []
   },
   "outputs": [],
   "source": [
    "shares_future[:, 0]"
   ]
  },
  {
   "cell_type": "code",
   "execution_count": null,
   "id": "7d8ed632-cc73-490f-9569-5a8ce3252824",
   "metadata": {
    "tags": []
   },
   "outputs": [],
   "source": [
    "shares_future_grouped[:, 0]"
   ]
  },
  {
   "cell_type": "code",
   "execution_count": null,
   "id": "b5bed6a7-b241-4a02-addb-e2a5e95c89e0",
   "metadata": {
    "tags": []
   },
   "outputs": [],
   "source": [
    "print(\"\"\"\n",
    "<!-- WARNING: THESE DEFINITIONS ARE GENERATED AUTOMATICALLY -->\n",
    "<!--          DO NOT EDIT BY HAND                           -->\n",
    "<!--                                                        -->\n",
    "<!-- Generated by \"Convert product model.ipynb\"             -->\n",
    "\n",
    "\"\"\")\n",
    "for k in range(len(process_names)):\n",
    "    p = process_names[k]\n",
    "    output_obj = p.replace(\"ProductionOf\", \"\")\n",
    "    print(f\"```{{system:process}} {p}\")\n",
    "    print(f\"---\")\n",
    "    print(f\"produces: |\")\n",
    "    print(f\"    {output_obj:<50} = 1 kg\")\n",
    "    print(f\"consumes: |\")\n",
    "    for m in range(len(object_names)):\n",
    "        input_obj = object_names[m]\n",
    "        amount = shares_future_grouped[m, k]\n",
    "        if amount > 1e-3:\n",
    "            print(f\"    {input_obj:<50} = {amount:.3f} kg\")\n",
    "    print(f\"---\")\n",
    "    print(f\"```\")\n",
    "    print()\n",
    "\n",
    "print(\"\"\"\n",
    "<!-- WARNING: THESE DEFINITIONS ARE GENERATED AUTOMATICALLY -->\n",
    "<!--          DO NOT EDIT BY HAND                           -->\n",
    "<!--                                                        -->\n",
    "<!-- Generated by \"Convert product model.ipynb\"             -->\n",
    "\n",
    "\"\"\")\n",
    "    \n",
    "for k in range(len(process_names)):\n",
    "    p = process_names[k]\n",
    "    input_obj = p.replace(\"ProductionOf\", \"\")\n",
    "    print(f\"```{{system:process}} EOLProcessing{input_obj}\")\n",
    "    print(f\"---\")\n",
    "    print(f\"consumes: |\")\n",
    "    print(f\"    EOL{input_obj:<47} = 1 kg\")\n",
    "    print(f\"produces: |\")\n",
    "    for m in range(len(object_names)):\n",
    "        output_obj = object_names[m].replace(\"ukf:\", \"\") + \"AtEOL\"\n",
    "        amount = shares_future_grouped[m, k]\n",
    "        if amount > 1e-3:\n",
    "            print(f\"    {output_obj:<50} = {amount:.3f} kg\")\n",
    "    print(f\"---\")\n",
    "    print(f\"```\")\n",
    "    print()"
   ]
  },
  {
   "cell_type": "code",
   "execution_count": null,
   "id": "9a0fe0f5-9dfc-4e5a-83c3-0e7bdf43b13e",
   "metadata": {},
   "outputs": [],
   "source": []
  }
 ],
 "metadata": {
  "kernelspec": {
   "display_name": "Python 3 (ipykernel)",
   "language": "python",
   "name": "python3"
  },
  "language_info": {
   "codemirror_mode": {
    "name": "ipython",
    "version": 3
   },
   "file_extension": ".py",
   "mimetype": "text/x-python",
   "name": "python",
   "nbconvert_exporter": "python",
   "pygments_lexer": "ipython3",
   "version": "3.10.10"
  }
 },
 "nbformat": 4,
 "nbformat_minor": 5
}
