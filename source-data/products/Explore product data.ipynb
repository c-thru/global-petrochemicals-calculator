{
 "cells": [
  {
   "cell_type": "code",
   "execution_count": null,
   "id": "34b19d27",
   "metadata": {},
   "outputs": [],
   "source": [
    "from scipy.io import loadmat\n",
    "import numpy as np\n",
    "import matplotlib.pyplot as plt"
   ]
  },
  {
   "cell_type": "code",
   "execution_count": null,
   "id": "f986c650",
   "metadata": {},
   "outputs": [],
   "source": [
    "data = loadmat(\"products_BAU.mat\")"
   ]
  },
  {
   "cell_type": "code",
   "execution_count": null,
   "id": "c401708c",
   "metadata": {},
   "outputs": [],
   "source": [
    "data.keys()"
   ]
  },
  {
   "cell_type": "markdown",
   "id": "d4f6cbfe",
   "metadata": {},
   "source": [
    "## Inputs\n",
    "\n",
    "Total input to each sector"
   ]
  },
  {
   "cell_type": "code",
   "execution_count": null,
   "id": "481fbf75",
   "metadata": {},
   "outputs": [],
   "source": [
    "def flatten2cells(a):\n",
    "    \"\"\"Flatten 2 extra dimensions in mat file cell arrays.\"\"\"\n",
    "    return np.stack([\n",
    "        np.stack([\n",
    "            a[0, i][0, j]\n",
    "            for j in range(a[0, i].shape[1])\n",
    "        ])\n",
    "        for i in range(a.shape[1])\n",
    "    ])\n",
    "\n",
    "def flatten3cells(a):\n",
    "    \"\"\"Flatten 3 extra dimensions in mat file cell arrays.\"\"\"\n",
    "    return np.stack([\n",
    "        np.stack([\n",
    "            np.stack([\n",
    "                a[0, i][0, j][0, k]\n",
    "                for k in range(a[0, i][0, j].shape[1])\n",
    "            ])\n",
    "            for j in range(a[0, i].shape[1])\n",
    "        ])\n",
    "        for i in range(a.shape[1])\n",
    "    ])"
   ]
  },
  {
   "cell_type": "code",
   "execution_count": null,
   "id": "5a0f5ee3",
   "metadata": {},
   "outputs": [],
   "source": [
    "inp = flatten2cells(data[\"input2sector\"])"
   ]
  },
  {
   "cell_type": "code",
   "execution_count": null,
   "id": "eecc36c4",
   "metadata": {},
   "outputs": [],
   "source": [
    "inp.shape"
   ]
  },
  {
   "cell_type": "markdown",
   "id": "f1c5aa81",
   "metadata": {},
   "source": [
    "8 regions (m), 14 polymers (j), 8 sectors (i), 123 years (k) counting from 1978"
   ]
  },
  {
   "cell_type": "code",
   "execution_count": null,
   "id": "b6e75f34",
   "metadata": {},
   "outputs": [],
   "source": [
    "t = np.arange(123) + 1978"
   ]
  },
  {
   "cell_type": "code",
   "execution_count": null,
   "id": "5af018e9",
   "metadata": {},
   "outputs": [],
   "source": [
    "sectors = \"\"\"\\\n",
    "Packaging\n",
    "Transportation\n",
    "Buildings and constructions\n",
    "Electrical and electronic\n",
    "Consumer & institutional\n",
    "Industrial machinery\n",
    "Textile\n",
    "Others\"\"\".splitlines()\n",
    "\n",
    "polymers = \"\"\"\\\n",
    "LDPE\n",
    "LLDPE\n",
    "HDPE\n",
    "PP\n",
    "PS\n",
    "PVC\n",
    "PET\n",
    "PUR\n",
    "Polyester fiber\n",
    "Polyamid fiber\n",
    "Other fiber\n",
    "Rubber (7)\n",
    "Other thermoplastics (6)\n",
    "Other thermosets (2)\n",
    "\"\"\".splitlines()\n",
    "\n",
    "regions = \"\"\"\\\n",
    "North America\n",
    "South America\n",
    "Western and Central Europe\n",
    "Central Europe and Eastern Asia\n",
    "Africa\n",
    "Middle East\n",
    "Northeast Asia\n",
    "South Asia and Pacific\n",
    "\"\"\".splitlines()"
   ]
  },
  {
   "cell_type": "code",
   "execution_count": null,
   "id": "df370521",
   "metadata": {},
   "outputs": [],
   "source": [
    "for i in range(len(sectors)):\n",
    "    plt.plot(t, inp[0, :, i, :].sum(axis=0), label=sectors[i])\n",
    "plt.legend();"
   ]
  },
  {
   "cell_type": "markdown",
   "id": "ac78f9a8",
   "metadata": {},
   "source": [
    "For each sector the virgin and recycled amounts should sum."
   ]
  },
  {
   "cell_type": "code",
   "execution_count": null,
   "id": "2f5b37a3",
   "metadata": {},
   "outputs": [],
   "source": [
    "inp_v = flatten2cells(data[\"input2sectorvirgin\"])\n",
    "inp_r = flatten2cells(data[\"input2sectorrecycled\"])"
   ]
  },
  {
   "cell_type": "code",
   "execution_count": null,
   "id": "b7368bad",
   "metadata": {},
   "outputs": [],
   "source": [
    "abs((inp_v + inp_r) - inp).max()"
   ]
  },
  {
   "cell_type": "markdown",
   "id": "897a9e21",
   "metadata": {},
   "source": [
    "Yes -- they agree!"
   ]
  },
  {
   "cell_type": "markdown",
   "id": "52be9030",
   "metadata": {},
   "source": [
    "The ratios should be consistent with the input data?"
   ]
  },
  {
   "cell_type": "code",
   "execution_count": null,
   "id": "34664f4e",
   "metadata": {},
   "outputs": [],
   "source": [
    "ratio = flatten2cells(data[\"ratioPlminSec\"])[:, :, 0, :]\n",
    "ratio.shape\n",
    "# region, sector, polymer"
   ]
  },
  {
   "cell_type": "markdown",
   "id": "2d62d969",
   "metadata": {},
   "source": [
    "All sum to 1 over polymers:"
   ]
  },
  {
   "cell_type": "code",
   "execution_count": null,
   "id": "6b53f78f",
   "metadata": {},
   "outputs": [],
   "source": [
    "ratio.sum(axis=-1)"
   ]
  },
  {
   "cell_type": "markdown",
   "id": "2d39d0dd",
   "metadata": {},
   "source": [
    "All the ratios of `inp` for the year 2019 are consistent with these ratios:"
   ]
  },
  {
   "cell_type": "code",
   "execution_count": null,
   "id": "c203723d",
   "metadata": {},
   "outputs": [],
   "source": [
    "max([\n",
    "    abs(inp[m, :, i, 44] / inp[m, :, i, 44].sum() - ratio[m, i, :]).max()\n",
    "    for m in range(8)\n",
    "    for i in range(8)\n",
    "])"
   ]
  },
  {
   "cell_type": "markdown",
   "id": "58d81efa",
   "metadata": {},
   "source": [
    "How have the ratios changed?"
   ]
  },
  {
   "cell_type": "code",
   "execution_count": null,
   "id": "49b42b0f",
   "metadata": {},
   "outputs": [],
   "source": [
    "from ipywidgets import interact\n",
    "@interact(m=(0, 7), i=(0, 7))\n",
    "def plot_region_sector_polymer_shares(m, i):\n",
    "    shares = inp[m, :, i, :] / inp[m, :, i, :].sum(axis=0, keepdims=True)\n",
    "    plt.stackplot(t, shares, labels=polymers)\n",
    "    plt.title(f\"{regions[m]} | {sectors[i]}\")\n",
    "    plt.legend(loc=\"center left\", bbox_to_anchor=(1, 0.5))"
   ]
  },
  {
   "cell_type": "markdown",
   "id": "1a254d8a",
   "metadata": {},
   "source": [
    "## Waste"
   ]
  },
  {
   "cell_type": "code",
   "execution_count": null,
   "id": "aea51804",
   "metadata": {},
   "outputs": [],
   "source": [
    "waste = flatten3cells(data[\"wastetemporary\"])\n",
    "waste.shape\n",
    "# region, polymer, sector, t_out, t_cohort"
   ]
  },
  {
   "cell_type": "code",
   "execution_count": null,
   "id": "66d4a89f",
   "metadata": {},
   "outputs": [],
   "source": [
    "t_grid = np.meshgrid(t, t)\n",
    "@interact(m=(0, 7), j=(0, 13), i=(0, 7))\n",
    "def plot_region_sector_polymer_shares(m, j, i):\n",
    "    plt.title(f\"{regions[m]} | {polymers[j]} | {sectors[i]}\")\n",
    "    plt.scatter(t_grid[0].ravel(), t_grid[1].ravel(), waste[m, j, i, :, :].T.ravel() / 3, alpha=0.3)\n",
    "    plt.ylabel(\"Cohort year\");\n",
    "    plt.xlabel(\"Outflow year\");"
   ]
  },
  {
   "cell_type": "code",
   "execution_count": null,
   "id": "22de01bc",
   "metadata": {},
   "outputs": [],
   "source": [
    "m = 0\n",
    "j = 4\n",
    "i = 2\n",
    "waste[m, j, i, :, :] / waste[m, j, i, :, :].sum(axis=-1, keepdims=True)"
   ]
  },
  {
   "cell_type": "code",
   "execution_count": null,
   "id": "bf2609b8",
   "metadata": {},
   "outputs": [],
   "source": [
    "t_grid = np.meshgrid(t, t)\n",
    "@interact(m=(0, 7), j=(0, 13), i=(0, 7))\n",
    "def plot_region_sector_polymer_shares(m, j, i):\n",
    "    plt.title(f\"{regions[m]} | {polymers[j]} | {sectors[i]}\")\n",
    "    #with np.errstate(divide='ignore', invalid='ignore'):\n",
    "    #    cohort_shares = waste[m, j, i, :, :] / waste[m, j, i, :, :].sum(axis=0, keepdims=True)\n",
    "    #cohort_shares[0] = np.nan\n",
    "    plt.contourf(t, t, waste[m, j, i, :, :].T)\n",
    "    plt.ylabel(\"Cohort year\");\n",
    "    plt.xlabel(\"Outflow year\");"
   ]
  },
  {
   "cell_type": "code",
   "execution_count": null,
   "id": "abdb1edd",
   "metadata": {},
   "outputs": [],
   "source": []
  }
 ],
 "metadata": {
  "kernelspec": {
   "display_name": "Python 3 (ipykernel)",
   "language": "python",
   "name": "python3"
  },
  "language_info": {
   "codemirror_mode": {
    "name": "ipython",
    "version": 3
   },
   "file_extension": ".py",
   "mimetype": "text/x-python",
   "name": "python",
   "nbconvert_exporter": "python",
   "pygments_lexer": "ipython3",
   "version": "3.10.10"
  }
 },
 "nbformat": 4,
 "nbformat_minor": 5
}
