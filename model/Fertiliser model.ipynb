{
 "cells": [
  {
   "cell_type": "markdown",
   "id": "99c251fc-2b50-4854-9a33-d0ba6ce46731",
   "metadata": {},
   "source": [
    "\n",
    "# Fertiliser emissions"
   ]
  },
  {
   "cell_type": "code",
   "execution_count": null,
   "id": "8230d6d6-6082-4c37-88af-17c07b9eeae0",
   "metadata": {},
   "outputs": [],
   "source": [
    "import numpy as np\n",
    "import logging\n",
    "#logging.getLogger(\"imperative_model\").setLevel(logging.DEBUG)\n",
    "#logging.basicConfig(level=logging.DEBUG)"
   ]
  },
  {
   "cell_type": "code",
   "execution_count": null,
   "id": "952806f7-a9da-41df-aa74-08304665699a",
   "metadata": {
    "tags": []
   },
   "outputs": [],
   "source": [
    "%load_ext autoreload\n",
    "%autoreload 2"
   ]
  },
  {
   "cell_type": "code",
   "execution_count": null,
   "id": "7546d922",
   "metadata": {},
   "outputs": [],
   "source": [
    "import load_model\n",
    "model, recipe_data = load_model.load_model()"
   ]
  },
  {
   "cell_type": "code",
   "execution_count": null,
   "id": "574faa15-034d-4fda-90bf-6ef198f6289d",
   "metadata": {},
   "outputs": [],
   "source": [
    "%run load_model_fertilisers.py\n",
    "define_fertiliser_model(model)"
   ]
  },
  {
   "cell_type": "code",
   "execution_count": null,
   "id": "fe97d86c",
   "metadata": {},
   "outputs": [],
   "source": [
    "flows_sym = model.to_flows(recipe_data)"
   ]
  },
  {
   "cell_type": "code",
   "execution_count": null,
   "id": "92b3d718",
   "metadata": {},
   "outputs": [],
   "source": [
    "func = model.lambdify(list(flows_sym.value.values), recipe_data)"
   ]
  },
  {
   "cell_type": "code",
   "execution_count": null,
   "id": "99997a58-51af-47fc-a12a-2ba73b3fbe05",
   "metadata": {
    "tags": []
   },
   "outputs": [],
   "source": [
    "# Define a demand profile for the fertilisers"
   ]
  },
  {
   "cell_type": "code",
   "execution_count": null,
   "id": "1bcfa40c-7ccb-4bf8-a7c4-ef1acc309820",
   "metadata": {},
   "outputs": [],
   "source": [
    "tvals = np.arange(2020, 2051, 1)\n",
    "#tvals"
   ]
  },
  {
   "cell_type": "code",
   "execution_count": null,
   "id": "688154d0-7698-4198-b5d3-ab587ea4e53a",
   "metadata": {},
   "outputs": [],
   "source": [
    "t = sy.symbols(\"t\")\n",
    "#t"
   ]
  },
  {
   "cell_type": "code",
   "execution_count": null,
   "id": "30f07331-498b-40f5-9beb-dc5997765cff",
   "metadata": {},
   "outputs": [],
   "source": [
    "def linear_ramp(t1, t2, y1, y2):\n",
    "    frac = sy.Min(1, sy.Max(0, (t - t1) / (t2 - t1)))\n",
    "    return y1 + frac * (y2 - y1)"
   ]
  },
  {
   "cell_type": "code",
   "execution_count": null,
   "id": "67426ff4-3a73-4cb8-91c3-2257c8b1bdbb",
   "metadata": {},
   "outputs": [],
   "source": [
    "#import matplotlib.pyplot as plt\n",
    "import bqplot.pyplot as plt\n",
    "def evalt(y):\n",
    "    return np.vectorize(sy.lambdify(t, y))(tvals)\n",
    "def plott(y):\n",
    "    return plt.plot(tvals, evalt(y))\n",
    "#plt.figure()\n",
    "#plott(linear_ramp(2033, 2040, 5, 9))\n",
    "#plt.show()"
   ]
  },
  {
   "cell_type": "code",
   "execution_count": null,
   "id": "7e4e3084-380e-4c00-b25f-481ce158fbe7",
   "metadata": {},
   "outputs": [],
   "source": [
    "#linear_ramp(2033, 2040, 5, 9).subs({t: 2050})"
   ]
  },
  {
   "cell_type": "code",
   "execution_count": null,
   "id": "18910011-acc2-42ce-bf12-1a4a1db468be",
   "metadata": {},
   "outputs": [],
   "source": [
    "import tomli"
   ]
  },
  {
   "cell_type": "code",
   "execution_count": null,
   "id": "ad5d3fa5-c04d-4445-a937-9b447f94445d",
   "metadata": {},
   "outputs": [],
   "source": [
    "with open(\"levers.toml\", \"rb\") as f:\n",
    "    levers = tomli.load(f)"
   ]
  },
  {
   "cell_type": "code",
   "execution_count": null,
   "id": "25a7a843-9f49-4847-b1d5-27dd52435f45",
   "metadata": {},
   "outputs": [],
   "source": [
    "def data_from_levers(ti, levels):\n",
    "    result = {}\n",
    "    # XXX don't have to do this every time\n",
    "    #for symbol, row in constants.iterrows():\n",
    "    #    result[symbol] = row[\"Value\"]\n",
    "    for lever, data in levers.items():\n",
    "        if lever in levels:\n",
    "            level_data = data[\"levels\"][str(levels[lever])]\n",
    "            for symbol, symbol_data in level_data[\"knobs\"].items():\n",
    "                if \"value\" in symbol_data:\n",
    "                    y = symbol_data[\"value\"]\n",
    "                    if isinstance(y, list):\n",
    "                        result[symbol] = [\n",
    "                            sy.S(y[i]).evalf(subs={t: ti}) for i in range(len(y))\n",
    "                        ]\n",
    "                    else:\n",
    "                        result[symbol] = sy.S(y).evalf(subs={t: ti})\n",
    "                elif \"values\" in symbol_data:\n",
    "                    assert \"years\" in symbol_data\n",
    "                    assert len(symbol_data[\"years\"]) == len(symbol_data[\"values\"]) == 2\n",
    "                    t1, t2 = symbol_data[\"years\"]\n",
    "                    y1, y2 = symbol_data[\"values\"]\n",
    "                    if isinstance(y1, list):\n",
    "                        result[symbol] = [\n",
    "                            sy.S(linear_ramp(t1, t2, y1[i], y2[i])).evalf(subs={t: ti})\n",
    "                            for i in range(len(y1))\n",
    "                        ]\n",
    "                    else:\n",
    "                        result[symbol] = sy.S(linear_ramp(t1, t2, y1, y2)).evalf(subs={t: ti})\n",
    "                else:\n",
    "                    raise ValueError(\"unknown data for symbol %s: %s\" % (symbol, symbol_data))\n",
    "    return result"
   ]
  },
  {
   "cell_type": "code",
   "execution_count": null,
   "id": "68868c52-d335-403b-b1e8-770919e27132",
   "metadata": {},
   "outputs": [],
   "source": [
    "import ipywidgets\n",
    "style = {'description_width': 'initial'}\n",
    "\n",
    "def lever_widget(lever_id):\n",
    "    info = levers[lever_id]\n",
    "    options = [\n",
    "        (v[\"description\"], k)\n",
    "        for k, v in info[\"levels\"].items()\n",
    "    ]\n",
    "    return ipywidgets.RadioButtons(options=options, description=info[\"label\"], style=style, layout=ipywidgets.Layout(width='50%'))"
   ]
  },
  {
   "cell_type": "code",
   "execution_count": null,
   "id": "a32c1bb1",
   "metadata": {},
   "outputs": [],
   "source": [
    "values = func({str(x): y for x, y in data_from_levers(2050, {\"fertiliser_demand\": 1}).items()})"
   ]
  },
  {
   "cell_type": "code",
   "execution_count": null,
   "id": "50c7585c-5885-4095-b8be-31fde3a5a848",
   "metadata": {},
   "outputs": [],
   "source": [
    "flows = flows_sym.copy()\n",
    "flows.value[:] = values\n",
    "#flows[flows.value > 0]"
   ]
  },
  {
   "cell_type": "code",
   "execution_count": null,
   "id": "66b95b1b-99be-4045-9d5f-f1a3188fe150",
   "metadata": {},
   "outputs": [],
   "source": [
    "from ipysankeywidget import SankeyWidget\n",
    "from ipywidgets import Layout\n",
    "w = SankeyWidget(links=flows.to_dict(orient='records'), layout=Layout(width=\"700\", height=\"300\"), margins=dict(left=250, right=50))\n",
    "w.order = [\n",
    "    list(sorted(k for k in flows.source.unique() if k.startswith(\"ProductionOf\"))),\n",
    "    list(sorted(k for k in flows.material.unique())),\n",
    "    list(sorted(k for k in flows.target.unique() if k.startswith(\"UseOf\"))),\n",
    "]"
   ]
  },
  {
   "cell_type": "code",
   "execution_count": null,
   "id": "a64b9fd7",
   "metadata": {},
   "outputs": [],
   "source": [
    "post_funcs = {\n",
    "    \"GHG_fertiliser_prod\": sy.lambdify([E_fertiliser_prod, Z_fertiliser], post[\"GHG_fertiliser_prod\"]),\n",
    "    \"GHG_fertiliser_use\": sy.lambdify([E_fertiliser_use, Z_fertiliser], post[\"GHG_fertiliser_use\"]),\n",
    "}"
   ]
  },
  {
   "cell_type": "code",
   "execution_count": null,
   "id": "8628777d",
   "metadata": {},
   "outputs": [],
   "source": [
    "calc_GHG_fertiliers_y(params_t)[1][0]"
   ]
  },
  {
   "cell_type": "code",
   "execution_count": null,
   "id": "7ce7265d-3f17-4e41-8f38-87941ca56716",
   "metadata": {},
   "outputs": [],
   "source": [
    "fig = plt.figure(layout=dict(height=\"300px\", width=\"500px\"))\n",
    "fig.animation_duration = 500\n",
    "params_t = [\n",
    "    data_from_levers(ti, {\"fertiliser_demand\": 1, \"fertiliser_use_phase\": 1, \"fertiliser_production\": 1})\n",
    "    for ti in tvals\n",
    "]\n",
    "def calc_GHG_fertiliers_y(params_t):\n",
    "    y1 = [float(post_funcs[\"GHG_fertiliser_prod\"](p[\"E_fertiliser_prod\"], p[\"Z_fertiliser\"])) for p in params_t]\n",
    "    y2 = [float(post_funcs[\"GHG_fertiliser_use\"](p[\"E_fertiliser_use\"], p[\"Z_fertiliser\"])) for p in params_t]\n",
    "    return [\n",
    "        0*tvals, \n",
    "        y1, \n",
    "        np.array(y1)+np.array(y2)\n",
    "    ]\n",
    "lines = plt.plot(tvals, calc_GHG_fertiliers_y(params_t), fill=\"between\")\n",
    "plt.ylim(0, 2.1); plt.xlabel(\"Year\"); plt.ylabel(\"Emissions\");"
   ]
  },
  {
   "cell_type": "code",
   "execution_count": null,
   "id": "f5deccf4-c165-41ae-8ba1-6d8f32baf6eb",
   "metadata": {
    "tags": []
   },
   "outputs": [],
   "source": [
    "ipywidgets.HBox([fig, w])"
   ]
  },
  {
   "cell_type": "code",
   "execution_count": null,
   "id": "41ea6442-b3a2-4a97-9604-77aabbd4d784",
   "metadata": {},
   "outputs": [],
   "source": [
    "import ipywidgets\n",
    "from ipywidgets import interact\n",
    "\n",
    "@interact(l1=lever_widget(\"fertiliser_demand\"), \n",
    "          l2=lever_widget(\"fertiliser_use_phase\"),\n",
    "          l3=lever_widget(\"fertiliser_production\"),\n",
    "          ti=(2020., 2050.))\n",
    "def calc_flows_levels(l1=1, l2=1, l3=1, ti=2050):\n",
    "    levels = {\"fertiliser_demand\": l1, \"fertiliser_use_phase\": l2, \"fertiliser_production\": l3}\n",
    "    params = data_from_levers(ti, levels)\n",
    "    params_t = [\n",
    "        data_from_levers(ti, levels)\n",
    "        for ti in tvals\n",
    "    ]\n",
    "    flows.value[:] = func({str(x): y for x, y in params.items()})\n",
    "    w.links = flows.to_dict(orient='records')\n",
    "    lines.y = calc_GHG_fertiliers_y(params_t)"
   ]
  },
  {
   "cell_type": "code",
   "execution_count": null,
   "id": "adf86c94",
   "metadata": {},
   "outputs": [],
   "source": []
  }
 ],
 "metadata": {
  "kernelspec": {
   "display_name": "Python 3 (ipykernel)",
   "language": "python",
   "name": "python3"
  },
  "language_info": {
   "codemirror_mode": {
    "name": "ipython",
    "version": 3
   },
   "file_extension": ".py",
   "mimetype": "text/x-python",
   "name": "python",
   "nbconvert_exporter": "python",
   "pygments_lexer": "ipython3",
   "version": "3.10.10"
  }
 },
 "nbformat": 4,
 "nbformat_minor": 5
}
