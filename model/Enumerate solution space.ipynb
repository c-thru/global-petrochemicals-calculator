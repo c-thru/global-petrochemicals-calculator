{
 "cells": [
  {
   "cell_type": "markdown",
   "id": "99a07bde",
   "metadata": {},
   "source": [
    "# Enumerate model solution space\n",
    "\n",
    "This notebook loads the levers data and model, and tries to enumerate all the solutions in the solution space (i.e. all combinations of lever settings)."
   ]
  },
  {
   "cell_type": "code",
   "execution_count": null,
   "id": "3419f300",
   "metadata": {
    "tags": []
   },
   "outputs": [],
   "source": [
    "import numpy as np\n",
    "import logging\n",
    "import re\n",
    "import pandas as pd\n",
    "import json"
   ]
  },
  {
   "cell_type": "code",
   "execution_count": null,
   "id": "23856c7e",
   "metadata": {
    "tags": []
   },
   "outputs": [],
   "source": [
    "%load_ext autoreload\n",
    "%autoreload 2"
   ]
  },
  {
   "cell_type": "markdown",
   "id": "0af8ac22",
   "metadata": {
    "tags": []
   },
   "source": [
    "## Define levers\n",
    "\n",
    "Load from `levels.xlsx`"
   ]
  },
  {
   "cell_type": "code",
   "execution_count": null,
   "id": "5f4df41e",
   "metadata": {
    "tags": []
   },
   "outputs": [],
   "source": [
    "from load_levers import read_levers\n",
    "levers = read_levers(\"levers.xlsx\")"
   ]
  },
  {
   "cell_type": "markdown",
   "id": "76efbd96-2bd6-4dd9-b354-c0e11d75ac07",
   "metadata": {
    "tags": []
   },
   "source": [
    "## Model"
   ]
  },
  {
   "cell_type": "code",
   "execution_count": null,
   "id": "9da4bba6-a8c4-4c59-b392-6b5ceaa42e93",
   "metadata": {
    "tags": []
   },
   "outputs": [],
   "source": [
    "import load_model\n",
    "model_data = load_model.load_model()"
   ]
  },
  {
   "cell_type": "code",
   "execution_count": null,
   "id": "80abc1b0-33f3-45f8-922f-281dbc9d1e87",
   "metadata": {
    "tags": []
   },
   "outputs": [],
   "source": [
    "model, recipe_data = load_model.build_model(model_data)\n",
    "other_results = load_model.define_model(model, recipe_data, levers)"
   ]
  },
  {
   "cell_type": "code",
   "execution_count": null,
   "id": "329714c9",
   "metadata": {
    "tags": []
   },
   "outputs": [],
   "source": [
    "flows_sym = model.to_flows(recipe_data, flow_ids=True)\n",
    "func = model.lambdify(recipe_data)\n",
    "func_other = model.lambdify(data=recipe_data, expressions=other_results)"
   ]
  },
  {
   "cell_type": "markdown",
   "id": "0c3b1d88",
   "metadata": {},
   "source": [
    "# Use lever levels to get test parameter settings\n",
    "\n",
    "If we want to see what the model output looks like for specific lever settings, use them here to find the parameter settings that can go into the model.\n",
    "\n",
    "This duplicates the logic that is built into the interactive calculator app, which does this to re-run the model every time the levers are changed."
   ]
  },
  {
   "cell_type": "code",
   "execution_count": null,
   "id": "a7e38cbe",
   "metadata": {
    "tags": []
   },
   "outputs": [],
   "source": [
    "def get_model_output(lever_settings, time_index):\n",
    "    params = levers.get_params(lever_settings, time_index=time_index)\n",
    "    result = func_other(params)\n",
    "    return result"
   ]
  },
  {
   "cell_type": "code",
   "execution_count": null,
   "id": "741c41b8-956c-4f3a-bfd4-52b2a7083408",
   "metadata": {
    "tags": []
   },
   "outputs": [],
   "source": [
    "baseline = {lever.lever_id: lever.levels[0].level_id for lever in levers.levers}\n",
    "get_model_output(baseline, 0)"
   ]
  },
  {
   "cell_type": "markdown",
   "id": "b2607c3b-b758-4452-9539-acf63cca2927",
   "metadata": {},
   "source": [
    "## Enumerate all lever settings"
   ]
  },
  {
   "cell_type": "code",
   "execution_count": null,
   "id": "90e7cc99-0b5c-4652-975e-5b6a261d401e",
   "metadata": {
    "tags": []
   },
   "outputs": [],
   "source": [
    "def enumerate_lever_settings(levers):\n",
    "    if not levers:\n",
    "        yield {}\n",
    "        return\n",
    "    next_lever = levers[0]\n",
    "    rest_levers = levers[1:]\n",
    "    for level in next_lever.levels:\n",
    "        for settings in enumerate_lever_settings(rest_levers):\n",
    "            yield {**settings, next_lever.lever_id: level.level_id}\n",
    "        "
   ]
  },
  {
   "cell_type": "code",
   "execution_count": null,
   "id": "4a299bf3-ffa4-4e47-9b93-d558589b4eba",
   "metadata": {
    "tags": []
   },
   "outputs": [],
   "source": [
    "len([lever for lever in levers.levers if len(lever.levels) > 1])"
   ]
  },
  {
   "cell_type": "markdown",
   "id": "ef1cd060-b562-4f98-8d1a-aa4dab0408db",
   "metadata": {},
   "source": [
    "How many combinations do we expect?"
   ]
  },
  {
   "cell_type": "code",
   "execution_count": null,
   "id": "d0d39006-632c-477f-b894-7cf2a591cc06",
   "metadata": {
    "tags": []
   },
   "outputs": [],
   "source": [
    "n_combinations = np.product([min(5, len(lever.levels)) for lever in levers.levers])\n",
    "print(f\"{n_combinations/1e6:.0f} million combinations\")"
   ]
  },
  {
   "cell_type": "code",
   "execution_count": null,
   "id": "71fd4209-0f24-49b9-8693-40d700219996",
   "metadata": {
    "tags": []
   },
   "outputs": [],
   "source": [
    "test_params = levers.get_params(baseline, time_index=6)"
   ]
  },
  {
   "cell_type": "code",
   "execution_count": null,
   "id": "3cf54542-5a84-4eb9-983a-afe675ec9fd7",
   "metadata": {
    "tags": []
   },
   "outputs": [],
   "source": [
    "%%timeit\n",
    "func_other(test_params)"
   ]
  },
  {
   "cell_type": "code",
   "execution_count": null,
   "id": "1e33b6e3-8e4e-4bb4-873a-6ced3cb4f9df",
   "metadata": {
    "tags": []
   },
   "outputs": [],
   "source": [
    "%%timeit\n",
    "get_model_output(baseline, 6)"
   ]
  },
  {
   "cell_type": "markdown",
   "id": "a5b56fa2-54f4-49e0-9056-cfcb26132bf4",
   "metadata": {},
   "source": [
    "Approx 4832 million combinations, approx 6 ms/results, makes:"
   ]
  },
  {
   "cell_type": "code",
   "execution_count": null,
   "id": "aee64108-ae24-49d9-b636-7cef40e2e9d6",
   "metadata": {
    "tags": []
   },
   "outputs": [],
   "source": [
    "print(f\"{4830e6 * 6e-3 / 60 / 60 / 24} days\")"
   ]
  },
  {
   "cell_type": "code",
   "execution_count": null,
   "id": "80aaed01-1d97-4a60-81db-ef82e63574a8",
   "metadata": {
    "tags": []
   },
   "outputs": [],
   "source": [
    "print(f\"{1e6 * 6e-3 / 60 / 60} hours\")"
   ]
  },
  {
   "cell_type": "code",
   "execution_count": null,
   "id": "a26335ea-8985-4882-96b3-fccb13bcb083",
   "metadata": {
    "tags": []
   },
   "outputs": [],
   "source": [
    "# results = pd.DataFrame([\n",
    "#     {**settings, **get_model_output({**baseline, **settings}, time_index=6)}\n",
    "#     for settings in enumerate_lever_settings(levers.levers[:])\n",
    "# ])"
   ]
  },
  {
   "cell_type": "code",
   "execution_count": null,
   "id": "b2e79cbd-2413-44ff-859c-5a70ba064494",
   "metadata": {
    "tags": []
   },
   "outputs": [],
   "source": [
    "#results = pd.read_csv(\"enumerated_results_6.csv\", index_col=list(range(len(baseline))))\n",
    "results = pd.read_parquet(f\"../outputs/enumerated_results_6.parquet\")#, columns=[\"GHG_total\"])"
   ]
  },
  {
   "cell_type": "code",
   "execution_count": null,
   "id": "111f2883-a75e-4bf8-8be7-6ed6857a0176",
   "metadata": {
    "tags": []
   },
   "outputs": [],
   "source": [
    "results.iloc[0]"
   ]
  },
  {
   "cell_type": "markdown",
   "id": "9ad5e88b-3f36-48b1-a93f-f05a8c13d537",
   "metadata": {},
   "source": [
    "Simple SA:\n",
    "- Morris style effect of the change from level 1 to level 4 for each lever: lots of results for all the other permutations.\n",
    "- Summarise in a histogram what the effect is\n",
    "    - Some are always positive\n",
    "    - Some, it depends, etc\n",
    "    \n",
    "    \n",
    "?"
   ]
  },
  {
   "cell_type": "code",
   "execution_count": null,
   "id": "aeeeff32-1506-4b81-bfc8-4a1501f4eb25",
   "metadata": {
    "tags": []
   },
   "outputs": [],
   "source": [
    "def effect_calc(lever):\n",
    "    levels = results.index.levels[results.index.names.index(lever)]\n",
    "    a = results[\"GHG_total\"].xs(levels[0], level=lever)\n",
    "    b = results[\"GHG_total\"].xs(levels[-1], level=lever)\n",
    "    effect = (b - a) / 1e12  # Gt\n",
    "    return {\n",
    "        \"whislo\": effect.min(),\n",
    "        \"q1\":  np.quantile(effect, 0.25),\n",
    "        \"med\": np.quantile(effect, 0.50),\n",
    "        \"q3\":  np.quantile(effect, 0.75),\n",
    "        \"whishi\": effect.max(),\n",
    "        \"mu\": effect.mean(),\n",
    "        \"mu_star\": abs(effect).mean(),\n",
    "        \"sigma\": effect.std(),\n",
    "        \"label\": lever,\n",
    "    }"
   ]
  },
  {
   "cell_type": "code",
   "execution_count": null,
   "id": "1c990c24-5348-442e-951d-75e65ddaa29a",
   "metadata": {
    "tags": []
   },
   "outputs": [],
   "source": [
    "lever_ids = [lever.lever_id for lever in levers.levers]\n",
    "ee = pd.DataFrame({\n",
    "    lever_id: effect_calc(lever_id)\n",
    "    for lever_id in lever_ids\n",
    "    # Don't include levers that only have one level\n",
    "    if len(results.index.levels[results.index.names.index(lever_id)]) > 1\n",
    "}).T"
   ]
  },
  {
   "cell_type": "code",
   "execution_count": null,
   "id": "46dc1c9f-8c2b-4b9f-81c6-23143467f50b",
   "metadata": {
    "tags": []
   },
   "outputs": [],
   "source": [
    "import matplotlib.pyplot as plt\n",
    "import seaborn as sns"
   ]
  },
  {
   "cell_type": "code",
   "execution_count": null,
   "id": "c526b673-e68c-415b-84ac-d8bd73fbdb7a",
   "metadata": {
    "tags": []
   },
   "outputs": [],
   "source": [
    "!mkdir -p figures"
   ]
  },
  {
   "cell_type": "code",
   "execution_count": null,
   "id": "c79ed02f-b9dc-4d31-bef9-969b9c852f88",
   "metadata": {
    "tags": []
   },
   "outputs": [],
   "source": [
    "fig, ax = plt.subplots()\n",
    "ee_sorted = ee.reset_index().sort_values(\"mu_star\", ascending=True)\n",
    "ax.bxp(ee_sorted.to_dict('records'), showfliers=False, vert=False);\n",
    "ax.axvline(0, alpha=0.3);\n",
    "ax.set_xlabel(\"Change in emissions caused by varying each lever [GtCO2e]\");\n",
    "ax.set_ylabel(\"Lever ID\");\n",
    "fig.savefig(\"figures/lever_sensitivity.png\", dpi=200);\n",
    "fig.savefig(\"figures/lever_sensitivity.pdf\");"
   ]
  },
  {
   "cell_type": "code",
   "execution_count": null,
   "id": "42138b5b-7aa0-46b4-84ab-4f368e5e213c",
   "metadata": {
    "tags": []
   },
   "outputs": [],
   "source": [
    "# NB currently only have min/max levels\n",
    "shape = [min(2, len(lever.levels)) for lever in levers.levers]"
   ]
  },
  {
   "cell_type": "code",
   "execution_count": null,
   "id": "2e90bfea-d5c8-4dfc-8846-9f3e172ec8e4",
   "metadata": {
    "tags": []
   },
   "outputs": [],
   "source": [
    "(results[\"GHG_total\"] / 1e9).hist(bins=40)"
   ]
  },
  {
   "cell_type": "code",
   "execution_count": null,
   "id": "1c6c68ed-379d-413f-8be1-a3070bccd4aa",
   "metadata": {
    "tags": []
   },
   "outputs": [],
   "source": [
    "GHG_total = results.reset_index()\n",
    "GHG_total[\"class\"] = \"High\"\n",
    "GHG_total.loc[GHG_total[\"GHG_total\"] < 0.3e12, \"class\"] = \"Low\""
   ]
  },
  {
   "cell_type": "code",
   "execution_count": null,
   "id": "21646815-6734-4d6b-8578-c58e65ae1a34",
   "metadata": {
    "tags": []
   },
   "outputs": [],
   "source": []
  },
  {
   "cell_type": "code",
   "execution_count": null,
   "id": "06cbd7b9-364a-40de-81bc-cd6314e4caf3",
   "metadata": {
    "tags": []
   },
   "outputs": [],
   "source": [
    "threshold = 100\n",
    "\n",
    "cols_low = GHG_total[GHG_total[\"GHG_total\"] < (threshold * 1e9)].iloc[:, :len(levers.levers)]\n",
    "cols_high = GHG_total[GHG_total[\"GHG_total\"] >= (threshold * 1e9)].iloc[:, :len(levers.levers)]\n",
    "\n",
    "for col in cols_low.columns:\n",
    "    levels_low = cols_low[col].unique()\n",
    "    levels_high = cols_high[col].unique()\n",
    "    if len(levels_low) < len(levels_high):\n",
    "        print(col)\n",
    "        print(\"Low emissions:   \", levels_low)\n",
    "        print(\"All combinations:\", levels_high)\n",
    "        print()"
   ]
  },
  {
   "cell_type": "code",
   "execution_count": null,
   "id": "1f4bebdb-70a6-433f-bdf4-31adfd76388f",
   "metadata": {
    "tags": []
   },
   "outputs": [],
   "source": [
    "results[\"GHG_total\"].min() / 1e12"
   ]
  },
  {
   "cell_type": "code",
   "execution_count": null,
   "id": "ebd2366c-d976-4e38-b0c7-afeb435d2b4b",
   "metadata": {
    "tags": []
   },
   "outputs": [],
   "source": [
    "results[\"GHG_total\"].max() / 1e12"
   ]
  },
  {
   "cell_type": "code",
   "execution_count": null,
   "id": "2eaffbf0-70c8-4c10-b718-59be5a59f87c",
   "metadata": {
    "tags": []
   },
   "outputs": [],
   "source": [
    "print(\"\\n\".join(results.columns))"
   ]
  },
  {
   "cell_type": "markdown",
   "id": "c9fd9103-ad0a-4ba6-967e-186b93dface3",
   "metadata": {},
   "source": [
    "Variation in emissions factor with production quantity? Is it linear?\n",
    "\n",
    "This is not an exact calculation of the emissions factor, which would require LCA calculation on top of the supply mixes from the mass flow model. But approximately."
   ]
  },
  {
   "cell_type": "code",
   "execution_count": null,
   "id": "d8b7ac8c-6035-484d-9815-103d02ec5f63",
   "metadata": {
    "tags": []
   },
   "outputs": [],
   "source": [
    "results[\"Emissions_polymer_production\"] = (\n",
    "    results[\"EmissionsByStage_feedstocks\"] +\n",
    "    results[\"EmissionsByStage_hydrogen\"] +\n",
    "    results[\"EmissionsByStage_primary_production\"] +\n",
    "    results[\"EmissionsByStage_organic_synthesis\"] +\n",
    "    results[\"EmissionsByStage_downstream\"] +\n",
    "    results[\"EmissionsByStage_biomass\"]\n",
    ")\n",
    "# Excluding biomass (-1) and end-of-life (+1)"
   ]
  },
  {
   "cell_type": "code",
   "execution_count": null,
   "id": "cce0ea86-406d-47e6-88da-64fbe9926949",
   "metadata": {
    "tags": []
   },
   "outputs": [],
   "source": [
    "results[\"Production_polymers_virgin_label\"] = results[\"Production_polymers_virgin\"].apply(lambda x: x/1e6) #f\"{x/1e6:.0f} Mt\")\n",
    "results[\"Emissions_polymer_production_per_kg\"] = results[\"Emissions_polymer_production\"] / (1000 * results[\"Production_polymers_virgin\"])"
   ]
  },
  {
   "cell_type": "code",
   "execution_count": null,
   "id": "a570ef29-1d50-4977-bab8-304b9db2d935",
   "metadata": {
    "tags": []
   },
   "outputs": [],
   "source": [
    "results_fewer = results.xs(\"1\", level=\"extra_demand\")"
   ]
  },
  {
   "cell_type": "code",
   "execution_count": null,
   "id": "1a2e6d9a-d059-4db1-b8e1-c0b7dcee42d0",
   "metadata": {
    "tags": []
   },
   "outputs": [],
   "source": [
    "sns.set_style(\"darkgrid\");"
   ]
  },
  {
   "cell_type": "code",
   "execution_count": null,
   "id": "b2a80eed-1785-4a79-b99d-836a99e6a272",
   "metadata": {},
   "outputs": [],
   "source": [
    "#plt.boxplot("
   ]
  },
  {
   "cell_type": "code",
   "execution_count": null,
   "id": "966950bc-4f01-40eb-9d33-9973ee734dd1",
   "metadata": {
    "tags": []
   },
   "outputs": [],
   "source": [
    "plt.axhline(0, color='k', lw=0.5, alpha=0.6);\n",
    "plt.axhline(2.67, color='C1', lw=1);\n",
    "plt.text(300, 2.8, \"Plastsimulator\", color='C1');\n",
    "sns.boxplot(results_fewer, x=\"Production_polymers_virgin_label\", y=\"Emissions_polymer_production_per_kg\", native_scale=True, flierprops=dict(alpha=0.006));\n",
    "plt.xlabel(\"Virgin polymer production [Mt]\");\n",
    "plt.ylabel(\"Production emissions factor [kgCO2e/kg]\");"
   ]
  },
  {
   "cell_type": "code",
   "execution_count": null,
   "id": "9754b91b-7add-4b3f-8b82-c8267311daff",
   "metadata": {
    "tags": []
   },
   "outputs": [],
   "source": [
    "threshold = 15.5\n",
    "\n",
    "GHG_total = results_fewer.reset_index()\n",
    "\n",
    "cols_low = GHG_total[GHG_total[\"Emissions_polymer_production_per_kg\"] < (threshold)].iloc[:, :len(levers.levers)]\n",
    "cols_high = GHG_total[GHG_total[\"Emissions_polymer_production_per_kg\"] >= (threshold)].iloc[:, :len(levers.levers)]\n",
    "\n",
    "for col in cols_low.columns:\n",
    "    levels_low = cols_low[col].unique()\n",
    "    levels_high = cols_high[col].unique()\n",
    "    if len(levels_high) < len(levels_low):\n",
    "        print(col)\n",
    "        print(\"High emissions:   \", levels_high)\n",
    "        print(\"All combinations:\", levels_low)\n",
    "        print()"
   ]
  },
  {
   "cell_type": "code",
   "execution_count": null,
   "id": "1b4f8163-7486-4010-a520-0d5c50647037",
   "metadata": {
    "tags": []
   },
   "outputs": [],
   "source": [
    "cols_high"
   ]
  },
  {
   "cell_type": "code",
   "execution_count": null,
   "id": "837dcdc1-cf71-4e3f-8f99-ba399ca9b548",
   "metadata": {
    "tags": []
   },
   "outputs": [],
   "source": [
    "sns.scatterplot(results, x=\"EmissionsBySource_Elec\", y=\"EmissionsBySource_NG\", hue=\"ethylene_methanol_capacity\", alpha=0.5);"
   ]
  },
  {
   "cell_type": "code",
   "execution_count": null,
   "id": "0db5ce41-206a-4819-8f38-216a93897179",
   "metadata": {
    "tags": []
   },
   "outputs": [],
   "source": [
    "sns.scatterplot(results, x=\"ElecReq\", y=\"NGReq\", hue=\"ethylene_methanol_capacity\", alpha=0.5);"
   ]
  },
  {
   "cell_type": "code",
   "execution_count": null,
   "id": "526bf0b4-9679-48e8-a7e1-b39802eb2dc8",
   "metadata": {
    "tags": []
   },
   "outputs": [],
   "source": [
    "sns.scatterplot(results, x=\"ElecReq\", y=\"NGReq\", hue=\"product_demand\", alpha=0.5);"
   ]
  },
  {
   "cell_type": "code",
   "execution_count": null,
   "id": "2e89d671-d5fb-449d-a3ea-5fe5347f2422",
   "metadata": {
    "tags": []
   },
   "outputs": [],
   "source": [
    "results[\"ambition\"] = np.log(results[baseline.keys()].astype(int).product(axis=1))"
   ]
  },
  {
   "cell_type": "code",
   "execution_count": null,
   "id": "84cc3ee8-7024-423b-b194-0dc4334dc469",
   "metadata": {
    "tags": []
   },
   "outputs": [],
   "source": [
    "sns.scatterplot(results, x=\"ElecReq\", y=\"NGReq\", hue=\"ambition\", alpha=0.5);"
   ]
  },
  {
   "cell_type": "code",
   "execution_count": null,
   "id": "441221b1-8e18-47f2-9638-cc04a267152d",
   "metadata": {},
   "outputs": [],
   "source": [
    "years = list(range(2020, 2051, 5))\n",
    "over_time = pd.DataFrame([\n",
    "    pd.read_parquet(f\"enumerated_results_{i}.parquet\", columns=[\"GHG_total\"])[\"GHG_total\"]\n",
    "    for i in range(7)\n",
    "], index=years).T"
   ]
  },
  {
   "cell_type": "code",
   "execution_count": null,
   "id": "6fc2c211-7436-484d-8b68-b82fbcedbf7e",
   "metadata": {
    "tags": []
   },
   "outputs": [],
   "source": [
    "d = (over_time / 1e9).values.T\n",
    "d.shape"
   ]
  },
  {
   "cell_type": "code",
   "execution_count": null,
   "id": "9c82c48f-5c71-464c-bb4e-f1fcd2c9ed8e",
   "metadata": {
    "tags": []
   },
   "outputs": [],
   "source": [
    "plt.plot(years, d[:, ::51], alpha=0.005, c='k');"
   ]
  },
  {
   "cell_type": "code",
   "execution_count": null,
   "id": "cf2a63d7-f635-4fd7-9da9-bf8db0777d79",
   "metadata": {
    "tags": []
   },
   "outputs": [],
   "source": [
    "sns.set_theme(style='darkgrid')"
   ]
  },
  {
   "cell_type": "code",
   "execution_count": null,
   "id": "5919f388-452a-424e-8984-1e79cf426939",
   "metadata": {
    "tags": []
   },
   "outputs": [],
   "source": [
    "def plot_scenarios_over_time(ax):\n",
    "    ylim = (-0.2, 6.2)\n",
    "\n",
    "    ax.plot(np.arange(7)/7, d[:, ::51]/1e3, alpha=0.005, c='k');\n",
    "    ax.plot(np.arange(7)/7, d[:, 0]/1e3, lw=2, c='r');\n",
    "    ax.set_xlim(0, 1);\n",
    "    ax.set_ylim(ylim);\n",
    "    \n",
    "    bins = np.arange(0, 5, 0.1);\n",
    "    for i in range(7):\n",
    "        axins = ax.inset_axes([i/7, 0, 1/10, 1], ylim=ylim, xticks=[], yticklabels=[])\n",
    "        axins.patch.set_alpha(0.5)\n",
    "        axins.grid(False)\n",
    "        axins.set_frame_on(False)\n",
    "        axins.hist(d[i]/1000, bins=bins, orientation='horizontal', density=False)\n",
    "        \n",
    "        # Show the range, because otherwise it doesn't look like the baseline part is included\n",
    "        axins.plot([0, 0], [d[i].min()/1000, d[i].max()/1000], \"C0\", marker='_')\n",
    "        \n",
    "        #ax[i].set_frame_on(False)\n",
    "        #ax[i].xaxis.set_visible(False)\n",
    "        #ax[i].set_xticks([])\n",
    "        #ax[i].set_xlabel(years[i])\n",
    "        #if i > 0:\n",
    "        #    ax[i].yaxis.set_ticks_position(\"none\")\n",
    "        axins.plot(0, d[i, 0]/1000, 'ro', ms=5, clip_on=False);\n",
    "    ax.set_xticks([i/7 for i in range(7)])\n",
    "    ax.set_xticklabels([2020+i*5 for i in range(7)])\n",
    "#    ax.axhline(0, c='lightgreen', lw=0.75);\n",
    "    ax.axhspan(ylim[0], 0, color=\"C2\", alpha=0.2);\n",
    "    ax.set_xlabel(\"Year\");\n",
    "    ax.set_ylabel(\"Total GHG emissions [GtCO2e]\");\n",
    "    axins.annotate(\"Baseline\", xy=(0, d[-1, 0]/1000), xytext=(8, 0), textcoords='offset points', c='r', va='center');\n",
    "\n",
    "fig, ax = plt.subplots() #7, sharey=True, sharex=False)\n",
    "plot_scenarios_over_time(ax)    \n",
    "fig.savefig(\"figures/scenarios_over_time.png\", dpi=200);\n",
    "fig.savefig(\"figures/scenarios_over_time.pdf\");"
   ]
  },
  {
   "cell_type": "code",
   "execution_count": null,
   "id": "4d97c43b-8266-41a6-98a2-379ed838aecc",
   "metadata": {
    "tags": []
   },
   "outputs": [],
   "source": [
    "contribution_columns = [\n",
    "    \"EmissionsByStage_end_of_life\",\n",
    "    \"GHG_use_fertiliser\",\n",
    "    \"EmissionsByStage_downstream\",\n",
    "    \"EmissionsByStage_organic_synthesis\",\n",
    "    \"EmissionsByStage_primary_production\",\n",
    "    \"GHG_production_fertiliser\",\n",
    "    \"EmissionsByStage_hydrogen\",\n",
    "    \"EmissionsByStage_biomass\",\n",
    "    \"EmissionsByStage_feedstocks\",\n",
    "]\n",
    "contributions_over_time_baseline = pd.DataFrame([\n",
    "    pd.read_parquet(f\"enumerated_results_{i}.parquet\", columns=contribution_columns).iloc[0]\n",
    "    for i in range(7)\n",
    "], index=years).T"
   ]
  },
  {
   "cell_type": "code",
   "execution_count": null,
   "id": "b34702a9-78d9-4548-a0b9-2ab064ce49d5",
   "metadata": {
    "tags": []
   },
   "outputs": [],
   "source": [
    "contributions_over_time_baseline"
   ]
  },
  {
   "cell_type": "code",
   "execution_count": null,
   "id": "cee11c3d-5426-44a7-a62a-9ce69dd32e67",
   "metadata": {
    "tags": []
   },
   "outputs": [],
   "source": [
    "def plot_baseline_contributions(ax):\n",
    "    results = contributions_over_time_baseline.T\n",
    "    df = pd.DataFrame({\n",
    "        \"Fertiliser production\": results[\"GHG_production_fertiliser\"],\n",
    "        \"Fertiliser use\": results[\"GHG_use_fertiliser\"],\n",
    "        \"Feedstock\": results[\"EmissionsByStage_feedstocks\"],\n",
    "        \"Biomass\": results[\"EmissionsByStage_biomass\"],\n",
    "        \"Hydrogen production\": results[\"EmissionsByStage_hydrogen\"],\n",
    "        \"Primary chemicals\": results[\"EmissionsByStage_primary_production\"],\n",
    "        \"Downstream chemicals\": results[\"EmissionsByStage_downstream\"] + results[\"EmissionsByStage_organic_synthesis\"],\n",
    "        \"End-of-life\": results[\"EmissionsByStage_end_of_life\"],\n",
    "    }) / 1e12\n",
    "\n",
    "    total = df.sum(axis=1)\n",
    "    \n",
    "    palette = [\"#4269D0\",\"#97BBF5\",  \"#9C6B4E\", \"#9498A0\", \"#EFB118\", \"#FF725C\",\"#FF8AB7\",\n",
    "              \"#6CC5B0\", \"#3CA951\", \n",
    "              \"#A463F2\", \n",
    "              ]\n",
    "    df.plot.area(stacked=True, color=palette, legend=False, alpha=0.8, ax=ax)\n",
    "    ax.plot(df.index, total, lw=2, c=\"k\", label=\"Total\")\n",
    "    #ax.legend(bbox_to_anchor=(1.0, 1.0))\n",
    "    ax.set_xlim(2020, 2050)\n",
    "    ax.set_xlabel(\"Year\")\n",
    "    ax.set_ylabel(\"Total GHG emissions [GtCO2e]\")\n",
    "    ax.axhline(0, lw=0.5, c='k')\n",
    "    \n",
    "    xx = df.loc[2050]\n",
    "    xx_pos = xx[xx > 0]\n",
    "    y_top = np.cumsum(xx_pos)\n",
    "    y_centre = y_top - np.diff(y_top, prepend=0) / 2\n",
    "    labels = xx_pos.index\n",
    "    palette_dict = dict(zip(df.columns, palette))\n",
    "    palette_pos = [palette_dict[label] for label in labels]\n",
    "    for k, v, c in zip(labels, y_centre, palette_pos):\n",
    "        if abs(v) > 0.002:\n",
    "            ax.annotate(k, xy=(2050, v), xytext=(8, 0), clip_on=False,\n",
    "                        fontsize=10,\n",
    "                        textcoords='offset points', c=c, va='center');\n",
    "\n",
    "fig, ax = plt.subplots()\n",
    "plot_baseline_contributions(ax)"
   ]
  },
  {
   "cell_type": "code",
   "execution_count": null,
   "id": "5693596f-322d-492f-a66c-e0a5890d1396",
   "metadata": {
    "tags": []
   },
   "outputs": [],
   "source": [
    "fig, ax = plt.subplots(1, 2, figsize=(9, 4), sharey=True)\n",
    "plot_scenarios_over_time(ax[0])    \n",
    "plot_baseline_contributions(ax[1])\n",
    "ax[0].set_title(\"(a) Range of scenarios\")\n",
    "ax[1].set_title(\"(b) Contributions to baseline scenario\")\n",
    "fig.savefig(\"figures/scenarios.png\", dpi=200);\n",
    "fig.savefig(\"figures/scenarios.pdf\");"
   ]
  },
  {
   "cell_type": "code",
   "execution_count": null,
   "id": "723098c0-b1bf-4003-9ae2-05eb564d72f5",
   "metadata": {},
   "outputs": [],
   "source": []
  }
 ],
 "metadata": {
  "kernelspec": {
   "display_name": "Python 3 (ipykernel)",
   "language": "python",
   "name": "python3"
  },
  "language_info": {
   "codemirror_mode": {
    "name": "ipython",
    "version": 3
   },
   "file_extension": ".py",
   "mimetype": "text/x-python",
   "name": "python",
   "nbconvert_exporter": "python",
   "pygments_lexer": "ipython3",
   "version": "3.10.14"
  }
 },
 "nbformat": 4,
 "nbformat_minor": 5
}
