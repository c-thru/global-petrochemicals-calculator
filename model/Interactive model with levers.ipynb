{
 "cells": [
  {
   "cell_type": "markdown",
   "id": "99a07bde",
   "metadata": {},
   "source": [
    "# Interactive model with levers\n",
    "\n",
    "This notebook loads the levers data and model, and presents an interactive interface to the model."
   ]
  },
  {
   "cell_type": "code",
   "execution_count": null,
   "id": "3419f300",
   "metadata": {
    "tags": []
   },
   "outputs": [],
   "source": [
    "import numpy as np\n",
    "import logging\n",
    "import re\n",
    "import pandas as pd\n",
    "import json"
   ]
  },
  {
   "cell_type": "code",
   "execution_count": null,
   "id": "23856c7e",
   "metadata": {
    "tags": []
   },
   "outputs": [],
   "source": [
    "%load_ext autoreload\n",
    "%autoreload 2"
   ]
  },
  {
   "cell_type": "markdown",
   "id": "0af8ac22",
   "metadata": {
    "tags": []
   },
   "source": [
    "## Define levers\n",
    "\n",
    "Load from `levels.xlsx`"
   ]
  },
  {
   "cell_type": "code",
   "execution_count": null,
   "id": "5f4df41e",
   "metadata": {
    "tags": []
   },
   "outputs": [],
   "source": [
    "from load_levers import read_levers\n",
    "levers = read_levers(\"levers.xlsx\")"
   ]
  },
  {
   "cell_type": "markdown",
   "id": "76efbd96-2bd6-4dd9-b354-c0e11d75ac07",
   "metadata": {
    "tags": []
   },
   "source": [
    "## Model"
   ]
  },
  {
   "cell_type": "code",
   "execution_count": null,
   "id": "9da4bba6-a8c4-4c59-b392-6b5ceaa42e93",
   "metadata": {
    "tags": []
   },
   "outputs": [],
   "source": [
    "import load_model\n",
    "model_data = load_model.load_model()"
   ]
  },
  {
   "cell_type": "code",
   "execution_count": null,
   "id": "3b5b3052-93f1-40f7-8e6e-2706d95ef821",
   "metadata": {
    "tags": []
   },
   "outputs": [],
   "source": [
    "model, recipe_data = load_model.build_model(model_data)\n",
    "other_results = load_model.define_model(model, recipe_data, levers)"
   ]
  },
  {
   "cell_type": "code",
   "execution_count": null,
   "id": "329714c9",
   "metadata": {
    "tags": []
   },
   "outputs": [],
   "source": [
    "flows_sym = model.to_flows(recipe_data, flow_ids=True)\n",
    "func = model.lambdify(recipe_data)\n",
    "func_other = model.lambdify(data=recipe_data, expressions=other_results)"
   ]
  },
  {
   "cell_type": "markdown",
   "id": "0c3b1d88",
   "metadata": {},
   "source": [
    "# Use lever levels to get test parameter settings\n",
    "\n",
    "If we want to see what the model output looks like for specific lever settings, use them here to find the parameter settings that can go into the model.\n",
    "\n",
    "This duplicates the logic that is built into the interactive calculator app, which does this to re-run the model every time the levers are changed."
   ]
  },
  {
   "cell_type": "code",
   "execution_count": null,
   "id": "dd307d8c",
   "metadata": {
    "tags": []
   },
   "outputs": [],
   "source": [
    "from sankey_definitions import sdd_overall, sdd_lifecycle, sdd_eol, sdd_chemical_synthesis, sdd_primary, sdd_feedstock, palette\n",
    "from floweaver import weave, Dataset\n",
    "from utils import update_sankey_data"
   ]
  },
  {
   "cell_type": "code",
   "execution_count": null,
   "id": "11b4515b",
   "metadata": {
    "tags": []
   },
   "outputs": [],
   "source": [
    "# Work around dodgy floweaver behaviour -- flows index is reset when Dataset\n",
    "# is created. This only works because not using dim_process etc.\n",
    "dataset = Dataset(flows_sym)\n",
    "dataset._flows = dataset._table = flows_sym.set_index(\"id\")\n",
    "\n",
    "sdds = {\n",
    "    \"overall\": sdd_overall,\n",
    "    \"feedstock\": sdd_feedstock,\n",
    "    \"synthesis\": sdd_chemical_synthesis,\n",
    "    \"lifecycle\": sdd_lifecycle,\n",
    "    \"primary\": sdd_primary,\n",
    "    \"eol\": sdd_eol,\n",
    "}\n",
    "\n",
    "sankey_data = {\n",
    "    k: weave(sdd, dataset, palette=palette)\n",
    "    for k, sdd in sdds.items()\n",
    "}\n",
    "\n",
    "baseline_lever_settings = {lever.lever_id: lever.levels[0].level_id for lever in levers.levers}\n",
    "test_params = levers.get_params(baseline_lever_settings, time_index=0)\n",
    "\n",
    "sankey_data_with_data = {\n",
    "    k: load_model.subs_in_sankey_data(d, func, test_params)\n",
    "    for k, d in sankey_data.items()\n",
    "}"
   ]
  },
  {
   "cell_type": "markdown",
   "id": "7003d222",
   "metadata": {},
   "source": [
    "Show a Sankey diagram with levers:"
   ]
  },
  {
   "cell_type": "code",
   "execution_count": null,
   "id": "a7e38cbe",
   "metadata": {
    "tags": []
   },
   "outputs": [],
   "source": [
    "from ipywidgets import interactive_output, Box, HBox, VBox, Combobox, interact, Dropdown, Button, IntSlider, Layout\n",
    "\n",
    "def update_sankey(sankey_id, time=0, **kwargs):\n",
    "    params = levers.get_params(kwargs, time_index=time)\n",
    "    new_w = update_sankey_data(sankey_data[sankey_id], func(params)).to_widget(debugging=True)\n",
    "    old_sankey = w.children[0]\n",
    "    new_sankey = new_w.children[0]\n",
    "    old_sankey.on_link_clicked(new_sankey._link_clicked_handlers.callbacks[0])\n",
    "    old_sankey.links = new_sankey.links\n",
    "    old_sankey.nodes = new_sankey.nodes\n",
    "    old_sankey.order = new_sankey.order\n",
    "    old_sankey.groups = new_sankey.groups\n",
    "    w.children = (old_sankey, new_w.children[1])\n",
    "\n",
    "def adjust_scale(factor):\n",
    "    if w.children[0].scale is not None:\n",
    "        w.children[0].scale *= factor    \n",
    "    \n",
    "btn_inc = Button(description=\"Scale +\")\n",
    "btn_dec = Button(description=\"Scale –\")\n",
    "btn_inc.on_click(lambda b: adjust_scale(1.1))\n",
    "btn_dec.on_click(lambda b: adjust_scale(0.9))\n",
    "\n",
    "lever_widgets = {\n",
    "    lever.lever_id: Dropdown(\n",
    "        description=lever.lever_id,\n",
    "        options=[(f\"{level.level_id}: {level.label}\", level.level_id) for level in lever.levels],\n",
    "        style={\"description_width\": \"initial\"}\n",
    "    )\n",
    "    for lever in levers.levers\n",
    "    if len(lever.levels) > 1\n",
    "}\n",
    "control_widgets = {\n",
    "    \"sankey_id\": Dropdown(value=\"overall\", options=sankey_data.keys()),\n",
    "    \"time\": IntSlider(min=0, max=6),\n",
    "}\n",
    "\n",
    "out = interactive_output(\n",
    "    update_sankey,\n",
    "    {**control_widgets, **lever_widgets}\n",
    ")\n",
    "ui_layout = Layout(\n",
    "    display='flex',\n",
    "    flex_flow='row wrap',\n",
    "    align_items='stretch', \n",
    "    width='90%'\n",
    ")\n",
    "ui = Box(list(control_widgets.values()) + \n",
    "         [btn_inc, btn_dec] +\n",
    "         list(lever_widgets.values()), layout=ui_layout)\n",
    "w = sankey_data_with_data[control_widgets[\"sankey_id\"].value].to_widget(width=1500, height=800, debugging=True)\n",
    "VBox([ui, w])"
   ]
  },
  {
   "cell_type": "markdown",
   "id": "312814a2-1677-40bf-8c3c-8f74959c66c0",
   "metadata": {},
   "source": [
    "Instead, focus on showing the detailed flows rather than the Sankey diagram:"
   ]
  },
  {
   "cell_type": "code",
   "execution_count": null,
   "id": "0ae52115",
   "metadata": {
    "tags": []
   },
   "outputs": [],
   "source": [
    "flows = flows_sym.copy().set_index(\"id\")\n",
    "del flows[\"metric\"]"
   ]
  },
  {
   "cell_type": "code",
   "execution_count": null,
   "id": "24a9d2a7",
   "metadata": {
    "tags": []
   },
   "outputs": [],
   "source": [
    "@interact(\n",
    "    material=Combobox(options=list(flows[\"material\"].unique()), value=\"\"),\n",
    "    time=(0, 6),\n",
    "    **lever_widgets\n",
    ")\n",
    "def update_flows(material=\"\", time=0, **kwargs):\n",
    "    params = levers.get_params(kwargs, time_index=time)\n",
    "    new_values = func(params)\n",
    "    for k, row in flows.iterrows():\n",
    "        flows.loc[k, \"value\"] = np.round(new_values[k] / 1e6, 1)\n",
    "    if material:\n",
    "        return flows.query(\"material == @material\")\n",
    "    return flows"
   ]
  },
  {
   "cell_type": "markdown",
   "id": "c9397b9c-d5a8-4ba9-9823-07f9828d294e",
   "metadata": {},
   "source": [
    "And the same for other outputs (emissions etc)"
   ]
  },
  {
   "cell_type": "code",
   "execution_count": null,
   "id": "74a9f9df-51c6-4597-a3e6-9b967dcb9113",
   "metadata": {
    "tags": []
   },
   "outputs": [],
   "source": [
    "@interact(\n",
    "    key=Combobox(options=list(other_results.keys()), value=\"\"),\n",
    "    time=(0, 6),\n",
    "    **lever_widgets\n",
    ")\n",
    "def update_other_results(key=\"\", time=0, **kwargs):\n",
    "    settings = {**baseline_lever_settings, **kwargs}\n",
    "    params = levers.get_params(settings, time_index=time)\n",
    "    # Should disable this for testing, but in some cases it's not a problem because the\n",
    "    # invalid division-by-zero is in a branch of the piecewise expression which will not be reached.\n",
    "    with np.errstate(invalid='ignore'):\n",
    "        new_values = func_other(params)\n",
    "    df = pd.Series(new_values)\n",
    "    if key:\n",
    "        return df[df.index.str.contains(key)]\n",
    "    return df"
   ]
  },
  {
   "cell_type": "markdown",
   "id": "d217da83-2b7c-4bf6-9286-83df02520003",
   "metadata": {},
   "source": [
    "## Plots of results"
   ]
  },
  {
   "cell_type": "code",
   "execution_count": null,
   "id": "bce78aa7-b3a9-4aff-a2f5-406bedc412a6",
   "metadata": {
    "tags": []
   },
   "outputs": [],
   "source": [
    "@interact(**lever_widgets)\n",
    "def update_plots(**kwargs):\n",
    "    settings = {**baseline_lever_settings, **kwargs}\n",
    "    results = pd.DataFrame([\n",
    "        func_other(levers.get_params(settings, time_index=time))\n",
    "        for time in range(7)\n",
    "    ], index=list(range(2020, 2051, 5)))\n",
    "    \n",
    "    df = pd.DataFrame({\n",
    "        \"EndOfLife\": results[\"EmissionsByStage_end_of_life\"],\n",
    "        \"FertiliserUse\": results[\"GHG_use_fertiliser\"],\n",
    "        \"Downstream\": results[\"EmissionsByStage_downstream\"] + results[\"EmissionsByStage_organic_synthesis\"],\n",
    "        \"PrimaryProduction\": results[\"EmissionsByStage_primary_production\"],\n",
    "        \"FertiliserProduction\": results[\"GHG_production_fertiliser\"],\n",
    "        \"Hydrogen\": results[\"EmissionsByStage_hydrogen\"],\n",
    "        \"Biomass\": results[\"EmissionsByStage_biomass\"],\n",
    "        \"Feedstock\": results[\"EmissionsByStage_feedstocks\"],\n",
    "    }) / 1e9\n",
    "\n",
    "    total = df.sum(axis=1)\n",
    "    \n",
    "    #print(df.iloc[-1])\n",
    "    print(settings)\n",
    "    \n",
    "    ax = df.plot.area(stacked=True, color=[\"#4269D0\", \"#EFB118\", \"#FF725C\",\n",
    "                                          \"#6CC5B0\", \"#3CA951\", \"#FF8AB7\",\n",
    "                                          \"#A463F2\", \"#97BBF5\", \"#9C6B4E\",\n",
    "                                          \"#9498A0\"])\n",
    "    ax.plot(df.index, total, lw=2, c=\"k\", label=\"Total\")\n",
    "    ax.legend(bbox_to_anchor=(1.0, 1.0))\n",
    "    ax.set_xlabel(\"Year\")\n",
    "    ax.set_ylabel(\"Total GHG emissions [MtCO2e]\")\n",
    "    ax.axhline(0, lw=0.5, c='k')\n",
    "    return ax"
   ]
  },
  {
   "cell_type": "markdown",
   "id": "a650c9cd-9558-4ef5-ba9c-4f1987eb7d84",
   "metadata": {},
   "source": [
    "## Variation in production routes\n",
    "\n",
    "Show how some capacities vary"
   ]
  },
  {
   "cell_type": "code",
   "execution_count": null,
   "id": "7c24efbd-0015-4613-ade5-d370db309ff2",
   "metadata": {
    "tags": []
   },
   "outputs": [],
   "source": [
    "kwargs = {\n",
    "    **baseline_lever_settings\n",
    "}\n",
    "def get_flows_for_levels(lever_settings):\n",
    "    params = levers.get_params(lever_settings, time_index=6)\n",
    "    new_values = func(params)\n",
    "    my_flows = flows.copy()\n",
    "    for k, row in flows.iterrows():\n",
    "        my_flows.loc[k, \"value\"] = np.round(new_values[k] / 1e6, 1)\n",
    "    return my_flows"
   ]
  },
  {
   "cell_type": "code",
   "execution_count": null,
   "id": "14a47ead-abf7-41c2-8468-aa18aa208dbc",
   "metadata": {
    "tags": []
   },
   "outputs": [],
   "source": [
    "def compare_flows(lever_settings):\n",
    "    f = get_flows_for_levels(lever_settings)\n",
    "    results = {\n",
    "        \"Ethanol to ethylene\": f.query('source == \"EthylAlcohol\" and target == \"DehydrationOfEthylAlcohol\"')[\"value\"].sum(),\n",
    "        \"Naphtha to ethylene\": f.query('source == \"Naphtha\" and target == \"SteamCrackingOfNaphtha\"')[\"value\"].sum(),\n",
    "        \"Naphtha to BTX\": f.query('source == \"Naphtha\" and target.str.startswith(\"CatalyticReformingOfNaphtha\")')[\"value\"].sum(),\n",
    "    }\n",
    "    return pd.Series(results)"
   ]
  },
  {
   "cell_type": "code",
   "execution_count": null,
   "id": "7e174736-0697-4a58-a007-58d058dca31d",
   "metadata": {
    "tags": []
   },
   "outputs": [],
   "source": []
  },
  {
   "cell_type": "code",
   "execution_count": null,
   "id": "0312ce5b-8878-421f-9879-352fc96f1fae",
   "metadata": {
    "tags": []
   },
   "outputs": [],
   "source": [
    "lever = [l for l in levers.levers if l.lever_id == \"bioethanol_capacity\"][0]\n",
    "results = []\n",
    "for level in '1234':\n",
    "    settings = {\n",
    "        **baseline_lever_settings,\n",
    "        \"bioethanol_capacity\": level\n",
    "    }\n",
    "    results.append(compare_flows(settings))\n",
    "results = pd.DataFrame(results, index=[level.label for level in lever.levels])\n",
    "results"
   ]
  },
  {
   "cell_type": "code",
   "execution_count": null,
   "id": "def01793-8986-491f-891c-d16ad7d508f4",
   "metadata": {
    "tags": []
   },
   "outputs": [],
   "source": [
    "import seaborn as sns\n",
    "sns.set_theme(style=\"darkgrid\")\n",
    "ax = results.plot.bar(stacked=True, ylabel=\"Mt per year\");\n",
    "ax.set_ylim(0, 1000);\n",
    "ax.tick_params(axis='x', labelrotation=0);\n",
    "ax.set_xticklabels([\n",
    "    \"Baseline\\n(no change)\",\n",
    "    \"Reference\\nprojection\",\n",
    "    \"2x greater\\nthan reference\",\n",
    "    \"4x greater\\nthan reference\",\n",
    "])\n",
    "ax.set_xlabel(\"Level of bioethanol capacity growth\")\n",
    "ax.annotate('Ethanol substitutes naphtha\\nfor ethylene production', xy=(3.5, 170), xytext=(3.7, 170),\n",
    "            fontsize=12, ha='left', va='center', # xycoords='axes fraction', \n",
    "            arrowprops=dict(arrowstyle='-[, widthB=3.6, lengthB=.5', lw=1.0, color='k'))\n",
    "\n",
    "ax.annotate('Additional naphtha needed\\nto replace BTX co-products\\nfrom steam cracking',\n",
    "            xy=(3.5, 610), xytext=(3.7, 610),\n",
    "            fontsize=12, ha='left', va='center', # xycoords='axes fraction', \n",
    "            arrowprops=dict(arrowstyle='-[, widthB=5.8, lengthB=.5', lw=1.0, color='k'));"
   ]
  },
  {
   "cell_type": "code",
   "execution_count": null,
   "id": "eb82ad4c-8bb3-411c-8e25-1e14e9ced56c",
   "metadata": {
    "tags": []
   },
   "outputs": [],
   "source": [
    "f.query('source == \"Naphtha\" and target == \"SteamCrackingOfNaphtha\"')"
   ]
  },
  {
   "cell_type": "code",
   "execution_count": null,
   "id": "48ccda04-7303-4cb8-90f9-830c7bd89fa5",
   "metadata": {
    "tags": []
   },
   "outputs": [],
   "source": [
    "f.query('source == \"Naphtha\" and target.str.startswith(\"CatalyticReformingOfNaphtha\")')"
   ]
  },
  {
   "cell_type": "markdown",
   "id": "98b7228a-1bcc-4333-ae59-951a2540a2c9",
   "metadata": {},
   "source": [
    "## Baseline emissions for comparison"
   ]
  },
  {
   "cell_type": "code",
   "execution_count": null,
   "id": "60934a8d-c79a-4e71-82d7-4b7ae240a9b4",
   "metadata": {
    "tags": []
   },
   "outputs": [],
   "source": [
    "results = func_other(levers.get_params(baseline_lever_settings, time_index=0))"
   ]
  },
  {
   "cell_type": "code",
   "execution_count": null,
   "id": "57705193-28ab-4167-93e5-d955c50524d0",
   "metadata": {
    "tags": []
   },
   "outputs": [],
   "source": [
    "print(f\"Total emissions: {results['GHG_total']/1e12:.1f} Gt\")"
   ]
  },
  {
   "cell_type": "code",
   "execution_count": null,
   "id": "aa42f641-fd87-4dc5-a458-45907ccea022",
   "metadata": {
    "tags": []
   },
   "outputs": [],
   "source": [
    "# For comparison to Cullen et al (2024): 1.9 Gt\n",
    "excluding_biomass_fertiliser_use_eol = (\n",
    "    results[\"EmissionsBySource_NG\"] + \n",
    "    results[\"EmissionsBySource_Elec\"] +\n",
    "    results[\"EmissionsBySource_Direct\"] +\n",
    "    results[\"GHG_production_fertiliser\"] +\n",
    "    results[\"EmissionsBySource_Feedstock\"] -\n",
    "    results[\"EmissionsByStage_end_of_life\"]\n",
    ")\n",
    "print(f\"To compare to Cullen et al (2024): {excluding_biomass_fertiliser_use_eol/1e12:.1f} Gt\")"
   ]
  },
  {
   "cell_type": "code",
   "execution_count": null,
   "id": "53dad31f-c996-4b1f-856f-4a56ffc67987",
   "metadata": {
    "tags": []
   },
   "outputs": [],
   "source": [
    "# For comparison to Isella and Manca (2022): 1.4 Gt (excluding 1.3 Gt from \"refining\")\n",
    "gate_to_gate = (\n",
    "    results[\"EmissionsBySource_NG\"] + \n",
    "    results[\"EmissionsBySource_Elec\"] +\n",
    "    results[\"EmissionsBySource_Direct\"] +\n",
    "    results[\"GHG_production_fertiliser\"] -\n",
    "    results[\"EmissionsByStage_end_of_life\"]\n",
    ")\n",
    "print(f\"To compare to Isella and Manca (2022): {gate_to_gate/1e12:.1f} Gt\")"
   ]
  },
  {
   "cell_type": "code",
   "execution_count": null,
   "id": "c7251f26-9167-4ed6-9a2e-bdb5faad65d9",
   "metadata": {
    "tags": []
   },
   "outputs": [],
   "source": [
    "# For comparison to IEA: 0.94 Gt\n",
    "IEA_emissions = (\n",
    "    results[\"EmissionsBySource_NG\"] + \n",
    "    results[\"EmissionsBySource_Direct\"] +\n",
    "    results[\"GHG_production_fertiliser\"] -\n",
    "    results[\"EmissionsByStage_end_of_life\"]\n",
    ")\n",
    "print(f\"To compare to IEA: {IEA_emissions/1e12:.1f} Gt\")"
   ]
  },
  {
   "cell_type": "markdown",
   "id": "9a15cb53-999b-448c-8f69-71ef2701c26a",
   "metadata": {},
   "source": [
    "## Other information"
   ]
  },
  {
   "cell_type": "markdown",
   "id": "076a654c-2020-4dda-b432-2fab402fa2d3",
   "metadata": {},
   "source": [
    "Show the end of life polymer quantities:"
   ]
  },
  {
   "cell_type": "code",
   "execution_count": null,
   "id": "55137e45-3b46-424a-83a4-858197a72a42",
   "metadata": {
    "tags": []
   },
   "outputs": [],
   "source": [
    "flows = update_flows(**baseline_lever_settings)\n",
    "polymer_objects = [\n",
    "    \"LDPEPolyethylene\",\n",
    "    \"HDPEPolyethylene\",\n",
    "    \"PPPolypropylene\",\n",
    "    \"PSPolystyrene\",\n",
    "    \"PVCPolyvinylChloride\",\n",
    "    \"PETPolyethyleneTerephthalatePolyesters\",\n",
    "    \"Polyurethane\",\n",
    "    \"SyntheticRubbers\",\n",
    "    \"OtherPolymers\",\n",
    "    \"LLDPE\",\n",
    "    \"FibrePPA\",\n",
    "]\n",
    "eol_polymers = {f\"{name}AtEOL\" for name in polymer_objects}\n",
    "eol_polymer_quantities = flows[flows.target.isin(eol_polymers)].groupby(\"material\")[[\"value\"]].sum()\n",
    "eol_polymer_quantities"
   ]
  },
  {
   "cell_type": "code",
   "execution_count": null,
   "id": "bb267ad2-6880-4906-bab3-473faea21d33",
   "metadata": {
    "tags": []
   },
   "outputs": [],
   "source": [
    "eol_polymer_quantities.plot.barh();"
   ]
  },
  {
   "cell_type": "code",
   "execution_count": null,
   "id": "1b237682-b4ac-4a32-ab40-5f3bf00046a2",
   "metadata": {
    "tags": []
   },
   "outputs": [],
   "source": [
    "eol_polymer_quantities.to_csv(\"~/Desktop/eol_polymers.csv\")"
   ]
  },
  {
   "cell_type": "markdown",
   "id": "b92f8028-1386-46c3-a392-a6d202260b18",
   "metadata": {},
   "source": [
    "How much BTX demand is there at baseline?"
   ]
  },
  {
   "cell_type": "code",
   "execution_count": null,
   "id": "e8c30879-6215-4264-a89f-82a34ec2701f",
   "metadata": {
    "tags": []
   },
   "outputs": [],
   "source": [
    "btx = [\n",
    "    \"Benzene\",\n",
    "    \"Toluene\",\n",
    "    \"Xylenes\",\n",
    "]\n",
    "btx_quantities = flows[flows.source.isin(btx) & ~flows.target.str.startswith(\"OtherConsumptionOf\") & ~flows.target.str.startswith(\"Disproportionation\")] #.groupby(\"material\")[[\"value\"]].sum()\n",
    "btx_quantities"
   ]
  },
  {
   "cell_type": "code",
   "execution_count": null,
   "id": "e16e003c-0393-4629-b58a-c8b6e070cdea",
   "metadata": {
    "tags": []
   },
   "outputs": [],
   "source": [
    "btx_quantities.groupby(\"material\")[[\"value\"]].sum() / 1e6"
   ]
  },
  {
   "cell_type": "markdown",
   "id": "32da076d-aa06-4c63-a50f-4ac3e576fed1",
   "metadata": {},
   "source": [
    "Expected production values for these (from ICIS) are"
   ]
  },
  {
   "cell_type": "code",
   "execution_count": null,
   "id": "792ebf19-6878-4bfd-906e-c5453a8e5b47",
   "metadata": {
    "tags": []
   },
   "outputs": [],
   "source": [
    "btx_2013 = pd.DataFrame(\n",
    "    [\n",
    "        [12.3, 7.1, 23.5, 44.78, 49.1],\n",
    "        [7.7, -11.6, 15.4, 26.51, 28.3],\n",
    "        [0.3+0.6+0.8, 0.9+0.8+1.7, 36.2+2.1-1.9, 77.57, 103.4],\n",
    "    ],\n",
    "    columns=[\"cracking\", \"conversion\", \"refining\", \"icis_2013\", \"icis_2020\",],\n",
    "    index=[\"Benzene\", \"Toluene\", \"Xylenes\"],\n",
    ")\n",
    "btx_2013"
   ]
  },
  {
   "cell_type": "code",
   "execution_count": null,
   "id": "aab9b0cd-c4b4-4b4c-b130-e88aa7d46e4d",
   "metadata": {
    "tags": []
   },
   "outputs": [],
   "source": [
    "btx_2013[\"levi_total\"] = btx_2013[[\"cracking\", \"conversion\", \"refining\"]].sum(axis=1)\n",
    "btx_2013[\"levi_gross\"] = btx_2013[[\"cracking\", \"refining\"]].sum(axis=1) + np.maximum(0, btx_2013[\"conversion\"])\n",
    "btx_2013[\"model\"] = (btx_quantities.groupby(\"material\")[\"value\"].sum() / 1e6)"
   ]
  },
  {
   "cell_type": "code",
   "execution_count": null,
   "id": "a620850d-a3f3-44d3-8d19-6a5981975b9e",
   "metadata": {
    "tags": []
   },
   "outputs": [],
   "source": [
    "btx_2013"
   ]
  },
  {
   "cell_type": "code",
   "execution_count": null,
   "id": "e7847e98-a664-4c37-bd04-2f83c7b5331f",
   "metadata": {
    "tags": []
   },
   "outputs": [],
   "source": [
    "btx_2013[\"icis_2020\"] - btx_2013[\"model\"]"
   ]
  },
  {
   "cell_type": "markdown",
   "id": "a6f62212-4bd5-4580-911b-0712f13ced1c",
   "metadata": {},
   "source": [
    "How much of the benzene is sourced from conversion?"
   ]
  },
  {
   "cell_type": "code",
   "execution_count": null,
   "id": "5a284c4e-6d98-4a3e-be72-22bebb42c74d",
   "metadata": {
    "tags": []
   },
   "outputs": [],
   "source": [
    "btx_2013.loc[\"Benzene\", \"conversion\"] / btx_2013.loc[\"Benzene\", \"levi_total\"]"
   ]
  },
  {
   "cell_type": "code",
   "execution_count": null,
   "id": "94fd4ad5-6bf4-4b14-a6aa-4a23b7777ebe",
   "metadata": {
    "tags": []
   },
   "outputs": [],
   "source": [
    "btx_2013.loc[\"Xylenes\", \"conversion\"] / btx_2013.loc[\"Xylenes\", \"levi_total\"]"
   ]
  },
  {
   "cell_type": "markdown",
   "id": "78e53a96-b61c-4e04-84d1-91bd184ef5f5",
   "metadata": {},
   "source": [
    "8% of xylenes came from conversion, and 17% of benzene.\n",
    "\n",
    "What's the yield of the conversion? (on average, across the two)."
   ]
  },
  {
   "cell_type": "code",
   "execution_count": null,
   "id": "d1423b97-7d3d-4fde-a174-a1d21924ba96",
   "metadata": {
    "tags": []
   },
   "outputs": [],
   "source": [
    "(btx_2013.loc[\"Benzene\", \"conversion\"] + btx_2013.loc[\"Xylenes\", \"conversion\"]) / -btx_2013.loc[\"Toluene\", \"conversion\"]"
   ]
  },
  {
   "cell_type": "markdown",
   "id": "94bb99dd-9bd4-46ff-b3d6-1255b5820925",
   "metadata": {},
   "source": [
    "Assume these fractions still apply in 2020 (since we don't have other data) -- so the amount of toluene used to convert to xylenes and benzene respectively is:"
   ]
  },
  {
   "cell_type": "code",
   "execution_count": null,
   "id": "ad18ab12-4a21-445f-ac3c-32fbb6ee7851",
   "metadata": {
    "tags": []
   },
   "outputs": [],
   "source": [
    "btx_2013.loc[\"Xylenes\", \"icis_2020\"] * 0.082 / 0.905"
   ]
  },
  {
   "cell_type": "code",
   "execution_count": null,
   "id": "26503b9f-8174-4c25-8894-b63fd0578366",
   "metadata": {
    "tags": []
   },
   "outputs": [],
   "source": [
    "btx_2013.loc[\"Benzene\", \"icis_2020\"] * 0.166 / 0.905"
   ]
  },
  {
   "cell_type": "markdown",
   "id": "bfa39a2b-c3d8-4b3a-af6c-82648a67c7ae",
   "metadata": {},
   "source": [
    "So corrected production of toluene is:"
   ]
  },
  {
   "cell_type": "code",
   "execution_count": null,
   "id": "36d2d822-d28b-4b7a-a481-c311428ebe48",
   "metadata": {
    "tags": []
   },
   "outputs": [],
   "source": [
    "btx_2013.loc[\"Toluene\", \"icis_2020\"] - (btx_2013.loc[\"Xylenes\", \"icis_2020\"] * 0.082 + btx_2013.loc[\"Benzene\", \"icis_2020\"] * 0.166) / 0.905"
   ]
  },
  {
   "cell_type": "code",
   "execution_count": null,
   "id": "ef38e1a6-28e4-47a8-b329-703682fa7289",
   "metadata": {
    "tags": []
   },
   "outputs": [],
   "source": [
    "btx_2013.loc[\"Toluene\", \"icis_2020_corrected\"] = (\n",
    "    btx_2013.loc[\"Toluene\", \"icis_2020\"] - \n",
    "    (btx_2013.loc[\"Xylenes\", \"icis_2020\"] * 0.082 + btx_2013.loc[\"Benzene\", \"icis_2020\"] * 0.166) / 0.905\n",
    ")\n",
    "btx_2013.loc[\"Xylenes\", \"icis_2020_corrected\"] = btx_2013.loc[\"Xylenes\", \"icis_2020\"]\n",
    "btx_2013.loc[\"Benzene\", \"icis_2020_corrected\"] = btx_2013.loc[\"Benzene\", \"icis_2020\"]\n",
    "btx_2013"
   ]
  },
  {
   "cell_type": "code",
   "execution_count": null,
   "id": "72ce4c5c-c37a-41b7-8915-f505f3c0c5ea",
   "metadata": {
    "tags": []
   },
   "outputs": [],
   "source": [
    "extra_demand = btx_2013[\"icis_2020_corrected\"] - btx_2013[\"model\"]\n",
    "extra_demand"
   ]
  },
  {
   "cell_type": "markdown",
   "id": "fb1f2d14-cb1a-4260-a07b-aab3a5b5a52e",
   "metadata": {},
   "source": [
    "Going to future years, we will assume that the same fraction of the ICIS production"
   ]
  }
 ],
 "metadata": {
  "kernelspec": {
   "display_name": "Python 3 (ipykernel)",
   "language": "python",
   "name": "python3"
  },
  "language_info": {
   "codemirror_mode": {
    "name": "ipython",
    "version": 3
   },
   "file_extension": ".py",
   "mimetype": "text/x-python",
   "name": "python",
   "nbconvert_exporter": "python",
   "pygments_lexer": "ipython3",
   "version": "3.10.14"
  }
 },
 "nbformat": 4,
 "nbformat_minor": 5
}
