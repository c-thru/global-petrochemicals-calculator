{
 "cells": [
  {
   "cell_type": "markdown",
   "id": "99a07bde",
   "metadata": {},
   "source": [
    "# Historical validation - Levi's data\n",
    "\n",
    "This notebook takes data for polymer production, applies to the model, and checks the production of primary chemicals, based on Peter Levi's chemical mapping.\n",
    "\n",
    "This tests the production part of the model in isolation (separate from the calculation of current and future demand for polymers, based on the dynamic stock model)."
   ]
  },
  {
   "cell_type": "code",
   "execution_count": null,
   "id": "3419f300",
   "metadata": {
    "tags": []
   },
   "outputs": [],
   "source": [
    "import numpy as np\n",
    "import logging\n",
    "import re\n",
    "import pandas as pd\n",
    "import json"
   ]
  },
  {
   "cell_type": "code",
   "execution_count": null,
   "id": "23856c7e",
   "metadata": {
    "tags": []
   },
   "outputs": [],
   "source": [
    "%load_ext autoreload\n",
    "%autoreload 2"
   ]
  },
  {
   "cell_type": "markdown",
   "id": "0af8ac22",
   "metadata": {
    "tags": []
   },
   "source": [
    "## Define levers\n",
    "\n",
    "Load from `levels.xlsx`"
   ]
  },
  {
   "cell_type": "code",
   "execution_count": null,
   "id": "5f4df41e",
   "metadata": {
    "tags": []
   },
   "outputs": [],
   "source": [
    "from load_levers import read_levers\n",
    "levers = read_levers(\"levers.xlsx\")"
   ]
  },
  {
   "cell_type": "markdown",
   "id": "76efbd96-2bd6-4dd9-b354-c0e11d75ac07",
   "metadata": {
    "tags": []
   },
   "source": [
    "## Model"
   ]
  },
  {
   "cell_type": "code",
   "execution_count": null,
   "id": "9da4bba6-a8c4-4c59-b392-6b5ceaa42e93",
   "metadata": {
    "tags": []
   },
   "outputs": [],
   "source": [
    "import load_model\n",
    "model_data = load_model.load_model()"
   ]
  },
  {
   "cell_type": "code",
   "execution_count": null,
   "id": "5819d68d-266d-4cd3-a2c6-3006e2a48571",
   "metadata": {
    "tags": []
   },
   "outputs": [],
   "source": [
    "from load_model_polymers import define_polymer_model_validation, polymer_objects, extra_demand_names\n",
    "model, recipe_data = load_model.build_model(model_data)\n",
    "define_polymer_model_validation(model)"
   ]
  },
  {
   "cell_type": "code",
   "execution_count": null,
   "id": "329714c9",
   "metadata": {
    "tags": []
   },
   "outputs": [],
   "source": [
    "flows_sym = model.to_flows(recipe_data, flow_ids=True)\n",
    "func = model.lambdify(recipe_data)"
   ]
  },
  {
   "cell_type": "markdown",
   "id": "0c3b1d88",
   "metadata": {},
   "source": [
    "# Load baseline data from levers\n",
    "\n",
    "We use the baseline lever data (which represents default/baseline values for many parameters, not just future changes), supplemented with the specific historical polymer demand data."
   ]
  },
  {
   "cell_type": "code",
   "execution_count": null,
   "id": "dd307d8c",
   "metadata": {
    "tags": []
   },
   "outputs": [],
   "source": [
    "from sankey_definitions import sdd_overall, sdd_lifecycle, sdd_eol, sdd_chemical_synthesis, sdd_primary, sdd_feedstock, palette\n",
    "from floweaver import weave, Dataset\n",
    "from utils import update_sankey_data"
   ]
  },
  {
   "cell_type": "code",
   "execution_count": null,
   "id": "ab89e543-72b2-4a87-a1f8-b874c8da8359",
   "metadata": {
    "tags": []
   },
   "outputs": [],
   "source": [
    "# Work around dodgy floweaver behaviour -- flows index is reset when Dataset\n",
    "# is created. This only works because not using dim_process etc.\n",
    "dataset = Dataset(flows_sym)\n",
    "dataset._flows = dataset._table = flows_sym.set_index(\"id\")\n",
    "\n",
    "sdds = {\n",
    "    \"overall\": sdd_overall,\n",
    "    \"feedstock\": sdd_feedstock,\n",
    "    \"synthesis\": sdd_chemical_synthesis,\n",
    "    \"lifecycle\": sdd_lifecycle,\n",
    "    \"primary\": sdd_primary,\n",
    "    \"eol\": sdd_eol,\n",
    "}\n",
    "\n",
    "sankey_data = {\n",
    "    k: weave(sdd, dataset, palette=palette)\n",
    "    for k, sdd in sdds.items()\n",
    "}\n",
    "\n",
    "baseline_lever_settings = {lever.lever_id: lever.levels[0].level_id for lever in levers.levers}\n",
    "test_params = levers.get_params(baseline_lever_settings, time_index=0)"
   ]
  },
  {
   "cell_type": "markdown",
   "id": "0b5c3494-acf6-4703-a18e-5a8e4540f6cc",
   "metadata": {},
   "source": [
    "Load the historical demand data"
   ]
  },
  {
   "cell_type": "code",
   "execution_count": null,
   "id": "758c973c-d7c2-4304-beb8-1a7a11d903bf",
   "metadata": {
    "tags": []
   },
   "outputs": [],
   "source": [
    "polymer_demand = pd.read_excel(\"../validation/levi_data.xlsx\", sheet_name=\"Polymers\", index_col=\"object\")\n",
    "polymer_demand"
   ]
  },
  {
   "cell_type": "code",
   "execution_count": null,
   "id": "11e98823-a326-4746-a674-782088b6b1af",
   "metadata": {
    "tags": []
   },
   "outputs": [],
   "source": [
    "primary_chemicals = pd.read_excel(\"../validation/levi_data.xlsx\", sheet_name=\"Primary\", index_col=\"object\")\n",
    "primary_chemicals"
   ]
  },
  {
   "cell_type": "markdown",
   "id": "af6264cb-e780-49ca-8f76-0294e148bc23",
   "metadata": {},
   "source": [
    "## Check: historical polymer demand data vs stock model demand for 2020"
   ]
  },
  {
   "cell_type": "code",
   "execution_count": null,
   "id": "bf6f78a0-8228-4c32-9344-3afc73f8ec74",
   "metadata": {
    "tags": []
   },
   "outputs": [],
   "source": [
    "baseline_flows = pd.read_csv(\"../outputs/baseline_flows.csv\")\n",
    "baseline_polymer_production = {}\n",
    "for obj in polymer_objects:\n",
    "    df = baseline_flows[(baseline_flows.target == obj) & baseline_flows.source.str.startswith(\"PolymerisationOf\")]\n",
    "    assert len(df) == 1\n",
    "    baseline_polymer_production[obj] = df.iloc[0][\"value\"]\n",
    "baseline_polymer_production = pd.Series(baseline_polymer_production)\n",
    "baseline_polymer_production"
   ]
  },
  {
   "cell_type": "code",
   "execution_count": null,
   "id": "41639e8c-8c5d-455e-922b-a440dad487d1",
   "metadata": {
    "tags": []
   },
   "outputs": [],
   "source": [
    "cmp = pd.concat({\n",
    "    \"Levi\": polymer_demand[\"demand\"],\n",
    "    \"Baseline model\": baseline_polymer_production,\n",
    "}, axis=1).round(1)\n",
    "cmp"
   ]
  },
  {
   "cell_type": "code",
   "execution_count": null,
   "id": "ca26ce75-c6e1-40b6-95a8-4ed618cf2d9a",
   "metadata": {
    "tags": []
   },
   "outputs": [],
   "source": [
    "cmp.plot.barh();"
   ]
  },
  {
   "cell_type": "code",
   "execution_count": null,
   "id": "071a78db-b0fa-4356-b8a1-66c33b68729c",
   "metadata": {
    "tags": []
   },
   "outputs": [],
   "source": [
    "def get_historical_polymer_demand(year):\n",
    "    assert year == 2013  # only year we have from Levi\n",
    "    # Model is defined in tonnes\n",
    "    s = polymer_demand[\"demand\"] * 1e6\n",
    "    return [s.get(obj, 0) for obj in polymer_objects]\n",
    "\n",
    "def get_historical_extra_primary_demand(year):\n",
    "    assert year == 2013  # only year we have from Levi\n",
    "    # Model is defined in tonnes\n",
    "    s = primary_chemicals[\"for_non_polymers\"] * 1e6\n",
    "    return [s.get(obj, 0) for obj in extra_demand_names]"
   ]
  },
  {
   "cell_type": "code",
   "execution_count": null,
   "id": "6d972ed3-954c-4796-bba9-94fe5a261441",
   "metadata": {
    "tags": []
   },
   "outputs": [],
   "source": [
    "get_historical_polymer_demand(2013)"
   ]
  },
  {
   "cell_type": "code",
   "execution_count": null,
   "id": "a78c6078-e7c2-4fc3-aee9-0a7a92a702ad",
   "metadata": {
    "tags": []
   },
   "outputs": [],
   "source": [
    "get_historical_extra_primary_demand(2013)"
   ]
  },
  {
   "cell_type": "code",
   "execution_count": null,
   "id": "3cef82fc-003e-4303-8d9c-3b812ed88732",
   "metadata": {
    "tags": []
   },
   "outputs": [],
   "source": [
    "test_params[\"Z_polymer\"] = get_historical_polymer_demand(2013)"
   ]
  },
  {
   "cell_type": "code",
   "execution_count": null,
   "id": "c2354bb4-b0a0-4f84-9fdb-30bdf92d5bf2",
   "metadata": {
    "tags": []
   },
   "outputs": [],
   "source": [
    "test_params[\"Z_extra\"] = [0,0,0,0]\n",
    "\n",
    "# Less capacity in 2013 than our base year of 2020\n",
    "test_params['C_ethylene_from_methyl_alcohol'] = 1.88e6\n",
    "test_params['C_xylenes_from_methyl_alcohol'] = 0\n",
    "test_params['C_ethyl_alcohol_from_biomass'] = 0\n",
    "    "
   ]
  },
  {
   "cell_type": "code",
   "execution_count": null,
   "id": "0ec967f9-8645-48d4-8d40-fe87ac9aa436",
   "metadata": {
    "tags": []
   },
   "outputs": [],
   "source": [
    "sankey_data_with_data = {\n",
    "    k: load_model.subs_in_sankey_data(d, func, test_params)\n",
    "    for k, d in sankey_data.items()\n",
    "}"
   ]
  },
  {
   "cell_type": "markdown",
   "id": "7003d222",
   "metadata": {},
   "source": [
    "Show a Sankey diagram with levers:"
   ]
  },
  {
   "cell_type": "code",
   "execution_count": null,
   "id": "a7e38cbe",
   "metadata": {
    "tags": []
   },
   "outputs": [],
   "source": [
    "from ipywidgets import interactive_output, Box, HBox, VBox, Combobox, interact, Dropdown, Button, IntSlider, Layout\n",
    "\n",
    "def update_sankey(sankey_id, time=0, **kwargs):\n",
    "    params = levers.get_params(baseline_lever_settings, time_index=time)\n",
    "    params[\"Z_polymer\"] = get_historical_polymer_demand(2000)\n",
    "    params[\"Z_extra\"] = [0,0,0,0]\n",
    "    # Less capacity in 2013 than our base year of 2020\n",
    "    params['C_ethylene_from_methyl_alcohol'] = 1.88e6\n",
    "    params['C_xylenes_from_methyl_alcohol'] = 0\n",
    "    params['C_ethyl_alcohol_from_biomass'] = 0\n",
    "    new_w = update_sankey_data(sankey_data[sankey_id], func(params)).to_widget(debugging=True)\n",
    "    old_sankey = w.children[0]\n",
    "    new_sankey = new_w.children[0]\n",
    "    old_sankey.on_link_clicked(new_sankey._link_clicked_handlers.callbacks[0])\n",
    "    old_sankey.links = new_sankey.links\n",
    "    old_sankey.nodes = new_sankey.nodes\n",
    "    old_sankey.order = new_sankey.order\n",
    "    old_sankey.groups = new_sankey.groups\n",
    "    w.children = (old_sankey, new_w.children[1])\n",
    "\n",
    "def adjust_scale(factor):\n",
    "    if w.children[0].scale is not None:\n",
    "        w.children[0].scale *= factor    \n",
    "    \n",
    "btn_inc = Button(description=\"Scale +\")\n",
    "btn_dec = Button(description=\"Scale –\")\n",
    "btn_inc.on_click(lambda b: adjust_scale(1.1))\n",
    "btn_dec.on_click(lambda b: adjust_scale(0.9))\n",
    "\n",
    "control_widgets = {\n",
    "    \"sankey_id\": Dropdown(value=\"primary\", options=sankey_data.keys()),\n",
    "    \"time\": IntSlider(min=0, max=6),\n",
    "}\n",
    "\n",
    "out = interactive_output(\n",
    "    update_sankey,\n",
    "    control_widgets\n",
    ")\n",
    "ui_layout = Layout(\n",
    "    display='flex',\n",
    "    flex_flow='row wrap',\n",
    "    align_items='stretch', \n",
    "    width='90%'\n",
    ")\n",
    "ui = Box(list(control_widgets.values()) + \n",
    "         [btn_inc, btn_dec], layout=ui_layout)\n",
    "w = sankey_data_with_data[control_widgets[\"sankey_id\"].value].to_widget(width=1300, height=700, debugging=True)\n",
    "VBox([ui, w])"
   ]
  },
  {
   "cell_type": "markdown",
   "id": "312814a2-1677-40bf-8c3c-8f74959c66c0",
   "metadata": {},
   "source": [
    "Instead, focus on showing the detailed flows rather than the Sankey diagram:"
   ]
  },
  {
   "cell_type": "code",
   "execution_count": null,
   "id": "24a9d2a7",
   "metadata": {
    "tags": []
   },
   "outputs": [],
   "source": [
    "def flows_for_historical_year(year, with_nonpolymer_demand=False):\n",
    "    params = levers.get_params(baseline_lever_settings, time_index=0)\n",
    "    params[\"Z_polymer\"] = get_historical_polymer_demand(year)\n",
    "    if with_nonpolymer_demand:\n",
    "        # B, T, X, MethylAlcohol\n",
    "        params[\"Z_extra\"] = get_historical_extra_primary_demand(year)\n",
    "    else:\n",
    "        params[\"Z_extra\"] = [0,0,0,0]\n",
    "        \n",
    "    # Less capacity in 2013 than our base year of 2020\n",
    "    params['C_ethylene_from_methyl_alcohol'] = 1.88e6\n",
    "    params['C_xylenes_from_methyl_alcohol'] = 0\n",
    "    \n",
    "    new_values = func(params)\n",
    "    flows = flows_sym.copy().set_index(\"id\")\n",
    "    del flows[\"metric\"]\n",
    "    for k, row in flows.iterrows():\n",
    "        flows.loc[k, \"value\"] = np.round(new_values[k] / 1e6, 1)\n",
    "    return flows"
   ]
  },
  {
   "cell_type": "code",
   "execution_count": null,
   "id": "4aadd5fa-e5ba-4cff-a38d-8e7e876b9a49",
   "metadata": {
    "tags": []
   },
   "outputs": [],
   "source": [
    "flows_2013 = flows_for_historical_year(2013)\n",
    "flows_2013_with_extra = flows_for_historical_year(2013, with_nonpolymer_demand=True)\n",
    "flows_2013"
   ]
  },
  {
   "cell_type": "code",
   "execution_count": null,
   "id": "e03ae068-bea3-4641-ac9e-d3f9886e5480",
   "metadata": {
    "tags": []
   },
   "outputs": [],
   "source": [
    "flows_2013.query(\"source == 'TerephthalicAcidPhthalicAnhydrideDioctylPhthalate'\") #[\"value\"].sum()"
   ]
  },
  {
   "cell_type": "code",
   "execution_count": null,
   "id": "248ce3aa-2ba2-469b-97b5-f8daf2a3134e",
   "metadata": {},
   "outputs": [],
   "source": [
    "primary_chemicals"
   ]
  },
  {
   "cell_type": "code",
   "execution_count": null,
   "id": "cbd451d1-ceb9-4d26-96dc-f1cd15b85afa",
   "metadata": {
    "tags": []
   },
   "outputs": [],
   "source": [
    "excluded_targets = [\n",
    "    \"DealkylationOfTolueneForBenzene\",\n",
    "    \"DisproportionationOfTolueneForXylenes\",\n",
    "]\n",
    "cmp_primary = pd.DataFrame([\n",
    "    {\n",
    "        \"object\": k,\n",
    "        \"model\": flows_2013.query(\"source == @k and target not in @excluded_targets\")[\"value\"].sum(),\n",
    "        \"model_extra\": flows_2013_with_extra.query(\"source == @k and target not in @excluded_targets\")[\"value\"].sum(),\n",
    "        \"levi_modelled\": row[\"for_modelled_polymers\"].round(1),\n",
    "        \"levi_otherpolymers\": row[\"for_otherpolymers\"].round(1),\n",
    "        \"levi_unknown_polymers\": row[\"for_unknown_polymers\"].round(1),\n",
    "        \"levi_non_polymers\": row[\"for_non_polymers\"].round(1),\n",
    "    }\n",
    "    for k, row in primary_chemicals.iterrows()\n",
    "]).set_index(\"object\")\n",
    "cmp_primary"
   ]
  },
  {
   "cell_type": "code",
   "execution_count": null,
   "id": "6bc3a802-0561-45ad-bde9-346283303c77",
   "metadata": {
    "tags": []
   },
   "outputs": [],
   "source": [
    "import matplotlib.pyplot as plt\n",
    "cmp_primary[[\"levi_modelled\", \"levi_otherpolymers\", \"levi_unknown_polymers\",\n",
    "             \"levi_non_polymers\"]].plot.barh(stacked=True, alpha=0.2);\n",
    "cmp_primary[[\"levi_modelled\", \"levi_otherpolymers\"]].plot.barh(stacked=True, alpha=0.7, ax=plt.gca());\n",
    "plt.plot(cmp_primary[\"model\"].values, range(len(cmp_primary)), marker='o', ls='none', c='k', label='model');\n",
    "plt.plot(cmp_primary[\"model_extra\"].values, range(len(cmp_primary)), marker='o', ls='none', c='C4', label='model with extra primary demand');\n",
    "plt.legend();"
   ]
  },
  {
   "cell_type": "code",
   "execution_count": null,
   "id": "b53da24b-3458-4512-bced-0f60b033f5b3",
   "metadata": {
    "tags": []
   },
   "outputs": [],
   "source": [
    "import matplotlib.pyplot as plt\n",
    "cmp_primary[[\"levi_modelled\", \"levi_otherpolymers\"]].plot.barh(stacked=True, alpha=0.7, ax=plt.gca());\n",
    "plt.plot(cmp_primary[\"model\"].values, range(len(cmp_primary)), marker='o', ls='none', c='k', label='model');\n",
    "plt.legend();"
   ]
  },
  {
   "cell_type": "markdown",
   "id": "8d28b198-dab5-43b8-801c-c06616c43890",
   "metadata": {},
   "source": [
    "- Methanol slightly low due to neglecting dimethyl terephthalate into PET\n",
    "- Xylenes and Toluene slightly high \n",
    "- We have neglected extra non-polymer demand for butene (butylenes) -- out of scope.\n",
    "- The representation of \"other polymers\" is limited and could be improved."
   ]
  },
  {
   "cell_type": "code",
   "execution_count": null,
   "id": "7823e899-b378-4860-a7c6-557b997cfcf6",
   "metadata": {},
   "outputs": [],
   "source": []
  }
 ],
 "metadata": {
  "kernelspec": {
   "display_name": "Python 3 (ipykernel)",
   "language": "python",
   "name": "python3"
  },
  "language_info": {
   "codemirror_mode": {
    "name": "ipython",
    "version": 3
   },
   "file_extension": ".py",
   "mimetype": "text/x-python",
   "name": "python",
   "nbconvert_exporter": "python",
   "pygments_lexer": "ipython3",
   "version": "3.10.14"
  }
 },
 "nbformat": 4,
 "nbformat_minor": 5
}
