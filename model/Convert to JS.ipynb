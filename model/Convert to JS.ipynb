{
 "cells": [
  {
   "cell_type": "markdown",
   "id": "99a07bde",
   "metadata": {},
   "source": [
    "# Convert model data for webapp\n",
    "\n",
    "This notebook prepares data and saves it in Javascript/JSON format for use by the webapp.\n",
    "\n",
    "1. The numerical model is translated into Javascript code, and saved as `model.js`.\n",
    "2. The Sankey diagrams are drawn and saved to a JSON file.\n",
    "3. The lever workbook is read and the processed contents saved to a JSON file."
   ]
  },
  {
   "cell_type": "code",
   "execution_count": null,
   "id": "3419f300",
   "metadata": {
    "tags": []
   },
   "outputs": [],
   "source": [
    "import numpy as np\n",
    "import logging\n",
    "import re\n",
    "import pandas as pd\n",
    "import json\n",
    "import sympy as sy"
   ]
  },
  {
   "cell_type": "code",
   "execution_count": null,
   "id": "23856c7e",
   "metadata": {
    "tags": []
   },
   "outputs": [],
   "source": [
    "%load_ext autoreload\n",
    "%autoreload 2"
   ]
  },
  {
   "cell_type": "markdown",
   "id": "0af8ac22",
   "metadata": {
    "tags": []
   },
   "source": [
    "## Define levers\n",
    "\n",
    "Currently just define them directly here in the notebook and write to JSON. Could parse these from elsewhere in future to make it easier to manage."
   ]
  },
  {
   "cell_type": "code",
   "execution_count": null,
   "id": "5f4df41e",
   "metadata": {
    "tags": []
   },
   "outputs": [],
   "source": [
    "from load_levers import read_levers\n",
    "levers = read_levers(\"levers.xlsx\")"
   ]
  },
  {
   "cell_type": "code",
   "execution_count": null,
   "id": "938580f6",
   "metadata": {
    "tags": []
   },
   "outputs": [],
   "source": [
    "# TODO the translation from X[0] to X__0 is Javascript model specific and should be done here"
   ]
  },
  {
   "cell_type": "code",
   "execution_count": null,
   "id": "073ba1cc",
   "metadata": {
    "tags": []
   },
   "outputs": [],
   "source": [
    "#levers"
   ]
  },
  {
   "cell_type": "code",
   "execution_count": null,
   "id": "169ac1db",
   "metadata": {
    "tags": []
   },
   "outputs": [],
   "source": [
    "#defaults"
   ]
  },
  {
   "cell_type": "code",
   "execution_count": null,
   "id": "6ef7acd7",
   "metadata": {
    "tags": []
   },
   "outputs": [],
   "source": [
    "with open(f\"/Users/rcl38/work/cthru/global-petrochemicals-calculator-app/static/levers.json\", \"wt\") as f:\n",
    "    json.dump(levers.to_dict(), f, indent=2)"
   ]
  },
  {
   "cell_type": "markdown",
   "id": "76efbd96-2bd6-4dd9-b354-c0e11d75ac07",
   "metadata": {
    "tags": []
   },
   "source": [
    "## Model"
   ]
  },
  {
   "cell_type": "code",
   "execution_count": null,
   "id": "9da4bba6-a8c4-4c59-b392-6b5ceaa42e93",
   "metadata": {
    "tags": []
   },
   "outputs": [],
   "source": [
    "import load_model\n",
    "model_data = load_model.load_model()"
   ]
  },
  {
   "cell_type": "code",
   "execution_count": null,
   "id": "e8f4b933",
   "metadata": {
    "tags": []
   },
   "outputs": [],
   "source": [
    "model, recipe_data = load_model.build_model(model_data)\n",
    "other_results = load_model.define_model(model, recipe_data, levers)"
   ]
  },
  {
   "cell_type": "code",
   "execution_count": null,
   "id": "329714c9",
   "metadata": {
    "tags": []
   },
   "outputs": [],
   "source": [
    "flows_sym = model.to_flows(recipe_data, flow_ids=True)\n",
    "func = model.lambdify(recipe_data)"
   ]
  },
  {
   "cell_type": "code",
   "execution_count": null,
   "id": "fe572298",
   "metadata": {
    "tags": []
   },
   "outputs": [],
   "source": [
    "from sympy import Indexed\n",
    "from sympy.printing.jscode import jscode\n",
    "\n",
    "#def indexed_to_single_symbol(sym):\n",
    "#    return re.sub(r\"^(.+)[[](.+)[]]$\", r\"~~\\1~~\\2~~\", str(sym))\n",
    "\n",
    "#def single_symbols_to_indexed(s):\n",
    "#    new, _ = re.subn(r\"~~([^~]+)~~([^~]+)~~\", r\"\\1[\\2]\", s)\n",
    "#    return new\n",
    "\n",
    "def indexed_to_single_symbol(sym):\n",
    "    return re.sub(r\"^(.+)[[](.+)[]]$\", r\"\\1__\\2\", str(sym))\n",
    "\n",
    "def single_symbols_to_indexed(s):\n",
    "    return s\n",
    "\n",
    "def to_js_module(values, intermediates, data_for_intermediates):\n",
    "    symbols = set()\n",
    "    items = []\n",
    "    for id, value in values.items():\n",
    "        value = value.xreplace(recipe_data)\n",
    "        value = value.xreplace({\n",
    "            x: sy.Symbol(indexed_to_single_symbol(x)) for x in value.free_symbols if isinstance(x, Indexed)\n",
    "        })\n",
    "        symbols.update({str(x) for x in value.free_symbols if not isinstance(x, sy.Indexed)})\n",
    "        items.append(\n",
    "            f'\"{id}\": ({single_symbols_to_indexed(jscode(value))}),'\n",
    "        )\n",
    "\n",
    "    # Substitute recipe in intermediates now\n",
    "    # FIXME double substitution\n",
    "    intermediates = [\n",
    "        (sym, expr.xreplace(data_for_intermediates).xreplace(data_for_intermediates))\n",
    "        for sym, expr, _ in intermediates\n",
    "    ]\n",
    "    \n",
    "    intermediates = [\n",
    "        (sym, expr.xreplace({\n",
    "            x: sy.Symbol(indexed_to_single_symbol(x)) for x in expr.free_symbols if isinstance(x, Indexed)\n",
    "        }))\n",
    "        for sym, expr in intermediates\n",
    "    ]\n",
    "    \n",
    "    for sym, expr in intermediates:\n",
    "        symbols.update({str(x) for x in expr.free_symbols if not isinstance(x, sy.Indexed)})\n",
    "\n",
    "    for sym, expr in intermediates:\n",
    "        symbols -= {str(sym)}\n",
    "        \n",
    "    intermediates_str = single_symbols_to_indexed(\"\\n\".join([\n",
    "        \"const \" + str(sym) + \" = \" + jscode(expr) + \";\"\n",
    "        for sym, expr in intermediates\n",
    "    ]))\n",
    "    args_list = \", \".join(symbols)\n",
    "    body = \"\\n        \".join(items)\n",
    "    s = \"\"\"\n",
    "// Generated from Python model\n",
    "export default function(params) {\n",
    "    const Max = Math.max;\n",
    "    const {%s} = params;\n",
    "    %s\n",
    "    return {\n",
    "        %s\n",
    "    }\n",
    "}\n",
    "\"\"\" % (args_list, intermediates_str, body)\n",
    "    return s"
   ]
  },
  {
   "cell_type": "code",
   "execution_count": null,
   "id": "b4ad47dd",
   "metadata": {
    "tags": []
   },
   "outputs": [],
   "source": [
    "flows_sym_values = {row.id: row.value for _, row in flows_sym.iterrows()}"
   ]
  },
  {
   "cell_type": "code",
   "execution_count": null,
   "id": "39b6de08",
   "metadata": {
    "tags": []
   },
   "outputs": [],
   "source": [
    "s = to_js_module({**flows_sym_values, **other_results}, model._intermediates, recipe_data)\n",
    "#print(s)"
   ]
  },
  {
   "cell_type": "code",
   "execution_count": null,
   "id": "5a06dcec",
   "metadata": {
    "tags": []
   },
   "outputs": [],
   "source": [
    "with open(\"/Users/rcl38/work/cthru/global-petrochemicals-calculator-app/lib/model.js\", \"wt\") as f:\n",
    "    f.write(s)"
   ]
  },
  {
   "cell_type": "markdown",
   "id": "d125a7e3",
   "metadata": {
    "tags": []
   },
   "source": [
    "## Sankey diagrams"
   ]
  },
  {
   "cell_type": "code",
   "execution_count": null,
   "id": "70b80b88",
   "metadata": {
    "tags": []
   },
   "outputs": [],
   "source": [
    "baseline = {lever.lever_id: lever.levels[0].level_id for lever in levers.levers}\n",
    "data_for_sankey = levers.get_params(baseline, 0)"
   ]
  },
  {
   "cell_type": "code",
   "execution_count": null,
   "id": "dd307d8c",
   "metadata": {
    "tags": []
   },
   "outputs": [],
   "source": [
    "from sankey_definitions import sdd_overall, sdd_lifecycle, sdd_eol, sdd_chemical_synthesis, sdd_primary, sdd_feedstock, palette\n",
    "from floweaver import weave, Dataset"
   ]
  },
  {
   "cell_type": "code",
   "execution_count": null,
   "id": "5a7bf95d",
   "metadata": {
    "tags": []
   },
   "outputs": [],
   "source": [
    "# This is necessary so that the list of flow_ids is saved into JSON\n",
    "#\n",
    "# FIXME wouldn't need to customise this here if floweaver saved original_flows into JSON\n",
    "\n",
    "def measures(group):\n",
    "    # if \"4447a79b718289f47e017f3843a6a7aa\" in group.index:\n",
    "    #     print(group.iloc[0])\n",
    "    return {\n",
    "        \"value\": group[\"value\"].sum(),\n",
    "        \"flow_ids\": list(group.index),\n",
    "    }\n",
    "\n",
    "def link_width(data):\n",
    "    return data[\"value\"]"
   ]
  },
  {
   "cell_type": "code",
   "execution_count": null,
   "id": "11b4515b",
   "metadata": {
    "tags": []
   },
   "outputs": [],
   "source": [
    "# Work around dodgy floweaver behaviour -- flows index is reset when Dataset\n",
    "# is created. This only works because not using dim_process etc.\n",
    "dataset = Dataset(flows_sym)\n",
    "dataset._flows = dataset._table = flows_sym.set_index(\"id\")\n",
    "\n",
    "sdds = {\n",
    "    \"overall\": sdd_overall,\n",
    "    \"synthesis\": sdd_chemical_synthesis,\n",
    "    \"lifecycle\": sdd_lifecycle,\n",
    "    \"primary\": sdd_primary,\n",
    "    \"feedstock\": sdd_feedstock,\n",
    "    \"eol\": sdd_eol,\n",
    "}\n",
    "\n",
    "baseline_lever_settings = {lever.lever_id: lever.levels[0].level_id for lever in levers.levers}\n",
    "test_params = levers.get_params(baseline_lever_settings, time_index=0)\n",
    "\n",
    "\n",
    "sankey_data = {\n",
    "    k: weave(sdd, dataset, measures=measures, link_width=link_width, palette=palette)\n",
    "    for k, sdd in sdds.items()\n",
    "}\n",
    "\n",
    "sankey_data_with_data = {\n",
    "    k: load_model.subs_in_sankey_data(d, func, test_params)\n",
    "    for k, d in sankey_data.items()\n",
    "}"
   ]
  },
  {
   "cell_type": "code",
   "execution_count": null,
   "id": "eed56cf6-e748-488b-aada-04f595820f1c",
   "metadata": {
    "tags": []
   },
   "outputs": [],
   "source": [
    "!mkdir -p sankeys"
   ]
  },
  {
   "cell_type": "code",
   "execution_count": null,
   "id": "3cf7ae30-492d-48a6-85f6-268ca8a42900",
   "metadata": {
    "tags": []
   },
   "outputs": [],
   "source": [
    "sankey_data_with_data[\"overall\"].to_widget(width=1000, height=600).auto_save_png(\"sankeys/overall.png\")"
   ]
  },
  {
   "cell_type": "code",
   "execution_count": null,
   "id": "46133fdf",
   "metadata": {
    "tags": []
   },
   "outputs": [],
   "source": [
    "sankey_data_with_data[\"synthesis\"].to_widget(width=1000, height=600).auto_save_png(\"sankeys/synthesis.png\")"
   ]
  },
  {
   "cell_type": "code",
   "execution_count": null,
   "id": "91be91f8",
   "metadata": {
    "tags": []
   },
   "outputs": [],
   "source": [
    "sankey_data_with_data[\"lifecycle\"].to_widget(width=1000, height=400).auto_save_png(\"sankeys/lifecycle.png\")"
   ]
  },
  {
   "cell_type": "code",
   "execution_count": null,
   "id": "04f62388",
   "metadata": {
    "tags": []
   },
   "outputs": [],
   "source": [
    "sankey_data_with_data[\"primary\"].to_widget(width=1000, height=600).auto_save_png(\"sankeys/primary.png\")"
   ]
  },
  {
   "cell_type": "code",
   "execution_count": null,
   "id": "b15ff4f0-e0b5-4044-9bad-5a1c7bcaff8a",
   "metadata": {},
   "outputs": [],
   "source": [
    "sankey_data_with_data[\"feedstock\"].to_widget(width=1000, height=400).auto_save_png(\"sankeys/feedstock.png\")"
   ]
  },
  {
   "cell_type": "code",
   "execution_count": null,
   "id": "7b5473f3-efbe-4b88-a3c7-d26b084cbecb",
   "metadata": {
    "tags": []
   },
   "outputs": [],
   "source": [
    "sankey_data_with_data[\"eol\"].to_widget(width=1000, height=400).auto_save_png(\"sankeys/eol.png\")"
   ]
  },
  {
   "cell_type": "code",
   "execution_count": null,
   "id": "1a69dcd9",
   "metadata": {
    "tags": []
   },
   "outputs": [],
   "source": [
    "import json\n",
    "\n",
    "sankey_scales = {\n",
    "    \"overall\": 1e-7,\n",
    "    \"synthesis\": 2e-7,\n",
    "    \"lifecycle\": 1e-7,\n",
    "    \"primary\": 1e-7,\n",
    "    \"feedstock\": 1e-7,\n",
    "    \"eol\": 1e-7,\n",
    "}\n",
    "\n",
    "with open(f\"/Users/rcl38/work/cthru/global-petrochemicals-calculator-app/static/diagrams_bundle.json\", \"wt\") as f:\n",
    "    json.dump({\n",
    "        k: {\n",
    "            \"id\": k,\n",
    "            \"shortRef\": k,\n",
    "            \"label\": k.title(),\n",
    "            \"ancestors\": [],\n",
    "            \"parent\": None,\n",
    "            \"children\": [],\n",
    "            # Strip \"value\" which is a Sympy expression which is not serialisable. The value will be added back by the model.\n",
    "            \"diagram\": load_model.reset_value_in_sankey_data(sankey_data[k]).to_json(format=\"widget\"),\n",
    "            \"scale\": sankey_scales[k],\n",
    "        }\n",
    "        for k in sdds\n",
    "    }, f, indent=2)"
   ]
  },
  {
   "cell_type": "code",
   "execution_count": null,
   "id": "3e4f5fc6-f1e7-46db-8e02-f50c0f6df718",
   "metadata": {},
   "outputs": [],
   "source": []
  },
  {
   "cell_type": "code",
   "execution_count": null,
   "id": "be5b84d0-c21b-4e03-87c9-91f7dafaa873",
   "metadata": {},
   "outputs": [],
   "source": []
  },
  {
   "cell_type": "code",
   "execution_count": null,
   "id": "b3b350c8-f3f8-4056-81d5-17e0f0ea466d",
   "metadata": {},
   "outputs": [],
   "source": []
  }
 ],
 "metadata": {
  "kernelspec": {
   "display_name": "Python 3 (ipykernel)",
   "language": "python",
   "name": "python3"
  },
  "language_info": {
   "codemirror_mode": {
    "name": "ipython",
    "version": 3
   },
   "file_extension": ".py",
   "mimetype": "text/x-python",
   "name": "python",
   "nbconvert_exporter": "python",
   "pygments_lexer": "ipython3",
   "version": "3.10.14"
  }
 },
 "nbformat": 4,
 "nbformat_minor": 5
}
