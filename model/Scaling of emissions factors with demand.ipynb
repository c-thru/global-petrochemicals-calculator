{
 "cells": [
  {
   "cell_type": "markdown",
   "id": "99a07bde",
   "metadata": {},
   "source": [
    "# Enumerate model solution space\n",
    "\n",
    "This notebook loads the levers data and model, and tries to enumerate all the solutions in the solution space (i.e. all combinations of lever settings)."
   ]
  },
  {
   "cell_type": "code",
   "execution_count": 1,
   "id": "3419f300",
   "metadata": {
    "tags": []
   },
   "outputs": [],
   "source": [
    "import numpy as np\n",
    "import logging\n",
    "import re\n",
    "import pandas as pd\n",
    "import json"
   ]
  },
  {
   "cell_type": "code",
   "execution_count": 2,
   "id": "23856c7e",
   "metadata": {
    "tags": []
   },
   "outputs": [],
   "source": [
    "%load_ext autoreload\n",
    "%autoreload 2"
   ]
  },
  {
   "cell_type": "markdown",
   "id": "0af8ac22",
   "metadata": {
    "tags": []
   },
   "source": [
    "## Define levers\n",
    "\n",
    "Load from `levels.xlsx`"
   ]
  },
  {
   "cell_type": "code",
   "execution_count": 3,
   "id": "5f4df41e",
   "metadata": {
    "tags": []
   },
   "outputs": [
    {
     "name": "stderr",
     "output_type": "stream",
     "text": [
      "/Users/rcl38/work/cthru/global-petrochemicals-calculator/model/load_levers.py:158: FutureWarning: Possible nested set at position 6\n",
      "  param = re.sub(r\"^(.+)[[](.+)[]]$\", r\"\\1__\\2\", param)\n"
     ]
    }
   ],
   "source": [
    "from load_levers import read_levers\n",
    "levers = read_levers(\"levers.xlsx\")"
   ]
  },
  {
   "cell_type": "markdown",
   "id": "76efbd96-2bd6-4dd9-b354-c0e11d75ac07",
   "metadata": {
    "tags": []
   },
   "source": [
    "## Model"
   ]
  },
  {
   "cell_type": "code",
   "execution_count": 4,
   "id": "9da4bba6-a8c4-4c59-b392-6b5ceaa42e93",
   "metadata": {
    "tags": []
   },
   "outputs": [
    {
     "name": "stdout",
     "output_type": "stream",
     "text": [
      "Loading RDF data...\n",
      " done\n"
     ]
    }
   ],
   "source": [
    "import load_model\n",
    "model_data = load_model.load_model()"
   ]
  },
  {
   "cell_type": "code",
   "execution_count": 5,
   "id": "80abc1b0-33f3-45f8-922f-281dbc9d1e87",
   "metadata": {
    "tags": []
   },
   "outputs": [
    {
     "name": "stdout",
     "output_type": "stream",
     "text": [
      "['HDPEPolyethylene', 'LDPEPolyethylene', 'LLDPE', 'PPPolypropylene', 'PSPolystyrene', 'PVCPolyvinylChloride', 'PETPolyethyleneTerephthalatePolyesters', 'Polyurethane', 'SyntheticRubbers', 'FibrePPA', 'OtherPolymers']\n",
      "['PolymerisationOfHDPE', 'PolymerisationOfLDPE', 'PolymerisationOfLLDPE', 'PolymerisationOfPP', 'PolymerisationOfPolystyrene', 'PolymerisationOfPVC', 'PolymerisationOfPET', 'PolymerisationOfPUR', 'PolymerisationOfStyreneButadiene', 'PolymerisationOfFibrePPA', 'PolymerisationOfOtherPolymers']\n",
      "HDPEPolyethylene PolymerisationOfHDPE\n",
      "LDPEPolyethylene PolymerisationOfLDPE\n",
      "LLDPE PolymerisationOfLLDPE\n",
      "PPPolypropylene PolymerisationOfPP\n",
      "PSPolystyrene PolymerisationOfPolystyrene\n",
      "PVCPolyvinylChloride PolymerisationOfPVC\n",
      "PETPolyethyleneTerephthalatePolyesters PolymerisationOfPET\n",
      "Polyurethane PolymerisationOfPUR\n",
      "SyntheticRubbers PolymerisationOfStyreneButadiene\n",
      "FibrePPA PolymerisationOfFibrePPA\n",
      "OtherPolymers PolymerisationOfOtherPolymers\n"
     ]
    }
   ],
   "source": [
    "model, recipe_data = load_model.build_model(model_data)\n",
    "other_results = load_model.define_model(model, recipe_data, levers)"
   ]
  },
  {
   "cell_type": "code",
   "execution_count": 6,
   "id": "329714c9",
   "metadata": {
    "tags": []
   },
   "outputs": [],
   "source": [
    "flows_sym = model.to_flows(recipe_data, flow_ids=True)\n",
    "func = model.lambdify(recipe_data)\n",
    "func_other = model.lambdify(data=recipe_data, expressions=other_results)"
   ]
  },
  {
   "cell_type": "markdown",
   "id": "0c3b1d88",
   "metadata": {},
   "source": [
    "# Use lever levels to get test parameter settings\n",
    "\n",
    "If we want to see what the model output looks like for specific lever settings, use them here to find the parameter settings that can go into the model.\n",
    "\n",
    "This duplicates the logic that is built into the interactive calculator app, which does this to re-run the model every time the levers are changed."
   ]
  },
  {
   "cell_type": "markdown",
   "id": "a8c2df57-64b7-4dd3-9e01-d7633c1a20aa",
   "metadata": {
    "tags": []
   },
   "source": [
    "**TODO**: interpolate product demand between the levels to get smoother results, maybe delete the extra demand for simplicity"
   ]
  },
  {
   "cell_type": "code",
   "execution_count": 7,
   "id": "a7e38cbe",
   "metadata": {
    "tags": []
   },
   "outputs": [],
   "source": [
    "def get_model_output(lever_settings, time_index):\n",
    "    params = levers.get_params(lever_settings, time_index=time_index)\n",
    "    result = func_other(params)\n",
    "    return result"
   ]
  },
  {
   "cell_type": "code",
   "execution_count": 8,
   "id": "741c41b8-956c-4f3a-bfd4-52b2a7083408",
   "metadata": {
    "tags": []
   },
   "outputs": [
    {
     "data": {
      "text/plain": [
       "{'Production_polymers_virgin': 379373059.0043249,\n",
       " 'Production_polymers_recycled': 15308988.171548283,\n",
       " 'ElecReq_green_hydrogen': 0.0,\n",
       " 'NGReq_green_hydrogen': 0.0,\n",
       " 'ElecReq_other_hydrogen': 3055613067.963296,\n",
       " 'NGReq_other_hydrogen': 190975816.747706,\n",
       " 'ElecReq_biomass': 337644532.1846393,\n",
       " 'NGReq_biomass': 2793201197.129108,\n",
       " 'ElecReq_primary_production': 147976630217.16284,\n",
       " 'NGReq_primary_production': 5170312115678.016,\n",
       " 'ElecReq_organic_synthesis': 47568363115.25831,\n",
       " 'NGReq_organic_synthesis': 2548168907695.5747,\n",
       " 'ElecReq_downstream': 150967722613.6118,\n",
       " 'NGReq_downstream': 575572627673.8623,\n",
       " 'ElecReq_end_of_life': 3061797634.3096566,\n",
       " 'NGReq_end_of_life': 0.0,\n",
       " 'ElecReq_other': 0,\n",
       " 'NGReq_other': 0,\n",
       " 'ElecReq': 352967771180.49036,\n",
       " 'NGReq': 8297037828061.328,\n",
       " 'CCS': -0.00018310546875,\n",
       " 'Emissions_ElecReq_green_hydrogen': 0.0,\n",
       " 'Emissions_NGReq_green_hydrogen': 0.0,\n",
       " 'Emissions_ElecReq_other_hydrogen': 1687309536.129332,\n",
       " 'Emissions_NGReq_other_hydrogen': 9376912.602312364,\n",
       " 'Emissions_ElecReq_biomass': 186447310.67235783,\n",
       " 'Emissions_NGReq_biomass': 137146178.7790392,\n",
       " 'Emissions_ElecReq_primary_production': 81712695205.91733,\n",
       " 'Emissions_NGReq_primary_production': 253862324879.79056,\n",
       " 'Emissions_ElecReq_organic_synthesis': 26267250112.24564,\n",
       " 'Emissions_NGReq_organic_synthesis': 125115093367.8527,\n",
       " 'Emissions_ElecReq_downstream': 83364376427.23643,\n",
       " 'Emissions_NGReq_downstream': 28260616018.786636,\n",
       " 'Emissions_ElecReq_end_of_life': 1690724653.6657925,\n",
       " 'Emissions_NGReq_end_of_life': 0.0,\n",
       " 'Emissions_ElecReq_other': 0,\n",
       " 'Emissions_NGReq_other': 0,\n",
       " 'Emissions_ElecReq': 194908803245.8668,\n",
       " 'Emissions_NGReq': 407384557357.8112,\n",
       " 'Emissions_DirectProcess_CO2_green_hydrogen': 0,\n",
       " 'Emissions_DirectProcess_CH4_green_hydrogen': 0,\n",
       " 'Emissions_DirectProcess_N2O_green_hydrogen': 0,\n",
       " 'Emissions_DirectProcess_GWP_green_hydrogen': 0,\n",
       " 'Emissions_DirectProcess_CO2_other_hydrogen': 0,\n",
       " 'Emissions_DirectProcess_CH4_other_hydrogen': 0,\n",
       " 'Emissions_DirectProcess_N2O_other_hydrogen': 0,\n",
       " 'Emissions_DirectProcess_GWP_other_hydrogen': 0,\n",
       " 'Emissions_DirectProcess_CO2_biomass': -1872051316.1932275,\n",
       " 'Emissions_DirectProcess_CH4_biomass': 0.0,\n",
       " 'Emissions_DirectProcess_N2O_biomass': 0.0,\n",
       " 'Emissions_DirectProcess_GWP_biomass': -1872051316.1932275,\n",
       " 'Emissions_DirectProcess_CO2_primary_production': 335853050027.1009,\n",
       " 'Emissions_DirectProcess_CH4_primary_production': 809538415.0425975,\n",
       " 'Emissions_DirectProcess_N2O_primary_production': 0.0,\n",
       " 'Emissions_DirectProcess_GWP_primary_production': 358520125648.29364,\n",
       " 'Emissions_DirectProcess_CO2_organic_synthesis': 7871719466.889318,\n",
       " 'Emissions_DirectProcess_CH4_organic_synthesis': 2607260.0688842447,\n",
       " 'Emissions_DirectProcess_N2O_organic_synthesis': 1174143820.3544762,\n",
       " 'Emissions_DirectProcess_GWP_organic_synthesis': 319092835142.7542,\n",
       " 'Emissions_DirectProcess_CO2_downstream': 0,\n",
       " 'Emissions_DirectProcess_CH4_downstream': 0,\n",
       " 'Emissions_DirectProcess_N2O_downstream': 0,\n",
       " 'Emissions_DirectProcess_GWP_downstream': 0,\n",
       " 'Emissions_DirectProcess_CO2_end_of_life': 277496095660.1481,\n",
       " 'Emissions_DirectProcess_CH4_end_of_life': 0.0,\n",
       " 'Emissions_DirectProcess_N2O_end_of_life': 0.0,\n",
       " 'Emissions_DirectProcess_GWP_end_of_life': 277496095660.1481,\n",
       " 'Emissions_DirectProcess_CO2_other': 0,\n",
       " 'Emissions_DirectProcess_CH4_other': 0,\n",
       " 'Emissions_DirectProcess_N2O_other': 0,\n",
       " 'Emissions_DirectProcess_GWP_other': 0,\n",
       " 'Emissions_Feedstock_fossil': 381934596405.6556,\n",
       " 'FeedstockEmissionsByObject_NaturalGas': 1397974731.2299125,\n",
       " 'FeedstockEmissionsByObject_Coal': 35691080279.714806,\n",
       " 'FeedstockEmissionsByObject_Naphtha': 230336969234.58994,\n",
       " 'FeedstockEmissionsByObject_Ethane': 76484525826.73236,\n",
       " 'FeedstockEmissionsByObject_Propane': 20936158387.756966,\n",
       " 'FeedstockEmissionsByObject_Butane': 17087887945.631563,\n",
       " 'Emissions_Feedstock_biomass': 471105418.9838659,\n",
       " 'FeedstockEmissionsByObject_SugarCane': 109147754.04500689,\n",
       " 'FeedstockEmissionsByObject_Maize': 214378191.87965903,\n",
       " 'FeedstockEmissionsByObject_CornStover': 29000912.597805537,\n",
       " 'FeedstockEmissionsByObject_SugarCaneBagasse': 37393354.68825543,\n",
       " 'FeedstockEmissionsByObject_WheatStraw': 44870239.58515771,\n",
       " 'FeedstockEmissionsByObject_RiceStraw': 36314966.18798136,\n",
       " 'EmissionsBySource_Elec': 194908803245.86688,\n",
       " 'EmissionsBySource_NG': 407384557357.8113,\n",
       " 'EmissionsBySource_Feedstock': 382405701824.63934,\n",
       " 'EmissionsBySource_Direct': 953237005135.0028,\n",
       " 'EmissionsByStage_feedstocks': 382405701824.63934,\n",
       " 'EmissionsByStage_hydrogen': 1696686448.7316444,\n",
       " 'EmissionsByStage_primary_production': 694095145734.0015,\n",
       " 'EmissionsByStage_biomass': -1548457826.7418306,\n",
       " 'EmissionsByStage_organic_synthesis': 470475178622.8526,\n",
       " 'EmissionsByStage_downstream': 111624992446.02307,\n",
       " 'EmissionsByStage_end_of_life': 279186820313.81384,\n",
       " 'GHG_biomass_nonfertiliser': -1548457826.7418306,\n",
       " 'GHG_production_nonfertiliser': 1660297705076.248,\n",
       " 'GHG_use_nonfertiliser': 0,\n",
       " 'GHG_eol_nonfertiliser': 279186820313.81384,\n",
       " 'GHG_nonfertiliser': 1939484525390.062,\n",
       " 'GHG_use_fertiliser': 839695718227.7395,\n",
       " 'GHG_production_fertiliser': 489201195882.7671,\n",
       " 'GHG_eol_fertiliser': 0,\n",
       " 'GHG_fertiliser': 1328896914110.5066,\n",
       " 'GHG_biomass': -1548457826.7418306,\n",
       " 'GHG_production': 2149498900959.015,\n",
       " 'GHG_use': 839695718227.7395,\n",
       " 'GHG_eol': 279186820313.81384,\n",
       " 'GHG_total': 3266832981673.827}"
      ]
     },
     "execution_count": 8,
     "metadata": {},
     "output_type": "execute_result"
    }
   ],
   "source": [
    "baseline = {lever.lever_id: lever.levels[0].level_id for lever in levers.levers}\n",
    "get_model_output(baseline, 0)"
   ]
  },
  {
   "cell_type": "markdown",
   "id": "b2607c3b-b758-4452-9539-acf63cca2927",
   "metadata": {},
   "source": [
    "## Enumerate all lever settings"
   ]
  },
  {
   "cell_type": "code",
   "execution_count": null,
   "id": "90e7cc99-0b5c-4652-975e-5b6a261d401e",
   "metadata": {
    "tags": []
   },
   "outputs": [],
   "source": [
    "def enumerate_lever_settings(levers):\n",
    "    if not levers:\n",
    "        yield {}\n",
    "        return\n",
    "    next_lever = levers[0]\n",
    "    rest_levers = levers[1:]\n",
    "    for level in next_lever.levels:\n",
    "        for settings in enumerate_lever_settings(rest_levers):\n",
    "            yield {**settings, next_lever.lever_id: level.level_id}\n",
    "        "
   ]
  },
  {
   "cell_type": "code",
   "execution_count": null,
   "id": "4a299bf3-ffa4-4e47-9b93-d558589b4eba",
   "metadata": {
    "tags": []
   },
   "outputs": [],
   "source": [
    "len([lever for lever in levers.levers if len(lever.levels) > 1])"
   ]
  },
  {
   "cell_type": "markdown",
   "id": "ef1cd060-b562-4f98-8d1a-aa4dab0408db",
   "metadata": {},
   "source": [
    "How many combinations do we expect?"
   ]
  },
  {
   "cell_type": "code",
   "execution_count": null,
   "id": "d0d39006-632c-477f-b894-7cf2a591cc06",
   "metadata": {
    "tags": []
   },
   "outputs": [],
   "source": [
    "n_combinations = np.product([min(5, len(lever.levels)) for lever in levers.levers])\n",
    "print(f\"{n_combinations/1e6:.0f} million combinations\")"
   ]
  },
  {
   "cell_type": "code",
   "execution_count": null,
   "id": "71fd4209-0f24-49b9-8693-40d700219996",
   "metadata": {
    "tags": []
   },
   "outputs": [],
   "source": [
    "test_params = levers.get_params(baseline, time_index=6)"
   ]
  },
  {
   "cell_type": "code",
   "execution_count": null,
   "id": "3cf54542-5a84-4eb9-983a-afe675ec9fd7",
   "metadata": {
    "tags": []
   },
   "outputs": [],
   "source": [
    "%%timeit\n",
    "func_other(test_params)"
   ]
  },
  {
   "cell_type": "code",
   "execution_count": null,
   "id": "1e33b6e3-8e4e-4bb4-873a-6ced3cb4f9df",
   "metadata": {
    "tags": []
   },
   "outputs": [],
   "source": [
    "%%timeit\n",
    "get_model_output(baseline, 6)"
   ]
  },
  {
   "cell_type": "markdown",
   "id": "a5b56fa2-54f4-49e0-9056-cfcb26132bf4",
   "metadata": {},
   "source": [
    "Approx 4832 million combinations, approx 6 ms/results, makes:"
   ]
  },
  {
   "cell_type": "code",
   "execution_count": null,
   "id": "aee64108-ae24-49d9-b636-7cef40e2e9d6",
   "metadata": {
    "tags": []
   },
   "outputs": [],
   "source": [
    "print(f\"{4830e6 * 6e-3 / 60 / 60 / 24} days\")"
   ]
  },
  {
   "cell_type": "code",
   "execution_count": null,
   "id": "80aaed01-1d97-4a60-81db-ef82e63574a8",
   "metadata": {
    "tags": []
   },
   "outputs": [],
   "source": [
    "print(f\"{1e6 * 6e-3 / 60 / 60} hours\")"
   ]
  },
  {
   "cell_type": "code",
   "execution_count": null,
   "id": "a26335ea-8985-4882-96b3-fccb13bcb083",
   "metadata": {
    "tags": []
   },
   "outputs": [],
   "source": [
    "# results = pd.DataFrame([\n",
    "#     {**settings, **get_model_output({**baseline, **settings}, time_index=6)}\n",
    "#     for settings in enumerate_lever_settings(levers.levers[:])\n",
    "# ])"
   ]
  },
  {
   "cell_type": "code",
   "execution_count": 18,
   "id": "b2e79cbd-2413-44ff-859c-5a70ba064494",
   "metadata": {
    "tags": []
   },
   "outputs": [],
   "source": [
    "#results = pd.read_csv(\"enumerated_results_6.csv\", index_col=list(range(len(baseline))))\n",
    "results = pd.read_parquet(f\"enumerated_results_6.parquet\")#, columns=[\"GHG_total\"])"
   ]
  },
  {
   "cell_type": "code",
   "execution_count": 19,
   "id": "111f2883-a75e-4bf8-8be7-6ed6857a0176",
   "metadata": {
    "tags": []
   },
   "outputs": [
    {
     "data": {
      "text/plain": [
       "Production_polymers_virgin      5.925501e+08\n",
       "Production_polymers_recycled    2.972320e+07\n",
       "ElecReq_green_hydrogen          0.000000e+00\n",
       "NGReq_green_hydrogen            0.000000e+00\n",
       "ElecReq_other_hydrogen          4.665196e+09\n",
       "                                    ...     \n",
       "GHG_biomass                    -1.548458e+09\n",
       "GHG_production                  3.013611e+12\n",
       "GHG_use                         1.060171e+12\n",
       "GHG_eol                         4.943561e+11\n",
       "GHG_total                       4.566589e+12\n",
       "Name: (1, 1, 1, 1, 1, 1, 1, 1, 1, 1, 1, 1, 1, 1, 1, 1, 1, 1, 1, 1, 1, 1, 1, 1, 1), Length: 110, dtype: float64"
      ]
     },
     "execution_count": 19,
     "metadata": {},
     "output_type": "execute_result"
    }
   ],
   "source": [
    "results.iloc[0]"
   ]
  },
  {
   "cell_type": "markdown",
   "id": "9ad5e88b-3f36-48b1-a93f-f05a8c13d537",
   "metadata": {},
   "source": [
    "Simple SA:\n",
    "- Morris style effect of the change from level 1 to level 4 for each lever: lots of results for all the other permutations.\n",
    "- Summarise in a histogram what the effect is\n",
    "    - Some are always positive\n",
    "    - Some, it depends, etc\n",
    "    \n",
    "    \n",
    "?"
   ]
  },
  {
   "cell_type": "code",
   "execution_count": 20,
   "id": "aeeeff32-1506-4b81-bfc8-4a1501f4eb25",
   "metadata": {
    "tags": []
   },
   "outputs": [],
   "source": [
    "def effect_calc(lever):\n",
    "    levels = results.index.levels[results.index.names.index(lever)]\n",
    "    a = results[\"GHG_total\"].xs(levels[0], level=lever)\n",
    "    b = results[\"GHG_total\"].xs(levels[-1], level=lever)\n",
    "    effect = (b - a) / 1e9  # Mt\n",
    "    return {\n",
    "        \"whislo\": effect.min(),\n",
    "        \"q1\":  np.quantile(effect, 0.25),\n",
    "        \"med\": np.quantile(effect, 0.50),\n",
    "        \"q3\":  np.quantile(effect, 0.75),\n",
    "        \"whishi\": effect.max(),\n",
    "        \"mu\": effect.mean(),\n",
    "        \"mu_star\": abs(effect).mean(),\n",
    "        \"sigma\": effect.std(),\n",
    "        \"label\": lever,\n",
    "    }"
   ]
  },
  {
   "cell_type": "code",
   "execution_count": 21,
   "id": "1c990c24-5348-442e-951d-75e65ddaa29a",
   "metadata": {
    "tags": []
   },
   "outputs": [],
   "source": [
    "lever_ids = [lever.lever_id for lever in levers.levers]\n",
    "ee = pd.DataFrame({\n",
    "    lever_id: effect_calc(lever_id)\n",
    "    for lever_id in lever_ids\n",
    "    # Don't include levers that only have one level\n",
    "    if len(results.index.levels[results.index.names.index(lever_id)]) > 1\n",
    "}).T"
   ]
  },
  {
   "cell_type": "code",
   "execution_count": 22,
   "id": "46dc1c9f-8c2b-4b9f-81c6-23143467f50b",
   "metadata": {
    "tags": []
   },
   "outputs": [],
   "source": [
    "import matplotlib.pyplot as plt\n",
    "import seaborn as sns"
   ]
  },
  {
   "cell_type": "code",
   "execution_count": 23,
   "id": "c79ed02f-b9dc-4d31-bef9-969b9c852f88",
   "metadata": {
    "tags": []
   },
   "outputs": [
    {
     "data": {
      "image/png": "[encoded data removed]",
      "text/plain": [
       "<Figure size 640x480 with 1 Axes>"
      ]
     },
     "metadata": {},
     "output_type": "display_data"
    }
   ],
   "source": [
    "fig, ax = plt.subplots()\n",
    "ee_sorted = ee.reset_index().sort_values(\"mu_star\", ascending=True)\n",
    "ax.bxp(ee_sorted.to_dict('records'), showfliers=False, vert=False);\n",
    "ax.axvline(0, alpha=0.3);"
   ]
  },
  {
   "cell_type": "code",
   "execution_count": 24,
   "id": "42138b5b-7aa0-46b4-84ab-4f368e5e213c",
   "metadata": {
    "tags": []
   },
   "outputs": [],
   "source": [
    "# NB currently only have min/max levels\n",
    "shape = [min(2, len(lever.levels)) for lever in levers.levers]"
   ]
  },
  {
   "cell_type": "code",
   "execution_count": 25,
   "id": "2e90bfea-d5c8-4dfc-8846-9f3e172ec8e4",
   "metadata": {
    "tags": []
   },
   "outputs": [
    {
     "data": {
      "text/plain": [
       "<Axes: >"
      ]
     },
     "execution_count": 25,
     "metadata": {},
     "output_type": "execute_result"
    },
    {
     "data": {
      "image/png": "[encoded data removed]",
      "text/plain": [
       "<Figure size 640x480 with 1 Axes>"
      ]
     },
     "metadata": {},
     "output_type": "display_data"
    }
   ],
   "source": [
    "(results[\"GHG_total\"] / 1e9).hist(bins=40)"
   ]
  },
  {
   "cell_type": "code",
   "execution_count": 26,
   "id": "1c6c68ed-379d-413f-8be1-a3070bccd4aa",
   "metadata": {
    "tags": []
   },
   "outputs": [],
   "source": [
    "GHG_total = results.reset_index()\n",
    "GHG_total[\"class\"] = \"High\"\n",
    "GHG_total.loc[GHG_total[\"GHG_total\"] < 0.3e12, \"class\"] = \"Low\""
   ]
  },
  {
   "cell_type": "code",
   "execution_count": null,
   "id": "21646815-6734-4d6b-8578-c58e65ae1a34",
   "metadata": {
    "tags": []
   },
   "outputs": [],
   "source": []
  },
  {
   "cell_type": "code",
   "execution_count": 27,
   "id": "06cbd7b9-364a-40de-81bc-cd6314e4caf3",
   "metadata": {
    "tags": []
   },
   "outputs": [
    {
     "name": "stdout",
     "output_type": "stream",
     "text": [
      "ccs_utility_combustion\n",
      "Low emissions:    ['4']\n",
      "All combinations: ['1' '4']\n",
      "\n",
      "ccs_process_emissions\n",
      "Low emissions:    ['4']\n",
      "All combinations: ['1' '4']\n",
      "\n",
      "blue_hydrogen_capacity\n",
      "Low emissions:    ['1']\n",
      "All combinations: ['1' '3']\n",
      "\n",
      "green_hydrogen_capacity\n",
      "Low emissions:    ['1']\n",
      "All combinations: ['1' '4']\n",
      "\n",
      "electricity_emission_factor\n",
      "Low emissions:    ['4']\n",
      "All combinations: ['1' '4']\n",
      "\n",
      "biosyngas_capacity\n",
      "Low emissions:    ['4']\n",
      "All combinations: ['1' '4']\n",
      "\n",
      "bioethanol_capacity\n",
      "Low emissions:    ['4']\n",
      "All combinations: ['1' '4']\n",
      "\n",
      "extra_demand\n",
      "Low emissions:    ['4']\n",
      "All combinations: ['1' '4']\n",
      "\n",
      "product_demand\n",
      "Low emissions:    ['4']\n",
      "All combinations: ['1' '4']\n",
      "\n",
      "fertiliser_production\n",
      "Low emissions:    ['4']\n",
      "All combinations: ['1' '4']\n",
      "\n",
      "fertiliser_use_phase\n",
      "Low emissions:    ['2']\n",
      "All combinations: ['1' '2']\n",
      "\n",
      "fertiliser_demand\n",
      "Low emissions:    ['3']\n",
      "All combinations: ['1' '3']\n",
      "\n"
     ]
    }
   ],
   "source": [
    "threshold = 100\n",
    "\n",
    "cols_low = GHG_total[GHG_total[\"GHG_total\"] < (threshold * 1e9)].iloc[:, :len(levers.levers)]\n",
    "cols_high = GHG_total[GHG_total[\"GHG_total\"] >= (threshold * 1e9)].iloc[:, :len(levers.levers)]\n",
    "\n",
    "for col in cols_low.columns:\n",
    "    levels_low = cols_low[col].unique()\n",
    "    levels_high = cols_high[col].unique()\n",
    "    if len(levels_low) < len(levels_high):\n",
    "        print(col)\n",
    "        print(\"Low emissions:   \", levels_low)\n",
    "        print(\"All combinations:\", levels_high)\n",
    "        print()"
   ]
  },
  {
   "cell_type": "code",
   "execution_count": 28,
   "id": "1f4bebdb-70a6-433f-bdf4-31adfd76388f",
   "metadata": {
    "tags": []
   },
   "outputs": [
    {
     "data": {
      "text/plain": [
       "0.027032984920197838"
      ]
     },
     "execution_count": 28,
     "metadata": {},
     "output_type": "execute_result"
    }
   ],
   "source": [
    "results[\"GHG_total\"].min() / 1e12"
   ]
  },
  {
   "cell_type": "code",
   "execution_count": 29,
   "id": "ebd2366c-d976-4e38-b0c7-afeb435d2b4b",
   "metadata": {
    "tags": []
   },
   "outputs": [
    {
     "data": {
      "text/plain": [
       "5.929948070474456"
      ]
     },
     "execution_count": 29,
     "metadata": {},
     "output_type": "execute_result"
    }
   ],
   "source": [
    "results[\"GHG_total\"].max() / 1e12"
   ]
  },
  {
   "cell_type": "code",
   "execution_count": 30,
   "id": "2eaffbf0-70c8-4c10-b718-59be5a59f87c",
   "metadata": {
    "tags": []
   },
   "outputs": [
    {
     "name": "stdout",
     "output_type": "stream",
     "text": [
      "Production_polymers_virgin\n",
      "Production_polymers_recycled\n",
      "ElecReq_green_hydrogen\n",
      "NGReq_green_hydrogen\n",
      "ElecReq_other_hydrogen\n",
      "NGReq_other_hydrogen\n",
      "ElecReq_biomass\n",
      "NGReq_biomass\n",
      "ElecReq_primary_production\n",
      "NGReq_primary_production\n",
      "ElecReq_organic_synthesis\n",
      "NGReq_organic_synthesis\n",
      "ElecReq_downstream\n",
      "NGReq_downstream\n",
      "ElecReq_end_of_life\n",
      "NGReq_end_of_life\n",
      "ElecReq_other\n",
      "NGReq_other\n",
      "ElecReq\n",
      "NGReq\n",
      "CCS\n",
      "Emissions_ElecReq_green_hydrogen\n",
      "Emissions_NGReq_green_hydrogen\n",
      "Emissions_ElecReq_other_hydrogen\n",
      "Emissions_NGReq_other_hydrogen\n",
      "Emissions_ElecReq_biomass\n",
      "Emissions_NGReq_biomass\n",
      "Emissions_ElecReq_primary_production\n",
      "Emissions_NGReq_primary_production\n",
      "Emissions_ElecReq_organic_synthesis\n",
      "Emissions_NGReq_organic_synthesis\n",
      "Emissions_ElecReq_downstream\n",
      "Emissions_NGReq_downstream\n",
      "Emissions_ElecReq_end_of_life\n",
      "Emissions_NGReq_end_of_life\n",
      "Emissions_ElecReq_other\n",
      "Emissions_NGReq_other\n",
      "Emissions_ElecReq\n",
      "Emissions_NGReq\n",
      "Emissions_DirectProcess_CO2_green_hydrogen\n",
      "Emissions_DirectProcess_CH4_green_hydrogen\n",
      "Emissions_DirectProcess_N2O_green_hydrogen\n",
      "Emissions_DirectProcess_GWP_green_hydrogen\n",
      "Emissions_DirectProcess_CO2_other_hydrogen\n",
      "Emissions_DirectProcess_CH4_other_hydrogen\n",
      "Emissions_DirectProcess_N2O_other_hydrogen\n",
      "Emissions_DirectProcess_GWP_other_hydrogen\n",
      "Emissions_DirectProcess_CO2_biomass\n",
      "Emissions_DirectProcess_CH4_biomass\n",
      "Emissions_DirectProcess_N2O_biomass\n",
      "Emissions_DirectProcess_GWP_biomass\n",
      "Emissions_DirectProcess_CO2_primary_production\n",
      "Emissions_DirectProcess_CH4_primary_production\n",
      "Emissions_DirectProcess_N2O_primary_production\n",
      "Emissions_DirectProcess_GWP_primary_production\n",
      "Emissions_DirectProcess_CO2_organic_synthesis\n",
      "Emissions_DirectProcess_CH4_organic_synthesis\n",
      "Emissions_DirectProcess_N2O_organic_synthesis\n",
      "Emissions_DirectProcess_GWP_organic_synthesis\n",
      "Emissions_DirectProcess_CO2_downstream\n",
      "Emissions_DirectProcess_CH4_downstream\n",
      "Emissions_DirectProcess_N2O_downstream\n",
      "Emissions_DirectProcess_GWP_downstream\n",
      "Emissions_DirectProcess_CO2_end_of_life\n",
      "Emissions_DirectProcess_CH4_end_of_life\n",
      "Emissions_DirectProcess_N2O_end_of_life\n",
      "Emissions_DirectProcess_GWP_end_of_life\n",
      "Emissions_DirectProcess_CO2_other\n",
      "Emissions_DirectProcess_CH4_other\n",
      "Emissions_DirectProcess_N2O_other\n",
      "Emissions_DirectProcess_GWP_other\n",
      "Emissions_Feedstock_fossil\n",
      "FeedstockEmissionsByObject_NaturalGas\n",
      "FeedstockEmissionsByObject_Coal\n",
      "FeedstockEmissionsByObject_Naphtha\n",
      "FeedstockEmissionsByObject_Ethane\n",
      "FeedstockEmissionsByObject_Propane\n",
      "FeedstockEmissionsByObject_Butane\n",
      "Emissions_Feedstock_biomass\n",
      "FeedstockEmissionsByObject_SugarCane\n",
      "FeedstockEmissionsByObject_Maize\n",
      "FeedstockEmissionsByObject_CornStover\n",
      "FeedstockEmissionsByObject_SugarCaneBagasse\n",
      "FeedstockEmissionsByObject_WheatStraw\n",
      "FeedstockEmissionsByObject_RiceStraw\n",
      "EmissionsBySource_Elec\n",
      "EmissionsBySource_NG\n",
      "EmissionsBySource_Feedstock\n",
      "EmissionsBySource_Direct\n",
      "EmissionsByStage_feedstocks\n",
      "EmissionsByStage_hydrogen\n",
      "EmissionsByStage_primary_production\n",
      "EmissionsByStage_biomass\n",
      "EmissionsByStage_organic_synthesis\n",
      "EmissionsByStage_downstream\n",
      "EmissionsByStage_end_of_life\n",
      "GHG_biomass_nonfertiliser\n",
      "GHG_production_nonfertiliser\n",
      "GHG_use_nonfertiliser\n",
      "GHG_eol_nonfertiliser\n",
      "GHG_nonfertiliser\n",
      "GHG_use_fertiliser\n",
      "GHG_production_fertiliser\n",
      "GHG_eol_fertiliser\n",
      "GHG_fertiliser\n",
      "GHG_biomass\n",
      "GHG_production\n",
      "GHG_use\n",
      "GHG_eol\n",
      "GHG_total\n"
     ]
    }
   ],
   "source": [
    "print(\"\\n\".join(results.columns))"
   ]
  },
  {
   "cell_type": "markdown",
   "id": "c9fd9103-ad0a-4ba6-967e-186b93dface3",
   "metadata": {},
   "source": [
    "Variation in emissions factor with production quantity? Is it linear?\n",
    "\n",
    "This is not an exact calculation of the emissions factor, which would require LCA calculation on top of the supply mixes from the mass flow model. But approximately."
   ]
  },
  {
   "cell_type": "code",
   "execution_count": 69,
   "id": "d8b7ac8c-6035-484d-9815-103d02ec5f63",
   "metadata": {
    "tags": []
   },
   "outputs": [],
   "source": [
    "results[\"Emissions_polymer_production\"] = (\n",
    "    results[\"EmissionsByStage_feedstocks\"] +\n",
    "    results[\"EmissionsByStage_hydrogen\"] +\n",
    "    results[\"EmissionsByStage_primary_production\"] +\n",
    "    results[\"EmissionsByStage_organic_synthesis\"] +\n",
    "    results[\"EmissionsByStage_downstream\"] +\n",
    "    results[\"EmissionsByStage_biomass\"]\n",
    ")\n",
    "# Excluding biomass (-1) and end-of-life (+1)"
   ]
  },
  {
   "cell_type": "code",
   "execution_count": 78,
   "id": "cce0ea86-406d-47e6-88da-64fbe9926949",
   "metadata": {
    "tags": []
   },
   "outputs": [],
   "source": [
    "results[\"Production_polymers_virgin_label\"] = results[\"Production_polymers_virgin\"].apply(lambda x: x/1e6) #f\"{x/1e6:.0f} Mt\")\n",
    "results[\"Emissions_polymer_production_per_kg\"] = results[\"Emissions_polymer_production\"] / (1000 * results[\"Production_polymers_virgin\"])"
   ]
  },
  {
   "cell_type": "code",
   "execution_count": 79,
   "id": "a570ef29-1d50-4977-bab8-304b9db2d935",
   "metadata": {
    "tags": []
   },
   "outputs": [],
   "source": [
    "results_fewer = results.xs(\"1\", level=\"extra_demand\")"
   ]
  },
  {
   "cell_type": "code",
   "execution_count": 84,
   "id": "1a2e6d9a-d059-4db1-b8e1-c0b7dcee42d0",
   "metadata": {
    "tags": []
   },
   "outputs": [],
   "source": [
    "sns.set_style(\"darkgrid\");"
   ]
  },
  {
   "cell_type": "code",
   "execution_count": null,
   "id": "b2a80eed-1785-4a79-b99d-836a99e6a272",
   "metadata": {},
   "outputs": [],
   "source": [
    "plt.boxplot("
   ]
  },
  {
   "cell_type": "code",
   "execution_count": 100,
   "id": "966950bc-4f01-40eb-9d33-9973ee734dd1",
   "metadata": {
    "tags": []
   },
   "outputs": [
    {
     "data": {
      "image/png": "[encoded data removed]",
      "text/plain": [
       "<Figure size 640x480 with 1 Axes>"
      ]
     },
     "metadata": {},
     "output_type": "display_data"
    }
   ],
   "source": [
    "plt.axhline(0, color='k', lw=0.5, alpha=0.6);\n",
    "plt.axhline(2.67, color='C1', lw=1);\n",
    "plt.text(300, 2.8, \"Plastsimulator\", color='C1');\n",
    "sns.boxplot(results_fewer, x=\"Production_polymers_virgin_label\", y=\"Emissions_polymer_production_per_kg\", native_scale=True, flierprops=dict(alpha=0.006));\n",
    "plt.xlabel(\"Virgin polymer production [Mt]\");\n",
    "plt.ylabel(\"Production emissions factor [kgCO2e/kg]\");"
   ]
  },
  {
   "cell_type": "code",
   "execution_count": 73,
   "id": "9754b91b-7add-4b3f-8b82-c8267311daff",
   "metadata": {
    "tags": []
   },
   "outputs": [
    {
     "name": "stdout",
     "output_type": "stream",
     "text": [
      "ccs_utility_combustion\n",
      "High emissions:    ['1']\n",
      "All combinations: ['1' '4']\n",
      "\n",
      "ccs_process_emissions\n",
      "High emissions:    ['1']\n",
      "All combinations: ['1' '4']\n",
      "\n",
      "blue_hydrogen_capacity\n",
      "High emissions:    ['1']\n",
      "All combinations: ['1' '3']\n",
      "\n",
      "green_hydrogen_capacity\n",
      "High emissions:    ['1']\n",
      "All combinations: ['1' '4']\n",
      "\n",
      "electricity_emission_factor\n",
      "High emissions:    ['1']\n",
      "All combinations: ['1' '4']\n",
      "\n",
      "biosyngas_capacity\n",
      "High emissions:    ['1']\n",
      "All combinations: ['1' '4']\n",
      "\n",
      "bioethanol_capacity\n",
      "High emissions:    ['1']\n",
      "All combinations: ['1' '4']\n",
      "\n",
      "xylenes_methyl_alcohol_capacity\n",
      "High emissions:    ['4']\n",
      "All combinations: ['1' '4']\n",
      "\n",
      "ethylene_methanol_capacity\n",
      "High emissions:    ['4']\n",
      "All combinations: ['1' '4']\n",
      "\n",
      "recycling\n",
      "High emissions:    ['4']\n",
      "All combinations: ['1' '4']\n",
      "\n",
      "product_demand\n",
      "High emissions:    ['4']\n",
      "All combinations: ['1' '4']\n",
      "\n",
      "Production_polymers_virgin\n",
      "High emissions:    [1.16091676e+08]\n",
      "All combinations: [5.92550122e+08 4.83546563e+08 1.46906727e+08 1.16091676e+08]\n",
      "\n"
     ]
    }
   ],
   "source": [
    "threshold = 15500\n",
    "\n",
    "GHG_total = results_fewer.reset_index()\n",
    "\n",
    "cols_low = GHG_total[GHG_total[\"Emissions_polymer_production_per_kg\"] < (threshold)].iloc[:, :len(levers.levers)]\n",
    "cols_high = GHG_total[GHG_total[\"Emissions_polymer_production_per_kg\"] >= (threshold)].iloc[:, :len(levers.levers)]\n",
    "\n",
    "for col in cols_low.columns:\n",
    "    levels_low = cols_low[col].unique()\n",
    "    levels_high = cols_high[col].unique()\n",
    "    if len(levels_high) < len(levels_low):\n",
    "        print(col)\n",
    "        print(\"High emissions:   \", levels_high)\n",
    "        print(\"All combinations:\", levels_low)\n",
    "        print()"
   ]
  },
  {
   "cell_type": "code",
   "execution_count": 56,
   "id": "1b4f8163-7486-4010-a520-0d5c50647037",
   "metadata": {
    "tags": []
   },
   "outputs": [
    {
     "data": {
      "text/html": [
       "<div>\n",
       "<style scoped>\n",
       "    .dataframe tbody tr th:only-of-type {\n",
       "        vertical-align: middle;\n",
       "    }\n",
       "\n",
       "    .dataframe tbody tr th {\n",
       "        vertical-align: top;\n",
       "    }\n",
       "\n",
       "    .dataframe thead th {\n",
       "        text-align: right;\n",
       "    }\n",
       "</style>\n",
       "<table border=\"1\" class=\"dataframe\">\n",
       "  <thead>\n",
       "    <tr style=\"text-align: right;\">\n",
       "      <th></th>\n",
       "      <th>ccs_utility_combustion</th>\n",
       "      <th>ccs_process_emissions</th>\n",
       "      <th>ccs_incineration</th>\n",
       "      <th>olefins_paraffins_mix</th>\n",
       "      <th>blue_hydrogen_capacity</th>\n",
       "      <th>green_hydrogen_capacity</th>\n",
       "      <th>final_treatment_emission_factor</th>\n",
       "      <th>feedstock_emission_factor</th>\n",
       "      <th>natural_gas_emission_factor</th>\n",
       "      <th>electricity_emission_factor</th>\n",
       "      <th>...</th>\n",
       "      <th>bioethanol_capacity</th>\n",
       "      <th>xylenes_methyl_alcohol_capacity</th>\n",
       "      <th>ethylene_methanol_capacity</th>\n",
       "      <th>final_treatment</th>\n",
       "      <th>recycling</th>\n",
       "      <th>extra_demand</th>\n",
       "      <th>product_demand</th>\n",
       "      <th>fertiliser_production</th>\n",
       "      <th>fertiliser_use_phase</th>\n",
       "      <th>fertiliser_demand</th>\n",
       "    </tr>\n",
       "  </thead>\n",
       "  <tbody>\n",
       "    <tr>\n",
       "      <th>44032</th>\n",
       "      <td>1</td>\n",
       "      <td>1</td>\n",
       "      <td>1</td>\n",
       "      <td>1</td>\n",
       "      <td>1</td>\n",
       "      <td>1</td>\n",
       "      <td>1</td>\n",
       "      <td>1</td>\n",
       "      <td>1</td>\n",
       "      <td>1</td>\n",
       "      <td>...</td>\n",
       "      <td>1</td>\n",
       "      <td>4</td>\n",
       "      <td>4</td>\n",
       "      <td>1</td>\n",
       "      <td>4</td>\n",
       "      <td>1</td>\n",
       "      <td>4</td>\n",
       "      <td>1</td>\n",
       "      <td>1</td>\n",
       "      <td>1</td>\n",
       "    </tr>\n",
       "    <tr>\n",
       "      <th>44036</th>\n",
       "      <td>1</td>\n",
       "      <td>1</td>\n",
       "      <td>4</td>\n",
       "      <td>1</td>\n",
       "      <td>1</td>\n",
       "      <td>1</td>\n",
       "      <td>1</td>\n",
       "      <td>1</td>\n",
       "      <td>1</td>\n",
       "      <td>1</td>\n",
       "      <td>...</td>\n",
       "      <td>1</td>\n",
       "      <td>4</td>\n",
       "      <td>4</td>\n",
       "      <td>1</td>\n",
       "      <td>4</td>\n",
       "      <td>1</td>\n",
       "      <td>4</td>\n",
       "      <td>1</td>\n",
       "      <td>1</td>\n",
       "      <td>1</td>\n",
       "    </tr>\n",
       "    <tr>\n",
       "      <th>44040</th>\n",
       "      <td>1</td>\n",
       "      <td>1</td>\n",
       "      <td>1</td>\n",
       "      <td>2</td>\n",
       "      <td>1</td>\n",
       "      <td>1</td>\n",
       "      <td>1</td>\n",
       "      <td>1</td>\n",
       "      <td>1</td>\n",
       "      <td>1</td>\n",
       "      <td>...</td>\n",
       "      <td>1</td>\n",
       "      <td>4</td>\n",
       "      <td>4</td>\n",
       "      <td>1</td>\n",
       "      <td>4</td>\n",
       "      <td>1</td>\n",
       "      <td>4</td>\n",
       "      <td>1</td>\n",
       "      <td>1</td>\n",
       "      <td>1</td>\n",
       "    </tr>\n",
       "    <tr>\n",
       "      <th>44044</th>\n",
       "      <td>1</td>\n",
       "      <td>1</td>\n",
       "      <td>4</td>\n",
       "      <td>2</td>\n",
       "      <td>1</td>\n",
       "      <td>1</td>\n",
       "      <td>1</td>\n",
       "      <td>1</td>\n",
       "      <td>1</td>\n",
       "      <td>1</td>\n",
       "      <td>...</td>\n",
       "      <td>1</td>\n",
       "      <td>4</td>\n",
       "      <td>4</td>\n",
       "      <td>1</td>\n",
       "      <td>4</td>\n",
       "      <td>1</td>\n",
       "      <td>4</td>\n",
       "      <td>1</td>\n",
       "      <td>1</td>\n",
       "      <td>1</td>\n",
       "    </tr>\n",
       "    <tr>\n",
       "      <th>44160</th>\n",
       "      <td>1</td>\n",
       "      <td>1</td>\n",
       "      <td>1</td>\n",
       "      <td>1</td>\n",
       "      <td>1</td>\n",
       "      <td>1</td>\n",
       "      <td>1</td>\n",
       "      <td>1</td>\n",
       "      <td>1</td>\n",
       "      <td>1</td>\n",
       "      <td>...</td>\n",
       "      <td>1</td>\n",
       "      <td>4</td>\n",
       "      <td>4</td>\n",
       "      <td>1</td>\n",
       "      <td>4</td>\n",
       "      <td>1</td>\n",
       "      <td>4</td>\n",
       "      <td>1</td>\n",
       "      <td>1</td>\n",
       "      <td>1</td>\n",
       "    </tr>\n",
       "    <tr>\n",
       "      <th>...</th>\n",
       "      <td>...</td>\n",
       "      <td>...</td>\n",
       "      <td>...</td>\n",
       "      <td>...</td>\n",
       "      <td>...</td>\n",
       "      <td>...</td>\n",
       "      <td>...</td>\n",
       "      <td>...</td>\n",
       "      <td>...</td>\n",
       "      <td>...</td>\n",
       "      <td>...</td>\n",
       "      <td>...</td>\n",
       "      <td>...</td>\n",
       "      <td>...</td>\n",
       "      <td>...</td>\n",
       "      <td>...</td>\n",
       "      <td>...</td>\n",
       "      <td>...</td>\n",
       "      <td>...</td>\n",
       "      <td>...</td>\n",
       "      <td>...</td>\n",
       "    </tr>\n",
       "    <tr>\n",
       "      <th>506892</th>\n",
       "      <td>1</td>\n",
       "      <td>1</td>\n",
       "      <td>4</td>\n",
       "      <td>2</td>\n",
       "      <td>1</td>\n",
       "      <td>1</td>\n",
       "      <td>1</td>\n",
       "      <td>1</td>\n",
       "      <td>1</td>\n",
       "      <td>1</td>\n",
       "      <td>...</td>\n",
       "      <td>1</td>\n",
       "      <td>4</td>\n",
       "      <td>4</td>\n",
       "      <td>4</td>\n",
       "      <td>4</td>\n",
       "      <td>1</td>\n",
       "      <td>4</td>\n",
       "      <td>4</td>\n",
       "      <td>2</td>\n",
       "      <td>3</td>\n",
       "    </tr>\n",
       "    <tr>\n",
       "      <th>507008</th>\n",
       "      <td>1</td>\n",
       "      <td>1</td>\n",
       "      <td>1</td>\n",
       "      <td>1</td>\n",
       "      <td>1</td>\n",
       "      <td>1</td>\n",
       "      <td>1</td>\n",
       "      <td>1</td>\n",
       "      <td>1</td>\n",
       "      <td>1</td>\n",
       "      <td>...</td>\n",
       "      <td>1</td>\n",
       "      <td>4</td>\n",
       "      <td>4</td>\n",
       "      <td>4</td>\n",
       "      <td>4</td>\n",
       "      <td>1</td>\n",
       "      <td>4</td>\n",
       "      <td>4</td>\n",
       "      <td>2</td>\n",
       "      <td>3</td>\n",
       "    </tr>\n",
       "    <tr>\n",
       "      <th>507012</th>\n",
       "      <td>1</td>\n",
       "      <td>1</td>\n",
       "      <td>4</td>\n",
       "      <td>1</td>\n",
       "      <td>1</td>\n",
       "      <td>1</td>\n",
       "      <td>1</td>\n",
       "      <td>1</td>\n",
       "      <td>1</td>\n",
       "      <td>1</td>\n",
       "      <td>...</td>\n",
       "      <td>1</td>\n",
       "      <td>4</td>\n",
       "      <td>4</td>\n",
       "      <td>4</td>\n",
       "      <td>4</td>\n",
       "      <td>1</td>\n",
       "      <td>4</td>\n",
       "      <td>4</td>\n",
       "      <td>2</td>\n",
       "      <td>3</td>\n",
       "    </tr>\n",
       "    <tr>\n",
       "      <th>507016</th>\n",
       "      <td>1</td>\n",
       "      <td>1</td>\n",
       "      <td>1</td>\n",
       "      <td>2</td>\n",
       "      <td>1</td>\n",
       "      <td>1</td>\n",
       "      <td>1</td>\n",
       "      <td>1</td>\n",
       "      <td>1</td>\n",
       "      <td>1</td>\n",
       "      <td>...</td>\n",
       "      <td>1</td>\n",
       "      <td>4</td>\n",
       "      <td>4</td>\n",
       "      <td>4</td>\n",
       "      <td>4</td>\n",
       "      <td>1</td>\n",
       "      <td>4</td>\n",
       "      <td>4</td>\n",
       "      <td>2</td>\n",
       "      <td>3</td>\n",
       "    </tr>\n",
       "    <tr>\n",
       "      <th>507020</th>\n",
       "      <td>1</td>\n",
       "      <td>1</td>\n",
       "      <td>4</td>\n",
       "      <td>2</td>\n",
       "      <td>1</td>\n",
       "      <td>1</td>\n",
       "      <td>1</td>\n",
       "      <td>1</td>\n",
       "      <td>1</td>\n",
       "      <td>1</td>\n",
       "      <td>...</td>\n",
       "      <td>1</td>\n",
       "      <td>4</td>\n",
       "      <td>4</td>\n",
       "      <td>4</td>\n",
       "      <td>4</td>\n",
       "      <td>1</td>\n",
       "      <td>4</td>\n",
       "      <td>4</td>\n",
       "      <td>2</td>\n",
       "      <td>3</td>\n",
       "    </tr>\n",
       "  </tbody>\n",
       "</table>\n",
       "<p>128 rows × 25 columns</p>\n",
       "</div>"
      ],
      "text/plain": [
       "       ccs_utility_combustion ccs_process_emissions ccs_incineration  \\\n",
       "44032                       1                     1                1   \n",
       "44036                       1                     1                4   \n",
       "44040                       1                     1                1   \n",
       "44044                       1                     1                4   \n",
       "44160                       1                     1                1   \n",
       "...                       ...                   ...              ...   \n",
       "506892                      1                     1                4   \n",
       "507008                      1                     1                1   \n",
       "507012                      1                     1                4   \n",
       "507016                      1                     1                1   \n",
       "507020                      1                     1                4   \n",
       "\n",
       "       olefins_paraffins_mix blue_hydrogen_capacity green_hydrogen_capacity  \\\n",
       "44032                      1                      1                       1   \n",
       "44036                      1                      1                       1   \n",
       "44040                      2                      1                       1   \n",
       "44044                      2                      1                       1   \n",
       "44160                      1                      1                       1   \n",
       "...                      ...                    ...                     ...   \n",
       "506892                     2                      1                       1   \n",
       "507008                     1                      1                       1   \n",
       "507012                     1                      1                       1   \n",
       "507016                     2                      1                       1   \n",
       "507020                     2                      1                       1   \n",
       "\n",
       "       final_treatment_emission_factor feedstock_emission_factor  \\\n",
       "44032                                1                         1   \n",
       "44036                                1                         1   \n",
       "44040                                1                         1   \n",
       "44044                                1                         1   \n",
       "44160                                1                         1   \n",
       "...                                ...                       ...   \n",
       "506892                               1                         1   \n",
       "507008                               1                         1   \n",
       "507012                               1                         1   \n",
       "507016                               1                         1   \n",
       "507020                               1                         1   \n",
       "\n",
       "       natural_gas_emission_factor electricity_emission_factor  ...  \\\n",
       "44032                            1                           1  ...   \n",
       "44036                            1                           1  ...   \n",
       "44040                            1                           1  ...   \n",
       "44044                            1                           1  ...   \n",
       "44160                            1                           1  ...   \n",
       "...                            ...                         ...  ...   \n",
       "506892                           1                           1  ...   \n",
       "507008                           1                           1  ...   \n",
       "507012                           1                           1  ...   \n",
       "507016                           1                           1  ...   \n",
       "507020                           1                           1  ...   \n",
       "\n",
       "       bioethanol_capacity xylenes_methyl_alcohol_capacity  \\\n",
       "44032                    1                               4   \n",
       "44036                    1                               4   \n",
       "44040                    1                               4   \n",
       "44044                    1                               4   \n",
       "44160                    1                               4   \n",
       "...                    ...                             ...   \n",
       "506892                   1                               4   \n",
       "507008                   1                               4   \n",
       "507012                   1                               4   \n",
       "507016                   1                               4   \n",
       "507020                   1                               4   \n",
       "\n",
       "       ethylene_methanol_capacity final_treatment recycling extra_demand  \\\n",
       "44032                           4               1         4            1   \n",
       "44036                           4               1         4            1   \n",
       "44040                           4               1         4            1   \n",
       "44044                           4               1         4            1   \n",
       "44160                           4               1         4            1   \n",
       "...                           ...             ...       ...          ...   \n",
       "506892                          4               4         4            1   \n",
       "507008                          4               4         4            1   \n",
       "507012                          4               4         4            1   \n",
       "507016                          4               4         4            1   \n",
       "507020                          4               4         4            1   \n",
       "\n",
       "       product_demand fertiliser_production fertiliser_use_phase  \\\n",
       "44032               4                     1                    1   \n",
       "44036               4                     1                    1   \n",
       "44040               4                     1                    1   \n",
       "44044               4                     1                    1   \n",
       "44160               4                     1                    1   \n",
       "...               ...                   ...                  ...   \n",
       "506892              4                     4                    2   \n",
       "507008              4                     4                    2   \n",
       "507012              4                     4                    2   \n",
       "507016              4                     4                    2   \n",
       "507020              4                     4                    2   \n",
       "\n",
       "       fertiliser_demand  \n",
       "44032                  1  \n",
       "44036                  1  \n",
       "44040                  1  \n",
       "44044                  1  \n",
       "44160                  1  \n",
       "...                  ...  \n",
       "506892                 3  \n",
       "507008                 3  \n",
       "507012                 3  \n",
       "507016                 3  \n",
       "507020                 3  \n",
       "\n",
       "[128 rows x 25 columns]"
      ]
     },
     "execution_count": 56,
     "metadata": {},
     "output_type": "execute_result"
    }
   ],
   "source": [
    "cols_high"
   ]
  },
  {
   "cell_type": "code",
   "execution_count": 17,
   "id": "837dcdc1-cf71-4e3f-8f99-ba399ca9b548",
   "metadata": {
    "tags": []
   },
   "outputs": [
    {
     "data": {
      "image/png": "[encoded data removed]",
      "text/plain": [
       "<Figure size 640x480 with 1 Axes>"
      ]
     },
     "metadata": {},
     "output_type": "display_data"
    }
   ],
   "source": [
    "sns.scatterplot(results, x=\"EmissionsBySource_Elec\", y=\"EmissionsBySource_NG\", hue=\"ethylene_methanol_capacity\", alpha=0.5);"
   ]
  },
  {
   "cell_type": "code",
   "execution_count": null,
   "id": "0db5ce41-206a-4819-8f38-216a93897179",
   "metadata": {
    "tags": []
   },
   "outputs": [],
   "source": [
    "sns.scatterplot(results, x=\"ElecReq\", y=\"NGReq\", hue=\"ethylene_methanol_capacity\", alpha=0.5);"
   ]
  },
  {
   "cell_type": "code",
   "execution_count": null,
   "id": "526bf0b4-9679-48e8-a7e1-b39802eb2dc8",
   "metadata": {
    "tags": []
   },
   "outputs": [],
   "source": [
    "sns.scatterplot(results, x=\"ElecReq\", y=\"NGReq\", hue=\"product_demand\", alpha=0.5);"
   ]
  },
  {
   "cell_type": "code",
   "execution_count": null,
   "id": "2e89d671-d5fb-449d-a3ea-5fe5347f2422",
   "metadata": {
    "tags": []
   },
   "outputs": [],
   "source": [
    "results[\"ambition\"] = np.log(results[baseline.keys()].astype(int).product(axis=1))"
   ]
  },
  {
   "cell_type": "code",
   "execution_count": null,
   "id": "84cc3ee8-7024-423b-b194-0dc4334dc469",
   "metadata": {
    "tags": []
   },
   "outputs": [],
   "source": [
    "sns.scatterplot(results, x=\"ElecReq\", y=\"NGReq\", hue=\"ambition\", alpha=0.5);"
   ]
  },
  {
   "cell_type": "code",
   "execution_count": null,
   "id": "441221b1-8e18-47f2-9638-cc04a267152d",
   "metadata": {},
   "outputs": [],
   "source": [
    "years = list(range(2020, 2051, 5))\n",
    "over_time = pd.DataFrame([\n",
    "    pd.read_parquet(f\"enumerated_results_{i}.parquet\", columns=[\"GHG_total\"])[\"GHG_total\"]\n",
    "    for i in range(7)\n",
    "], index=years).T"
   ]
  },
  {
   "cell_type": "code",
   "execution_count": null,
   "id": "6fc2c211-7436-484d-8b68-b82fbcedbf7e",
   "metadata": {
    "tags": []
   },
   "outputs": [],
   "source": [
    "d = (over_time / 1e9).values.T\n",
    "d.shape"
   ]
  },
  {
   "cell_type": "code",
   "execution_count": null,
   "id": "9c82c48f-5c71-464c-bb4e-f1fcd2c9ed8e",
   "metadata": {
    "tags": []
   },
   "outputs": [],
   "source": [
    "plt.plot(years, d[:, ::21], alpha=0.005, c='k');"
   ]
  },
  {
   "cell_type": "code",
   "execution_count": null,
   "id": "5919f388-452a-424e-8984-1e79cf426939",
   "metadata": {
    "tags": []
   },
   "outputs": [],
   "source": [
    "fig, ax = plt.subplots(1, 7, sharey=True, sharex=False)\n",
    "bins = np.arange(0, 5, 0.1);\n",
    "for i in range(7):\n",
    "    ax[i].hist(d[i]/1000, bins=bins, orientation='horizontal', density=False)\n",
    "    ax[i].set_frame_on(False)\n",
    "    #ax[i].xaxis.set_visible(False)\n",
    "    ax[i].set_xticks([])\n",
    "    ax[i].set_xlabel(years[i])\n",
    "    if i > 0:\n",
    "        ax[i].yaxis.set_ticks_position(\"none\")\n",
    "    ax[i].plot(0, d[i, 0]/1000, 'ro', ms=8, clip_on=False);\n",
    "    ax[i].axhline(0, c='k', lw=0.75);\n",
    "ax[0].set_ylabel(\"Total GHG emissions [GtCO2e]\");\n",
    "ax[-1].annotate(\"Baseline\", xy=(0, d[-1, 0]/1000), xytext=(8, 0), textcoords='offset points', c='r', va='center')"
   ]
  },
  {
   "cell_type": "code",
   "execution_count": null,
   "id": "05971c8f-8240-49a5-ba0c-5e673c315796",
   "metadata": {
    "tags": []
   },
   "outputs": [],
   "source": [
    "over_time.iloc[0]"
   ]
  },
  {
   "cell_type": "code",
   "execution_count": null,
   "id": "3860ed8f-0e11-4ff2-ac98-ec997b46643b",
   "metadata": {
    "tags": []
   },
   "outputs": [],
   "source": [
    "axis = ax[0]\n",
    "axis."
   ]
  },
  {
   "cell_type": "code",
   "execution_count": null,
   "id": "99d1650d-5388-45af-bd3b-e39422b4fd53",
   "metadata": {},
   "outputs": [],
   "source": [
    "x.set_ticks_position("
   ]
  }
 ],
 "metadata": {
  "kernelspec": {
   "display_name": "Python 3 (ipykernel)",
   "language": "python",
   "name": "python3"
  },
  "language_info": {
   "codemirror_mode": {
    "name": "ipython",
    "version": 3
   },
   "file_extension": ".py",
   "mimetype": "text/x-python",
   "name": "python",
   "nbconvert_exporter": "python",
   "pygments_lexer": "ipython3",
   "version": "3.10.14"
  }
 },
 "nbformat": 4,
 "nbformat_minor": 5
}
