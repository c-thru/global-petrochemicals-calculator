{
 "cells": [
  {
   "cell_type": "code",
   "execution_count": null,
   "id": "8230d6d6-6082-4c37-88af-17c07b9eeae0",
   "metadata": {
    "tags": []
   },
   "outputs": [],
   "source": [
    "import numpy as np\n",
    "import logging\n",
    "#logging.getLogger(\"imperative_model\").setLevel(logging.DEBUG)\n",
    "#logging.basicConfig(level=logging.DEBUG)\n",
    "from floweaver import weave, Dataset\n",
    "\n",
    "from utils import update_sankey_data\n",
    "from sankey_definitions import sdd, sdd_chemical_synthesis, sdd_primary, sdd_primary_detailed, palette\n",
    "import load_model"
   ]
  },
  {
   "cell_type": "code",
   "execution_count": null,
   "id": "11e19021-084a-4da4-887e-34a96b8e64a4",
   "metadata": {
    "tags": []
   },
   "outputs": [],
   "source": [
    "%load_ext autoreload\n",
    "%autoreload 2"
   ]
  },
  {
   "cell_type": "code",
   "execution_count": null,
   "id": "24364d44-e0f1-414f-8a6f-7921e9f960de",
   "metadata": {
    "tags": []
   },
   "outputs": [],
   "source": [
    "model_data = load_model.load_model()"
   ]
  },
  {
   "cell_type": "code",
   "execution_count": null,
   "id": "0d885160",
   "metadata": {
    "scrolled": true,
    "tags": []
   },
   "outputs": [],
   "source": [
    "%run load_model_polymers.py\n",
    "model, recipe_data = load_model.build_model(model_data)\n",
    "recipe_data, other_results = define_polymer_model(\n",
    "    model, \n",
    "    recipe_data, \n",
    "    processes_with_elec_req=[\n",
    "        \"DehydrogenationOfPropane\",\n",
    "        \"SteamCrackingOfNaphthaMaxEthylene\", \n",
    "        \"SteamCrackingOfNaphthaMaxPropylene\"\n",
    "    ]\n",
    ")"
   ]
  },
  {
   "cell_type": "code",
   "execution_count": null,
   "id": "f5e2f2dd",
   "metadata": {
    "tags": []
   },
   "outputs": [],
   "source": [
    "flows_sym = model.to_flows(recipe_data, flow_ids=True)\n",
    "func = model.lambdify(recipe_data)\n",
    "\n",
    "# Work around dodgy floweaver behaviour -- flows index is reset when Dataset\n",
    "# is created. This only works because not using dim_process etc.\n",
    "dataset = Dataset(flows_sym)\n",
    "dataset._flows = dataset._table = flows_sym.set_index(\"id\")"
   ]
  },
  {
   "cell_type": "code",
   "execution_count": null,
   "id": "4bcbdc40-8781-4ca7-bf87-8cbfc0cb7bb2",
   "metadata": {
    "tags": []
   },
   "outputs": [],
   "source": [
    "data = {}\n",
    "data[Z_product] = [3] * len(product_names)\n",
    "data[Z_EOL] = [1] * len(product_names)\n",
    "data[RR] = [0.0] * len(polymer_objects)\n",
    "data[a_PE_PP_mech_recyclable] = 1\n",
    "data[C_ethyl_alcohol_from_biomass] = 0\n",
    "data[C_ethylene_from_methyl_alcohol] = 20\n",
    "data[C_xylenes_from_methyl_alcohol] = 0\n",
    "data[C_xylenes_from_naphtha] = 5\n",
    "data[C_green_hydrogen] = 0\n",
    "data[C_blue_hydrogen] = 0\n",
    "data[k_biomass_feedstock_fraction] = [1./6] * 6\n",
    "data[Z_extra] = [1, 1, 1, 5]\n",
    "data[k_olefins_from_paraffins_ethane_fraction] = 0.4"
   ]
  },
  {
   "cell_type": "code",
   "execution_count": null,
   "id": "adb384f1-278e-43a7-b9a3-fc5161d6e1b0",
   "metadata": {
    "tags": []
   },
   "outputs": [],
   "source": [
    "# Do the floweaver calcs up front:\n",
    "sankey_eqns = weave(sdd_primary_detailed, dataset, palette=palette)\n",
    "\n",
    "w = update_sankey_data(sankey_eqns, func(data)).to_widget(width=1000, height=900, debugging=True)\n",
    "w.children[0].scale = 2\n",
    "\n",
    "# Uncomment this to show static Sankey using the data above\n",
    "#w"
   ]
  },
  {
   "cell_type": "markdown",
   "id": "f7af2322",
   "metadata": {},
   "source": [
    "Interactive Sankey diagram with sliders for parameters:"
   ]
  },
  {
   "cell_type": "code",
   "execution_count": null,
   "id": "23f35b01-b0fb-41be-9117-642defec3561",
   "metadata": {
    "tags": []
   },
   "outputs": [],
   "source": [
    "from ipywidgets import interactive, IntSlider, HBox\n",
    "\n",
    "def update_sankey(**params):\n",
    "    # collapse vector params\n",
    "    params[\"Z_extra\"] = [params[\"ZeB\"], params[\"ZeT\"], params[\"ZeX\"], params[\"ZeM\"]]\n",
    "    params[\"Z_product\"] = [3] * len(product_names)\n",
    "    params[\"Z_product\"][1] = params[\"d1\"]\n",
    "    params[\"Z_EOL\"] = params[\"Z_product\"]\n",
    "    params[\"RR\"] = [params[\"rr\"]] * len(polymer_objects)\n",
    "    params[\"k_biomass_feedstock_fraction\"] = [1./6] * 6\n",
    "\n",
    "    new_w = update_sankey_data(sankey_eqns, func(params)).to_widget()\n",
    "    if hasattr(w, \"links\"):\n",
    "        w.links = new_w.links\n",
    "    else:\n",
    "        w.children[0].links = new_w.links  # debugging\n",
    "\n",
    "ui = interactive(\n",
    "    update_sankey,\n",
    "    d1=(0., 10.), \n",
    "    rr=(0., 1.), \n",
    "    a_PE_PP_mech_recyclable=(0., 1.), \n",
    "    C_ethyl_alcohol_from_biomass=(0, 25), \n",
    "    C_ethylene_from_methyl_alcohol=(0, 25), \n",
    "    C_xylenes_from_methyl_alcohol=(0, 25), \n",
    "    C_xylenes_from_naphtha=(0, 25),\n",
    "    C_blue_hydrogen=(0., 10.),\n",
    "    C_green_hydrogen=(0., 10.),\n",
    "    ZeB=(0., 10.),\n",
    "    ZeT=(0., 10.),\n",
    "    ZeX=(0., 10.),\n",
    "    ZeM=(0., 10.),\n",
    "    k_olefins_from_paraffins_ethane_fraction=(0., 1.)\n",
    ")"
   ]
  },
  {
   "cell_type": "code",
   "execution_count": null,
   "id": "e0faa82d",
   "metadata": {
    "tags": []
   },
   "outputs": [],
   "source": [
    "HBox([ui, w])"
   ]
  },
  {
   "cell_type": "code",
   "execution_count": null,
   "id": "e2d9325e-d659-4e8c-b090-d832a614a770",
   "metadata": {},
   "outputs": [],
   "source": []
  }
 ],
 "metadata": {
  "kernelspec": {
   "display_name": "Python 3 (ipykernel)",
   "language": "python",
   "name": "python3"
  },
  "language_info": {
   "codemirror_mode": {
    "name": "ipython",
    "version": 3
   },
   "file_extension": ".py",
   "mimetype": "text/x-python",
   "name": "python",
   "nbconvert_exporter": "python",
   "pygments_lexer": "ipython3",
   "version": "3.10.13"
  }
 },
 "nbformat": 4,
 "nbformat_minor": 5
}
