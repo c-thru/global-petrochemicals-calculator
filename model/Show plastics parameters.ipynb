{
 "cells": [
  {
   "cell_type": "markdown",
   "id": "5031829b-2678-405f-8cbb-f76d143c61bb",
   "metadata": {},
   "source": [
    "# Plastics production & recycling"
   ]
  },
  {
   "cell_type": "code",
   "execution_count": 1,
   "id": "1d45130f-d8da-401f-a834-c44f2f909702",
   "metadata": {
    "tags": []
   },
   "outputs": [],
   "source": [
    "import pickle\n",
    "with open(\"plastics_sankey.pickle\", \"rb\") as f:\n",
    "    saved = pickle.load(f)"
   ]
  },
  {
   "cell_type": "code",
   "execution_count": 2,
   "id": "1d37d7d0-9ab6-4e4b-8513-0dc7ae1957f4",
   "metadata": {
    "tags": []
   },
   "outputs": [],
   "source": [
    "sankey_eqns = saved[\"sankey\"]\n",
    "data = saved[\"data\"]"
   ]
  },
  {
   "cell_type": "code",
   "execution_count": 3,
   "id": "3ac5210e-5f5a-4d63-82af-399d14483fbe",
   "metadata": {
    "tags": []
   },
   "outputs": [],
   "source": [
    "import sympy as sy\n",
    "Z_product = sy.IndexedBase(\"Z_product\")\n",
    "Z_eol = sy.IndexedBase(\"Z_eol\")\n",
    "RR = sy.IndexedBase(\"RR\")  # recycling rate\n",
    "a_PE_PP_mech_recyclable = sy.Symbol(\"a_PE_PP_mech_recyclable\")\n",
    "\n",
    "from sankey_definitions import polymer_objects"
   ]
  },
  {
   "cell_type": "code",
   "execution_count": 4,
   "id": "34baea3e-049d-4ef3-98f2-ef3c52e9f004",
   "metadata": {
    "tags": []
   },
   "outputs": [],
   "source": [
    "from attrs import evolve\n",
    "def subs_in_sankey_data(data, values):\n",
    "    new_links = [\n",
    "        evolve(link, data={k: v.xreplace({**values}) for k, v in link.data.items()})\n",
    "        for link in data.links\n",
    "    ]\n",
    "    new_data = evolve(data, links=new_links)\n",
    "    return new_data"
   ]
  },
  {
   "cell_type": "code",
   "execution_count": 5,
   "id": "7d2936a5-572f-4fe3-9aa9-0253e971c9f6",
   "metadata": {
    "tags": []
   },
   "outputs": [
    {
     "data": {
      "application/vnd.jupyter.widget-view+json": {
       "model_id": "60dfbd510909497e8dc7b170b62a860a",
       "version_major": 2,
       "version_minor": 0
      },
      "text/plain": [
       "SankeyWidget(groups=[{'id': '__wpt1_ChemicalRecycling_0', 'type': 'group', 'title': '', 'nodes': ['__wpt1_Chem…"
      ]
     },
     "metadata": {},
     "output_type": "display_data"
    }
   ],
   "source": [
    "w = subs_in_sankey_data(sankey_eqns, data).to_widget(width=1400, height=600)\n",
    "w.scale = 15\n",
    "w"
   ]
  },
  {
   "cell_type": "code",
   "execution_count": 6,
   "id": "23f35b01-b0fb-41be-9117-642defec3561",
   "metadata": {
    "tags": []
   },
   "outputs": [
    {
     "data": {
      "application/vnd.jupyter.widget-view+json": {
       "model_id": "0c10672cf8d546788f8471435ecca5ba",
       "version_major": 2,
       "version_minor": 0
      },
      "text/plain": [
       "interactive(children=(FloatSlider(value=1.0, description='Demand 1', max=3.0, style=SliderStyle(description_wi…"
      ]
     },
     "metadata": {},
     "output_type": "display_data"
    }
   ],
   "source": [
    "from ipywidgets import interact, FloatSlider\n",
    "style = {'description_width': 'initial'}\n",
    "@interact(d1=FloatSlider(1.0, min=0., max=3., description=\"Demand 1\", style=style),\n",
    "          rr=FloatSlider(0.3, min=0., max=1., description=\"Recycling rate\", style=style),\n",
    "          a=FloatSlider(0.5, min=0., max=1., description=\"Mech recycling\", style=style))\n",
    "def calc_flows(d1, rr, a):\n",
    "    d = {**data, Z_product[1]: d1, a_PE_PP_mech_recyclable: a}\n",
    "    for k in range(len(polymer_objects)):\n",
    "        d[RR[k]] = rr\n",
    "    new_w = subs_in_sankey_data(sankey_eqns, d).to_widget()\n",
    "    w.links = new_w.links"
   ]
  },
  {
   "cell_type": "code",
   "execution_count": null,
   "id": "dd45ec13-e995-4f08-b695-a849b203f1ba",
   "metadata": {},
   "outputs": [],
   "source": []
  },
  {
   "cell_type": "code",
   "execution_count": null,
   "id": "0e0021c2-674b-4bbe-aed8-dff32b8a6836",
   "metadata": {},
   "outputs": [],
   "source": []
  }
 ],
 "metadata": {
  "kernelspec": {
   "display_name": "Python 3 (ipykernel)",
   "language": "python",
   "name": "python3"
  },
  "language_info": {
   "codemirror_mode": {
    "name": "ipython",
    "version": 3
   },
   "file_extension": ".py",
   "mimetype": "text/x-python",
   "name": "python",
   "nbconvert_exporter": "python",
   "pygments_lexer": "ipython3",
   "version": "3.10.10"
  }
 },
 "nbformat": 4,
 "nbformat_minor": 5
}
