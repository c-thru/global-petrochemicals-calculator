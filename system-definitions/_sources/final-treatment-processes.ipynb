{
 "cells": [
  {
   "cell_type": "markdown",
   "id": "641c8c9d",
   "metadata": {},
   "source": [
    "Final treatment processes\n",
    "=========\n",
    "\n",
    "Polymers at end-of-life that do not get recycled can to any of these:\n",
    "\n",
    "\n",
    "```{system:process} FinalTreatment\n",
    ":become_parent: true\n",
    "```\n",
    "\n",
    "\n",
    "```{system:process} Landfilling\n",
    "---\n",
    "consumes: |\n",
    "    MixedPolymersAtEOL                         = 1 kg\n",
    "---\n",
    "```\n",
    "\n",
    "```{system:process} Incineration\n",
    "---\n",
    "consumes: |\n",
    "    MixedPolymersAtEOL                         = 1 kg\n",
    "---\n",
    "```\n",
    "\n",
    "```{system:process} Mismanagement\n",
    "---\n",
    "consumes: |\n",
    "    MixedPolymersAtEOL                         = 1 kg\n",
    "---\n",
    "```\n",
    "\n",
    "\n",
    "\n",
    "```{end-sub-processes}\n",
    "```"
   ]
  }
 ],
 "metadata": {
  "jupytext": {
   "text_representation": {
    "extension": ".md",
    "format_name": "myst",
    "format_version": 0.13,
    "jupytext_version": "1.13.8"
   }
  },
  "kernelspec": {
   "display_name": "Python 3 (ipykernel)",
   "language": "python",
   "name": "python3"
  },
  "source_map": [
   12
  ]
 },
 "nbformat": 4,
 "nbformat_minor": 5
}