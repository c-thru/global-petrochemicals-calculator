{
 "cells": [
  {
   "cell_type": "markdown",
   "id": "319f1874",
   "metadata": {},
   "source": [
    "Other demand for chemicals\n",
    "========\n",
    "\n",
    "This model mostly focuses on polymer demand, but there are other uses of BTX in particular that are missed without this. These are included explicitly here in aggregated form.\n",
    "\n",
    "```{system:process} OtherConsumptionOfBenzene\n",
    "---\n",
    "consumes: |\n",
    "  ukf:Benzene = 1 kg\n",
    "---\n",
    "```\n",
    "\n",
    "```{system:process} OtherConsumptionOfToluene\n",
    "---\n",
    "consumes: |\n",
    "  ukf:Toluene = 1 kg\n",
    "---\n",
    "```\n",
    "\n",
    "```{system:process} OtherConsumptionOfXylenes\n",
    "---\n",
    "consumes: |\n",
    "  ukf:Xylenes = 1 kg\n",
    "---\n",
    "```\n",
    "\n",
    "```{system:process} OtherConsumptionOfMethylAlcohol\n",
    "---\n",
    "consumes: |\n",
    "  ukf:MethylAlcohol = 1 kg\n",
    "---\n",
    "```"
   ]
  }
 ],
 "metadata": {
  "jupytext": {
   "text_representation": {
    "extension": ".md",
    "format_name": "myst",
    "format_version": 0.13,
    "jupytext_version": "1.13.8"
   }
  },
  "kernelspec": {
   "display_name": "Python 3 (ipykernel)",
   "language": "python",
   "name": "python3"
  },
  "source_map": [
   12
  ]
 },
 "nbformat": 4,
 "nbformat_minor": 5
}